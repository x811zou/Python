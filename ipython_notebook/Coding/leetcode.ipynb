{
 "cells": [
  {
   "cell_type": "code",
   "execution_count": 2,
   "metadata": {},
   "outputs": [
    {
     "ename": "ModuleNotFoundError",
     "evalue": "No module named 'numpy'",
     "output_type": "error",
     "traceback": [
      "\u001b[0;31m---------------------------------------------------------------------------\u001b[0m",
      "\u001b[0;31mModuleNotFoundError\u001b[0m                       Traceback (most recent call last)",
      "Cell \u001b[0;32mIn[2], line 2\u001b[0m\n\u001b[1;32m      1\u001b[0m \u001b[38;5;28;01mimport\u001b[39;00m \u001b[38;5;21;01msys\u001b[39;00m\n\u001b[0;32m----> 2\u001b[0m \u001b[38;5;28;01mimport\u001b[39;00m \u001b[38;5;21;01mnumpy\u001b[39;00m \u001b[38;5;28;01mas\u001b[39;00m \u001b[38;5;21;01mnp\u001b[39;00m\n\u001b[1;32m      3\u001b[0m \u001b[38;5;28;01mimport\u001b[39;00m \u001b[38;5;21;01mpandas\u001b[39;00m \u001b[38;5;28;01mas\u001b[39;00m \u001b[38;5;21;01mpd\u001b[39;00m\n\u001b[1;32m      4\u001b[0m \u001b[38;5;28;01mimport\u001b[39;00m \u001b[38;5;21;01mmath\u001b[39;00m\n",
      "\u001b[0;31mModuleNotFoundError\u001b[0m: No module named 'numpy'"
     ]
    }
   ],
   "source": [
    "import sys\n",
    "import numpy as np\n",
    "import pandas as pd\n",
    "import math\n",
    "\n",
    "import matplotlib.pyplot as plt\n",
    "import re\n",
    "from collections import deque"
   ]
  },
  {
   "cell_type": "markdown",
   "metadata": {},
   "source": []
  },
  {
   "cell_type": "markdown",
   "metadata": {},
   "source": [
    "# Easy"
   ]
  },
  {
   "cell_type": "markdown",
   "metadata": {},
   "source": [
    "## Two pointers"
   ]
  },
  {
   "cell_type": "markdown",
   "metadata": {},
   "source": [
    "### 75. [Sort Colors](https://leetcode.com/problems/sort-colors/description/)\n",
    "- sort an array containing three distinct integers, often representing colors. The typical integers are 0, 1, and 2"
   ]
  },
  {
   "cell_type": "code",
   "execution_count": null,
   "metadata": {},
   "outputs": [],
   "source": [
    "def sort_array(arr):\n",
    "    # Initialize counts for 0, 1, 2\n",
    "    counts = [0, 0, 0]\n",
    "    \n",
    "    # Count the occurrences of each color\n",
    "    for i in range(len(arr)):\n",
    "        counts[arr[i]] += 1  # Increment the count for the value in arr[i]\n",
    "        \n",
    "    j = 0\n",
    "    # Rebuild the array based on the counts\n",
    "    for i in range(len(counts)):\n",
    "        for k in range(counts[i]):\n",
    "            arr[j] = i\n",
    "            j += 1\n",
    "          \n",
    "    assert j == len(arr)  # Ensure all elements have been placed correctly\n",
    "    return arr\n",
    "\n",
    "\n",
    "# time:  O(n)\n",
    "# usage: O(1)"
   ]
  },
  {
   "cell_type": "code",
   "execution_count": 3,
   "metadata": {},
   "outputs": [
    {
     "data": {
      "text/plain": [
       "[0, 0, 1, 1, 2, 2]"
      ]
     },
     "execution_count": 3,
     "metadata": {},
     "output_type": "execute_result"
    }
   ],
   "source": [
    "def sort(data):\n",
    "    num_0  = data.count(0)\n",
    "    num_1  = data.count(1)\n",
    "    num_2  = data.count(2)\n",
    "    data[0 : num_0] = [0] * num_0\n",
    "    data[num_0 : num_0 + num_1] = [1] * num_1\n",
    "    data[num_0 + num_1 : num_0 + num_1 + num_2] = [2] * num_2\n",
    "    return data\n",
    "\n",
    "data = [2,0,2,1,1,0]\n",
    "sort(data)\n",
    "\n",
    "# time:  O(n)\n",
    "# usage: O(1)"
   ]
  },
  {
   "cell_type": "code",
   "execution_count": 5,
   "metadata": {},
   "outputs": [],
   "source": [
    "def sort_color(array):\n",
    "    count_0 = 0\n",
    "    count_1 = 0\n",
    "    count_2 = 0\n",
    "    for i in range(len(array)):\n",
    "        if array[i] == 0:\n",
    "            count_0 += 1\n",
    "        elif array[i] == 1:\n",
    "            count_1 += 1\n",
    "        elif array[i] == 2:\n",
    "            count_2 += 1\n",
    "    array[:count_0] = [0]*count_0\n",
    "    array[count_0:count_0+count_1] = [1]*count_1\n",
    "    array[count_0+count_1:] = [2]*count_2\n",
    "    return array\n",
    "\n",
    "# time:  O(n)\n",
    "# usage: O(1)"
   ]
  },
  {
   "cell_type": "code",
   "execution_count": 6,
   "metadata": {},
   "outputs": [
    {
     "data": {
      "text/plain": [
       "[0, 0, 1, 1, 2, 2]"
      ]
     },
     "execution_count": 6,
     "metadata": {},
     "output_type": "execute_result"
    }
   ],
   "source": [
    "array = [2,0,2,1,1,0]\n",
    "new_array = sort_color(array)\n",
    "new_array"
   ]
  },
  {
   "cell_type": "code",
   "execution_count": 7,
   "metadata": {},
   "outputs": [
    {
     "data": {
      "text/plain": [
       "[0, 1, 2]"
      ]
     },
     "execution_count": 7,
     "metadata": {},
     "output_type": "execute_result"
    }
   ],
   "source": [
    "array = [2,0,1]\n",
    "new_array = sort_color(array)\n",
    "new_array"
   ]
  },
  {
   "cell_type": "markdown",
   "metadata": {},
   "source": [
    "### 88. [Merged sorted array](https://leetcode.com/problems/merge-sorted-array/description/)\n",
    "- You are given two sorted integer arrays nums1 and nums2, and the task is to merge nums2 into nums1 as one sorted array.\n",
    "- nums1 has a size of m + n, where the first m elements denote the elements of the first array, and the last n elements are set to 0 and should be ignored.\n",
    "- nums2 has a size of n and contains n elements.\n",
    "- You need to modify nums1 in-place to become a sorted merged array."
   ]
  },
  {
   "cell_type": "code",
   "execution_count": 4,
   "metadata": {},
   "outputs": [
    {
     "name": "stdout",
     "output_type": "stream",
     "text": [
      "[1, 2, 2, 3, 5, 6]\n"
     ]
    }
   ],
   "source": [
    "def merge_sort(nums1, nums2):\n",
    "    nums1_idx = m-1\n",
    "    nums2_idx = n-1\n",
    "    nums1_new_idx = m+n-1\n",
    "    while nums1_idx >= 0 and nums2_idx >= 0:\n",
    "        if nums1[nums1_idx] > nums2[nums2_idx]:\n",
    "            nums1[nums1_new_idx] = nums1[nums1_idx]\n",
    "            nums1_idx -= 1\n",
    "        else:\n",
    "            nums1[nums1_new_idx] = nums2[nums2_idx]\n",
    "            nums2_idx -= 1\n",
    "        nums1_new_idx -= 1\n",
    "    if nums2_idx > 0:\n",
    "        nums1[:nums2_idx+1] = nums2[:nums2_idx+1]\n",
    "    return nums1\n",
    "\n",
    "if __name__ == '__main__':\n",
    "    nums1 = [1,2,3,0,0,0]\n",
    "    nums2 = [2,5,6]\n",
    "    m = 3\n",
    "    n = 3\n",
    "    print(merge_sort(nums1, nums2))"
   ]
  },
  {
   "cell_type": "code",
   "execution_count": 1,
   "metadata": {},
   "outputs": [],
   "source": [
    "def merge(nums1, m, nums2, n):\n",
    "    i = m - 1  # Pointer for nums1\n",
    "    j = n - 1  # Pointer for nums2\n",
    "    k = m + n - 1  # Pointer for the last position in nums1\n",
    "    \n",
    "    while i >= 0 and j >= 0:\n",
    "        if nums1[i] > nums2[j]:\n",
    "            nums1[k] = nums1[i]\n",
    "            i -= 1\n",
    "        else:\n",
    "            nums1[k] = nums2[j]\n",
    "            j -= 1\n",
    "        k -= 1\n",
    "    \n",
    "    # If nums2 is not yet exhausted. Beucase we are copying things from nums2 and num1, if nums2 is not exhausted, we don't need to do anything.\n",
    "    while j >= 0:\n",
    "        nums1[k] = nums2[j]\n",
    "        j -= 1\n",
    "        k -= 1\n",
    "    return nums1"
   ]
  },
  {
   "cell_type": "code",
   "execution_count": 5,
   "metadata": {},
   "outputs": [
    {
     "data": {
      "text/plain": [
       "[1, 2, 2, 3, 5, 6]"
      ]
     },
     "execution_count": 5,
     "metadata": {},
     "output_type": "execute_result"
    }
   ],
   "source": [
    "nums1 = [1,2,3,0,0,0]\n",
    "m = 3\n",
    "nums2 = [2,5,6]\n",
    "n = 3\n",
    "\n",
    "new_nums1 = merge(nums1, m, nums2, n)\n",
    "new_nums1"
   ]
  },
  {
   "cell_type": "markdown",
   "metadata": {},
   "source": [
    "### remove zeros from a list to the end of list"
   ]
  },
  {
   "cell_type": "code",
   "execution_count": 2,
   "metadata": {},
   "outputs": [
    {
     "data": {
      "text/plain": [
       "[1, 3, 12]"
      ]
     },
     "execution_count": 2,
     "metadata": {},
     "output_type": "execute_result"
    }
   ],
   "source": [
    "def remove_zeros(nums):\n",
    "    i = 0\n",
    "    while i < len(nums):\n",
    "        if nums[i] == 0:\n",
    "            nums.pop(i)\n",
    "        else:\n",
    "            i += 1\n",
    "    return nums\n",
    "\n",
    "nums = [0,1,0,3,12]\n",
    "remove_zeros(nums)"
   ]
  },
  {
   "cell_type": "code",
   "execution_count": 3,
   "metadata": {},
   "outputs": [
    {
     "data": {
      "text/plain": [
       "[1, 3, 12, 0, 0]"
      ]
     },
     "execution_count": 3,
     "metadata": {},
     "output_type": "execute_result"
    }
   ],
   "source": [
    "def remove_zeros_toend(nums):\n",
    "    # i is the index of the first zero\n",
    "    i = 0\n",
    "    for j in range(len(nums)):\n",
    "        if nums[j] != 0:\n",
    "            nums[i], nums[j] = nums[j], nums[i]\n",
    "            i += 1\n",
    "    return nums\n",
    "\n",
    "nums = [0,1,0,3,12] \n",
    "remove_zeros_toend(nums)"
   ]
  },
  {
   "cell_type": "markdown",
   "metadata": {},
   "source": [
    "## Linked List"
   ]
  },
  {
   "cell_type": "markdown",
   "metadata": {},
   "source": [
    "### Reverse linked list - Given the head of a singly linked list, reverse the list, and return the reversed list."
   ]
  },
  {
   "cell_type": "code",
   "execution_count": 69,
   "metadata": {},
   "outputs": [],
   "source": [
    "class ListNode:\n",
    "    def __init__(self, value=0, next=None):\n",
    "        self.value = value\n",
    "        self.next = next\n",
    "\n",
    "def reverse_linked_list(head):\n",
    "    prev = None\n",
    "    current = head #1\n",
    "    \n",
    "    while current is not None: #The loop continues until current becomes None, which happens when we reach the end of the list.\n",
    "        next_node = current.next  # Store the next node    2\n",
    "        current.next = prev       # Reverse the link       none\n",
    "        # After reversing the link, we move the prev pointer to the current node because, in the next iteration, this will become the previous node.\n",
    "        # We then move the current pointer to the next_node (which we saved earlier) to continue reversing the next node in the list.\n",
    "        prev = current            # Move prev to this node 1\n",
    "        current = next_node       # Move to the next node  2\n",
    "    \n",
    "    return prev  # New head of the reversed list\n",
    "\n",
    "def create_linked_list(values):\n",
    "    if not values:\n",
    "        return None\n",
    "    \n",
    "    head = ListNode(values[0])\n",
    "    current = head\n",
    "    \n",
    "    for value in values[1:]:\n",
    "        current.next = ListNode(value)\n",
    "        current = current.next\n",
    "    \n",
    "    return head\n",
    "\n",
    "def print_linked_list(head):\n",
    "    current = head\n",
    "    while current:\n",
    "        print(current.value, end=\" -> \")\n",
    "        current = current.next\n",
    "    print(\"None\")"
   ]
  },
  {
   "cell_type": "code",
   "execution_count": 71,
   "metadata": {},
   "outputs": [
    {
     "name": "stdout",
     "output_type": "stream",
     "text": [
      "5 -> 4 -> 3 -> 2 -> 1 -> None\n"
     ]
    }
   ],
   "source": [
    "values = [1,2,3,4,5]\n",
    "head = create_linked_list(values)\n",
    "reversed_head = reverse_linked_list(head)\n",
    "print_linked_list(reversed_head)"
   ]
  },
  {
   "cell_type": "code",
   "execution_count": 72,
   "metadata": {},
   "outputs": [
    {
     "name": "stdout",
     "output_type": "stream",
     "text": [
      "2 -> 1 -> None\n"
     ]
    }
   ],
   "source": [
    "values = [1,2]\n",
    "head = create_linked_list(values)\n",
    "reversed_head = reverse_linked_list(head)\n",
    "print_linked_list(reversed_head)"
   ]
  },
  {
   "cell_type": "code",
   "execution_count": 73,
   "metadata": {},
   "outputs": [
    {
     "name": "stdout",
     "output_type": "stream",
     "text": [
      "None\n"
     ]
    }
   ],
   "source": [
    "values = []\n",
    "head = create_linked_list(values)\n",
    "reversed_head = reverse_linked_list(head)\n",
    "print_linked_list(reversed_head)"
   ]
  },
  {
   "cell_type": "markdown",
   "metadata": {},
   "source": [
    "### merge two sorted lists\n",
    "- You are given the heads of two sorted linked lists list1 and list2.\n",
    "- Merge the two lists into one sorted list. The list should be made by splicing together the nodes of the first two lists.\n",
    "- Return the head of the merged linked list."
   ]
  },
  {
   "cell_type": "code",
   "execution_count": 37,
   "metadata": {},
   "outputs": [],
   "source": [
    "class ListNode:\n",
    "    def __init__(self, val=0, next=None):\n",
    "        self.val = val\n",
    "        self.next = next\n",
    "\n",
    "def mergeTwoLists(list1: ListNode, list2: ListNode) -> ListNode:\n",
    "    # Create a dummy node to help with the merge\n",
    "    dummy = ListNode()\n",
    "    current = dummy\n",
    "    \n",
    "    # Traverse both lists and append the smaller node to the merged list\n",
    "    while list1 and list2:\n",
    "        if list1.val < list2.val:\n",
    "            current.next = list1\n",
    "            list1 = list1.next\n",
    "        else:\n",
    "            current.next = list2\n",
    "            list2 = list2.next\n",
    "        current = current.next\n",
    "    \n",
    "    # If any elements remain in either list, append them\n",
    "    current.next = list1 if list1 else list2\n",
    "    \n",
    "    # The merged list starts after the dummy node\n",
    "    return dummy.next\n"
   ]
  },
  {
   "cell_type": "markdown",
   "metadata": {},
   "source": [
    "## sorting array\n",
    "-  [1, 2, 5, 0, 2, 3] integers 0-15; return sorted array 0-15"
   ]
  },
  {
   "cell_type": "code",
   "execution_count": null,
   "metadata": {},
   "outputs": [],
   "source": [
    "def sort_array(arr):\n",
    "    # Initialize a count array to store counts of integers 0-15\n",
    "    count_arr = [0] * 16\n",
    "    \n",
    "    # Count the occurrences of each number in the input array\n",
    "    for i in arr:\n",
    "        count_arr[i] += 1\n",
    "    \n",
    "    # Rebuild the original array with sorted numbers\n",
    "    non_zero_idx = 0\n",
    "    for j in range(len(count_arr)):\n",
    "        if count_arr[j] != 0:\n",
    "            arr[non_zero_idx:non_zero_idx + count_arr[j]] = [j] * count_arr[j]\n",
    "            non_zero_idx += count_arr[j]\n",
    "    \n",
    "    return arr\n"
   ]
  },
  {
   "cell_type": "markdown",
   "metadata": {},
   "source": [
    "## Binary Search"
   ]
  },
  {
   "cell_type": "markdown",
   "metadata": {},
   "source": [
    "### Binary Search - assumes you have a sorted array and are searching for a specific target value.\n",
    "- return the idx"
   ]
  },
  {
   "cell_type": "code",
   "execution_count": 76,
   "metadata": {},
   "outputs": [],
   "source": [
    "def binary_search(arr, target):\n",
    "    left = 0 \n",
    "    right = len(arr) - 1\n",
    "    \n",
    "    while left <= right:\n",
    "        mid = left + (right - left) // 2  # Calculate the middle index -  calculates the half of the distance between left and right, and then this result is added to left.\n",
    "        \n",
    "        if arr[mid] == target:\n",
    "            return mid  # Target found, return the index\n",
    "        elif arr[mid] < target:\n",
    "            left = mid + 1  # Search in the right half\n",
    "        else:\n",
    "            right = mid - 1  # Search in the left half\n",
    "    \n",
    "    return -1  # Target not found in the array\n"
   ]
  },
  {
   "cell_type": "code",
   "execution_count": 77,
   "metadata": {},
   "outputs": [
    {
     "name": "stdout",
     "output_type": "stream",
     "text": [
      "Target found at index 3\n"
     ]
    }
   ],
   "source": [
    "arr = [1, 3, 5, 7, 9, 11]\n",
    "target = 7\n",
    "\n",
    "index = binary_search(arr, target)\n",
    "\n",
    "if index != -1:\n",
    "    print(f\"Target found at index {index}\")\n",
    "else:\n",
    "    print(\"Target not found in the array\")\n"
   ]
  },
  {
   "cell_type": "markdown",
   "metadata": {},
   "source": [
    "### [first bad version](*https://leetcode.com/explore/interview/card/top-interview-questions-easy/96/sorting-and-searching/774/)\n",
    "\n",
    "- You are a product manager, and you are tasked with identifying the first bad version of a product among a series of versions. Suppose you have a function bool isBadVersion(version) that returns true if a specific version is bad and false otherwise.\n",
    "\n",
    "- Assuming all versions after the first bad version are also bad, your goal is to find the first bad version, given n versions labeled from 1 to n.\n",
    "\n",
    "- You should minimize the number of calls to the isBadVersion API."
   ]
  },
  {
   "cell_type": "code",
   "execution_count": null,
   "metadata": {},
   "outputs": [],
   "source": [
    "# The isBadVersion API is already defined for you.\n",
    "# def isBadVersion(version: int) -> bool:\n",
    "\n",
    "def firstBadVersion(n):\n",
    "    left = 1\n",
    "    right = n\n",
    "    # The loop continues until left equals right. At this point, left (or right) points to the first bad version, and that's the result returned.\n",
    "    while left < right:\n",
    "        mid = left + (right - left) // 2\n",
    "        \n",
    "        if isBadVersion(mid):\n",
    "            right = mid  # Look in the left half (including mid)\n",
    "        else:\n",
    "            left = mid + 1  # Look in the right half (excluding mid)\n",
    "    \n",
    "    return left  # or return right, both are the same when left == right\n"
   ]
  },
  {
   "cell_type": "code",
   "execution_count": null,
   "metadata": {},
   "outputs": [],
   "source": []
  },
  {
   "cell_type": "markdown",
   "metadata": {},
   "source": [
    "### 69. [Sqrt(x)](https://leetcode.com/problems/sqrtx/description/)"
   ]
  },
  {
   "cell_type": "code",
   "execution_count": 1,
   "metadata": {},
   "outputs": [],
   "source": [
    "def my_sqrt(x):\n",
    "    half = x/2\n",
    "    while half*half > x:\n",
    "        half = (half + x/half) / 2 \n",
    "#Simply using half / 2 would not account for whether the current guess is too high or too low and would slow down the convergence process.\n",
    "#The expression (half + x / half) / 2 adjusts the guess in a way that is more sophisticated. If half is an overestimate, then x / half will be an underestimate (and vice versa), so their average tends to be a better approximation of the square root than just halving half.\n",
    "    return int(half)"
   ]
  },
  {
   "cell_type": "code",
   "execution_count": 35,
   "metadata": {},
   "outputs": [
    {
     "data": {
      "text/plain": [
       "2"
      ]
     },
     "execution_count": 35,
     "metadata": {},
     "output_type": "execute_result"
    }
   ],
   "source": [
    "x = 4\n",
    "my_sqrt(x)"
   ]
  },
  {
   "cell_type": "code",
   "execution_count": 36,
   "metadata": {},
   "outputs": [
    {
     "data": {
      "text/plain": [
       "2"
      ]
     },
     "execution_count": 36,
     "metadata": {},
     "output_type": "execute_result"
    }
   ],
   "source": [
    "x = 8\n",
    "my_sqrt(x)"
   ]
  },
  {
   "cell_type": "markdown",
   "metadata": {},
   "source": [
    "## Hashmap - data structure that provides a way to store key-value pairs for efficient retrieval. "
   ]
  },
  {
   "cell_type": "markdown",
   "metadata": {},
   "source": [
    "The key idea behind a HashMap is to use a hash function to compute an index (or hash code) into an array of buckets or slots, from which the desired value can be found."
   ]
  },
  {
   "cell_type": "code",
   "execution_count": 3,
   "metadata": {},
   "outputs": [
    {
     "name": "stdout",
     "output_type": "stream",
     "text": [
      "{'Alice': '555-1234', 'Bob': '555-5678', 'Charlie': '555-8765'}\n"
     ]
    }
   ],
   "source": [
    "# Create a dictionary (HashMap)\n",
    "phone_book = {}\n",
    "\n",
    "# Add key-value pairs\n",
    "phone_book['Alice'] = '555-1234'\n",
    "phone_book['Bob'] = '555-5678'\n",
    "phone_book['Charlie'] = '555-8765'\n",
    "\n",
    "print(phone_book)"
   ]
  },
  {
   "cell_type": "code",
   "execution_count": 4,
   "metadata": {},
   "outputs": [
    {
     "name": "stdout",
     "output_type": "stream",
     "text": [
      "Alice's phone number is 555-1234\n"
     ]
    }
   ],
   "source": [
    "# Retrieve a value by key\n",
    "alice_number = phone_book.get('Alice')\n",
    "print(f\"Alice's phone number is {alice_number}\")\n"
   ]
  },
  {
   "cell_type": "code",
   "execution_count": 5,
   "metadata": {},
   "outputs": [
    {
     "name": "stdout",
     "output_type": "stream",
     "text": [
      "{'Alice': '555-4321', 'Bob': '555-5678', 'Charlie': '555-8765'}\n"
     ]
    }
   ],
   "source": [
    "# Update an existing value\n",
    "phone_book['Alice'] = '555-4321'\n",
    "print(phone_book)\n"
   ]
  },
  {
   "cell_type": "code",
   "execution_count": 6,
   "metadata": {},
   "outputs": [
    {
     "name": "stdout",
     "output_type": "stream",
     "text": [
      "Removed Bob's phone number: 555-5678\n",
      "{'Alice': '555-4321', 'Charlie': '555-8765'}\n"
     ]
    }
   ],
   "source": [
    "# Remove a key-value pair\n",
    "removed_number = phone_book.pop('Bob')\n",
    "print(f\"Removed Bob's phone number: {removed_number}\")\n",
    "print(phone_book)\n"
   ]
  },
  {
   "cell_type": "code",
   "execution_count": 7,
   "metadata": {},
   "outputs": [
    {
     "name": "stdout",
     "output_type": "stream",
     "text": [
      "Alice's phone number is 555-4321\n",
      "Charlie's phone number is 555-8765\n"
     ]
    }
   ],
   "source": [
    "# Iterate over keys and values\n",
    "for name, number in phone_book.items():\n",
    "    print(f\"{name}'s phone number is {number}\")\n"
   ]
  },
  {
   "cell_type": "code",
   "execution_count": 8,
   "metadata": {},
   "outputs": [
    {
     "name": "stdout",
     "output_type": "stream",
     "text": [
      "Charlie's number is in the phone book.\n"
     ]
    }
   ],
   "source": [
    "# Check if a key exists\n",
    "if 'Charlie' in phone_book:\n",
    "    print(\"Charlie's number is in the phone book.\")\n",
    "else:\n",
    "    print(\"Charlie's number is not in the phone book.\")\n"
   ]
  },
  {
   "cell_type": "markdown",
   "metadata": {},
   "source": [
    "### [1. Two Sum](https://leetcode.com/explore/interview/card/top-interview-questions-easy/92/array/546/)"
   ]
  },
  {
   "cell_type": "code",
   "execution_count": 1,
   "metadata": {},
   "outputs": [],
   "source": [
    "# assume there is only one solution, return 2 indices\n",
    "# we can go through the list and check if the complement exists in the list\n",
    "# we can certainly skip the numbers that are already checked or higher than the target sum\n",
    "# we use dictionary to store the index of the numbers we have seen so far\n",
    "def two_sum(nums, target):\n",
    "    combination = {}\n",
    "    for i, num in enumerate(nums):\n",
    "        if num > target:\n",
    "            continue\n",
    "        else:\n",
    "            complement = target - num\n",
    "            if complement in combination:\n",
    "                return [combination[complement], i]\n",
    "            combination[num] = i"
   ]
  },
  {
   "cell_type": "code",
   "execution_count": 11,
   "metadata": {},
   "outputs": [
    {
     "data": {
      "text/plain": [
       "[0, 1]"
      ]
     },
     "execution_count": 11,
     "metadata": {},
     "output_type": "execute_result"
    }
   ],
   "source": [
    "nums = [2,7,11,15]\n",
    "target = 9\n",
    "two_sum(nums, target)"
   ]
  },
  {
   "cell_type": "code",
   "execution_count": 12,
   "metadata": {},
   "outputs": [
    {
     "data": {
      "text/plain": [
       "[1, 2]"
      ]
     },
     "execution_count": 12,
     "metadata": {},
     "output_type": "execute_result"
    }
   ],
   "source": [
    "nums = [3,2,4]\n",
    "target = 6\n",
    "two_sum(nums, target)"
   ]
  },
  {
   "cell_type": "code",
   "execution_count": 13,
   "metadata": {},
   "outputs": [
    {
     "data": {
      "text/plain": [
       "[0, 1]"
      ]
     },
     "execution_count": 13,
     "metadata": {},
     "output_type": "execute_result"
    }
   ],
   "source": [
    "nums = [3,3]\n",
    "target = 6\n",
    "two_sum(nums, target)"
   ]
  },
  {
   "cell_type": "code",
   "execution_count": null,
   "metadata": {},
   "outputs": [],
   "source": []
  },
  {
   "cell_type": "code",
   "execution_count": null,
   "metadata": {},
   "outputs": [],
   "source": []
  },
  {
   "cell_type": "code",
   "execution_count": null,
   "metadata": {},
   "outputs": [],
   "source": []
  },
  {
   "cell_type": "markdown",
   "metadata": {},
   "source": [
    "## Stack\n",
    "A stack is a fundamental data structure in computer science that operates on the principle of Last-In, First-Out (LIFO). This means that the last element added to the stack is the first one to be removed. You can think of a stack like a stack of plates: the last plate you put on top is the first one you take off when you need one.<br>\n",
    "1. push: Add an element to the top of the stack.<br>\n",
    "2. Pop: Remove the top element from the stack.<br>\n",
    "3. Peek (or Top): View the top element of the stack without removing it.<br>\n",
    "4. Is Empty: Check whether the stack is empty. <br>\n"
   ]
  },
  {
   "cell_type": "markdown",
   "metadata": {},
   "source": [
    "### reverse a string"
   ]
  },
  {
   "cell_type": "code",
   "execution_count": 48,
   "metadata": {},
   "outputs": [],
   "source": [
    "def reverse_string(s):\n",
    "    stack = []\n",
    "    \n",
    "    # Push all characters of the string onto the stack\n",
    "    for char in s:\n",
    "        stack.append(char)\n",
    "    \n",
    "    reversed_string = ''\n",
    "    \n",
    "    # Pop all characters from the stack and append to the reversed string\n",
    "    while stack:\n",
    "        reversed_string += stack.pop()\n",
    "    \n",
    "    return reversed_string\n"
   ]
  },
  {
   "cell_type": "code",
   "execution_count": 2,
   "metadata": {},
   "outputs": [
    {
     "data": {
      "text/plain": [
       "'gnirts'"
      ]
     },
     "execution_count": 2,
     "metadata": {},
     "output_type": "execute_result"
    }
   ],
   "source": [
    "string = \"string\"\n",
    "string[::-1]"
   ]
  },
  {
   "cell_type": "code",
   "execution_count": 49,
   "metadata": {},
   "outputs": [
    {
     "name": "stdout",
     "output_type": "stream",
     "text": [
      "olleh\n"
     ]
    }
   ],
   "source": [
    "# Example usage\n",
    "print(reverse_string(\"hello\"))  # Output: \"olleh\""
   ]
  },
  {
   "cell_type": "code",
   "execution_count": 58,
   "metadata": {},
   "outputs": [],
   "source": [
    "def reverse_string(s):\n",
    "    # Convert the string to a list to allow modifications\n",
    "    s = list(s)\n",
    "    \n",
    "    # Initialize start and end pointers\n",
    "    start_idx = 0\n",
    "    end_idx = len(s) - 1\n",
    "    \n",
    "    # Loop until the two pointers meet in the middle\n",
    "    while start_idx < end_idx:\n",
    "        # Swap the characters\n",
    "        s[start_idx], s[end_idx] = s[end_idx], s[start_idx]\n",
    "        \n",
    "        # Move the pointers towards each other\n",
    "        start_idx += 1\n",
    "        end_idx -= 1\n",
    "    \n",
    "    # Convert the list back to a string and return\n",
    "    return s\n",
    "    # return ''.join(s)\n"
   ]
  },
  {
   "cell_type": "code",
   "execution_count": 59,
   "metadata": {},
   "outputs": [
    {
     "data": {
      "text/plain": [
       "['o', 'l', 'l', 'e', 'h']"
      ]
     },
     "execution_count": 59,
     "metadata": {},
     "output_type": "execute_result"
    }
   ],
   "source": [
    "s = [\"h\",\"e\",\"l\",\"l\",\"o\"]\n",
    "reverse_string(s)"
   ]
  },
  {
   "cell_type": "code",
   "execution_count": 60,
   "metadata": {},
   "outputs": [
    {
     "data": {
      "text/plain": [
       "['h', 'a', 'n', 'n', 'a', 'H']"
      ]
     },
     "execution_count": 60,
     "metadata": {},
     "output_type": "execute_result"
    }
   ],
   "source": [
    "s = [\"H\",\"a\",\"n\",\"n\",\"a\",\"h\"]\n",
    "reverse_string(s)"
   ]
  },
  {
   "cell_type": "markdown",
   "metadata": {},
   "source": [
    "### 496. [Next Greater Element I](https://leetcode.com/problems/next-greater-element-i/description/)\n",
    "- You are given two integer arrays nums1 and nums2 where nums1 is a subset of nums2.\n",
    "\n",
    "- For each 0 <= i < nums1.length, find the first index j such that nums1[i] = nums2[j] and nums2[j] has a next greater element in nums2. The next greater element of a number x in nums2 is the first number greater than x that appears to the right of x in nums2. If it does not exist, for that number output[i] = -1.\n",
    "\n",
    "- Return an array output where output[i] is the next greater element of nums1[i] in nums2.\n",
    "\n"
   ]
  },
  {
   "cell_type": "code",
   "execution_count": 109,
   "metadata": {},
   "outputs": [],
   "source": [
    "stack = []  # Initialize an empty stack\n",
    "\n",
    "# Example of pushing elements onto the stack\n",
    "stack.append(1)  # stack is now [1]\n",
    "stack.append(2)  # stack is now [1, 2]\n",
    "\n",
    "# Example of popping elements from the stack\n",
    "top_element = stack.pop()  # top_element is 2, stack is now [1]\n",
    "\n",
    "# Stack is now [1], ready to be used again"
   ]
  },
  {
   "cell_type": "code",
   "execution_count": 106,
   "metadata": {},
   "outputs": [],
   "source": [
    "def find_next_greater_element(nums1,nums2):\n",
    "    stack = []\n",
    "    next_greater = {}\n",
    "    \n",
    "    # Iterate over the nums2 array\n",
    "    for num in nums2:\n",
    "        # If the stack is not empty and the current number is greater than the top of the stack\n",
    "        # Then the current number is the next greater element for the top of the stack\n",
    "        while stack and num > stack[-1]: #checks if the current num from nums2 is greater than the last element in the stack (stack[-1])\n",
    "            next_greater[stack.pop()] = num\n",
    "        \n",
    "        # Push the current number onto the stack\n",
    "        stack.append(num)\n",
    "    \n",
    "    # For the remaining elements in the stack, there is no greater element\n",
    "    for num in stack:\n",
    "        next_greater[num] = -1\n",
    "    \n",
    "    # Create a list of next greater elements for nums1\n",
    "    result = [next_greater[num] for num in nums1]\n",
    "    return result"
   ]
  },
  {
   "cell_type": "code",
   "execution_count": 2,
   "metadata": {},
   "outputs": [],
   "source": [
    "def find_next_greater_element(nums1,nums2):\n",
    "    outlist = []\n",
    "    for i in range(len(nums1)):\n",
    "        element = nums1[i]\n",
    "        index = nums2.index(element)\n",
    "        for j in range(index,len(nums2)+1):\n",
    "            if j == len(nums2):\n",
    "                outlist.append(-1)\n",
    "                break\n",
    "            if nums2[j] > element:\n",
    "                outlist.append(nums2[j])\n",
    "                break\n",
    "    return outlist"
   ]
  },
  {
   "cell_type": "code",
   "execution_count": 5,
   "metadata": {},
   "outputs": [],
   "source": [
    "def next_element(nums1,nums2):\n",
    "    comple = {}\n",
    "    for i in range(len(nums2)):\n",
    "        if i != len(nums2) -1 :\n",
    "            if nums2[i] < nums2[i+1]:\n",
    "                comple[nums2[i]] = nums2[i+1]\n",
    "            else:\n",
    "                comple[nums2[i]] = -1\n",
    "        else:\n",
    "            comple[nums2[i]] = -1\n",
    "    \n",
    "    outlist = []\n",
    "    for j in range(len(nums1)):\n",
    "        outlist.append(comple[nums1[j]])\n",
    "\n",
    "    return outlist"
   ]
  },
  {
   "cell_type": "code",
   "execution_count": 6,
   "metadata": {},
   "outputs": [
    {
     "data": {
      "text/plain": [
       "[-1, 3, -1]"
      ]
     },
     "execution_count": 6,
     "metadata": {},
     "output_type": "execute_result"
    }
   ],
   "source": [
    "nums1 = [4,1,2]\n",
    "nums2 = [1,3,4,2]\n",
    "find_next_greater_element(nums1,nums2)"
   ]
  },
  {
   "cell_type": "code",
   "execution_count": 7,
   "metadata": {},
   "outputs": [
    {
     "data": {
      "text/plain": [
       "[3, -1]"
      ]
     },
     "execution_count": 7,
     "metadata": {},
     "output_type": "execute_result"
    }
   ],
   "source": [
    "nums1 = [2,4]\n",
    "nums2 = [1,2,3,4]\n",
    "find_next_greater_element(nums1,nums2)"
   ]
  },
  {
   "cell_type": "markdown",
   "metadata": {},
   "source": [
    "## String"
   ]
  },
  {
   "cell_type": "markdown",
   "metadata": {},
   "source": [
    "### 468. Validate IP address"
   ]
  },
  {
   "cell_type": "code",
   "execution_count": null,
   "metadata": {},
   "outputs": [],
   "source": []
  },
  {
   "cell_type": "code",
   "execution_count": null,
   "metadata": {},
   "outputs": [],
   "source": []
  },
  {
   "cell_type": "markdown",
   "metadata": {},
   "source": [
    "## Tree"
   ]
  },
  {
   "cell_type": "markdown",
   "metadata": {},
   "source": [
    "### 101. [Symmetric Tree](https://leetcode.com/problems/symmetric-tree/description/)"
   ]
  },
  {
   "cell_type": "markdown",
   "metadata": {},
   "source": [
    "What is a Queue? <br>\n",
    "A queue is a data structure that follows the First-In, First-Out (FIFO) principle, meaning that the first element added to the queue is the first one to be removed. Think of it like a line of people waiting to get into a theater: the first person in line is the first person to get in."
   ]
  },
  {
   "cell_type": "markdown",
   "metadata": {},
   "source": [
    "    1\n",
    "   / \\\n",
    "  2   2\n",
    " / \\ / \\\n",
    "3  4 4  3"
   ]
  },
  {
   "cell_type": "code",
   "execution_count": 89,
   "metadata": {},
   "outputs": [],
   "source": [
    "def is_symmetric(root):\n",
    "    #  check if the tree is empty \n",
    "    if not root:\n",
    "        return True\n",
    "    # a deque allows you to add and remove elements from both ends\n",
    "    queue = deque([(root.left, root.right)])\n",
    "    \n",
    "    while queue: # processes pairs of nodes from the binary tree to check if the tree is symmetric\n",
    "        t1, t2 = queue.popleft() # removes and returns the first pair of nodes (t1, t2) from the front of the queue\n",
    "        \n",
    "        if not t1 and not t2: #Both Nodes Are None\n",
    "            continue\n",
    "        if not t1 or not t2: #One Node is None, the Other is Not:\n",
    "            return False\n",
    "        if t1.val != t2.val: #Comparing Node Values\n",
    "            return False\n",
    "        #Adding Children to the Queue\n",
    "        queue.append((t1.left, t2.right))\n",
    "        queue.append((t1.right, t2.left))\n",
    "    \n",
    "    return True\n"
   ]
  },
  {
   "cell_type": "code",
   "execution_count": 92,
   "metadata": {},
   "outputs": [],
   "source": [
    "class TreeNode:\n",
    "    def __init__(self, val=0, left=None, right=None):\n",
    "        self.val = val\n",
    "        self.left = left\n",
    "        self.right = right\n",
    "def list_to_tree_node(lst):\n",
    "    if not lst:\n",
    "        return None\n",
    "    \n",
    "    root = TreeNode(lst[0])\n",
    "    queue = deque([root])\n",
    "    index = 1\n",
    "    \n",
    "    while queue and index < len(lst):\n",
    "        node = queue.popleft()\n",
    "        \n",
    "        if lst[index] is not None:\n",
    "            node.left = TreeNode(lst[index])\n",
    "            queue.append(node.left)\n",
    "        \n",
    "        index += 1\n",
    "        \n",
    "        if index < len(lst) and lst[index] is not None:\n",
    "            node.right = TreeNode(lst[index])\n",
    "            queue.append(node.right)\n",
    "        \n",
    "        index += 1\n",
    "    \n",
    "    return root"
   ]
  },
  {
   "cell_type": "code",
   "execution_count": 93,
   "metadata": {},
   "outputs": [
    {
     "name": "stdout",
     "output_type": "stream",
     "text": [
      "deque([(<__main__.TreeNode object at 0x7a5b94254670>, <__main__.TreeNode object at 0x7a5b94255450>)])\n"
     ]
    },
    {
     "data": {
      "text/plain": [
       "True"
      ]
     },
     "execution_count": 93,
     "metadata": {},
     "output_type": "execute_result"
    }
   ],
   "source": [
    "root_list = [1,2,2,3,4,4,3]\n",
    "root = list_to_tree_node(root_list)\n",
    "is_symmetric(root)"
   ]
  },
  {
   "cell_type": "code",
   "execution_count": 38,
   "metadata": {},
   "outputs": [
    {
     "data": {
      "text/plain": [
       "4"
      ]
     },
     "execution_count": 38,
     "metadata": {},
     "output_type": "execute_result"
    }
   ],
   "source": [
    "root = None\n",
    "is_symmetric(root)"
   ]
  },
  {
   "cell_type": "markdown",
   "metadata": {},
   "source": [
    "### Count Primes\n",
    "- Given an integer n, return the number of prime numbers that are strictly less than n."
   ]
  },
  {
   "cell_type": "code",
   "execution_count": 51,
   "metadata": {},
   "outputs": [],
   "source": [
    "def output_prime(n):\n",
    "    # smallest prime number is 2\n",
    "    if n < 2:\n",
    "        print(f\"There are 0 prime numbers less than {n}\")\n",
    "    else:\n",
    "        prime = [2]\n",
    "        for i in range(3, n+1):\n",
    "            # check if i is divisible by any number from 2 to sqrt(i)\n",
    "            # the reason we use sqrt(i) is because if a number is not a prime number, it can be factored into two factors, one of which is less than or equal to the square root of the number\n",
    "            for j in range(2, int(i**0.5)+1):\n",
    "                if i % j == 0:\n",
    "                    break\n",
    "            else:\n",
    "                prime.append(i)\n",
    "        print(f\"There are {len(prime)} prime numbers less than {n}, they are {prime}\")"
   ]
  },
  {
   "cell_type": "code",
   "execution_count": 52,
   "metadata": {},
   "outputs": [
    {
     "name": "stdout",
     "output_type": "stream",
     "text": [
      "There are 0 prime numbers less than 0\n"
     ]
    }
   ],
   "source": [
    "output_prime(0)"
   ]
  },
  {
   "cell_type": "code",
   "execution_count": 53,
   "metadata": {},
   "outputs": [
    {
     "name": "stdout",
     "output_type": "stream",
     "text": [
      "There are 0 prime numbers less than 1\n"
     ]
    }
   ],
   "source": [
    "output_prime(1)"
   ]
  },
  {
   "cell_type": "code",
   "execution_count": 54,
   "metadata": {},
   "outputs": [
    {
     "name": "stdout",
     "output_type": "stream",
     "text": [
      "There are 4 prime numbers less than 10, they are [2, 3, 5, 7]\n"
     ]
    }
   ],
   "source": [
    "output_prime(10)"
   ]
  },
  {
   "cell_type": "code",
   "execution_count": 55,
   "metadata": {},
   "outputs": [
    {
     "name": "stdout",
     "output_type": "stream",
     "text": [
      "There are 15 prime numbers less than 50, they are [2, 3, 5, 7, 11, 13, 17, 19, 23, 29, 31, 37, 41, 43, 47]\n"
     ]
    }
   ],
   "source": [
    "output_prime(50)"
   ]
  },
  {
   "cell_type": "markdown",
   "metadata": {},
   "source": [
    "### [single number](https://leetcode.com/explore/interview/card/top-interview-questions-easy/92/array/549/): Given a non-empty array of integers nums, every element appears twice except for one. Find that single one.\n",
    "\n"
   ]
  },
  {
   "cell_type": "code",
   "execution_count": 47,
   "metadata": {},
   "outputs": [],
   "source": [
    "# Time Complexity: O(n^2). This is because nums.count(i) runs in O(n) time, and since it's inside a loop that runs O(n) times, the overall time complexity becomes O(n^2). This is much less efficient compared to the XOR approach, which runs in O(n) time.\n",
    "# Space Complexity: O(1). This approach does not use any extra space, making the space complexity constant.\n",
    "\n",
    "def single_number(nums):\n",
    "    for i in nums:\n",
    "        if nums.count(i) == 1:\n",
    "            return i"
   ]
  },
  {
   "cell_type": "code",
   "execution_count": 46,
   "metadata": {},
   "outputs": [],
   "source": [
    "# Time Complexity: O(n). The loop runs once over the nums list, and set operations (like add and remove) are O(1) on average.\n",
    "# Space Complexity: O(n). The set can grow up to the size of the input list in the worst case (when all elements are unique).\n",
    "\n",
    "def single_number(nums):\n",
    "    if len(nums) == 1:\n",
    "        return nums[0]\n",
    "    \n",
    "    unique_num = set()\n",
    "    \n",
    "    for i in nums:\n",
    "        if i in unique_num:\n",
    "            unique_num.remove(i)    \n",
    "        else:\n",
    "            unique_num.add(i)\n",
    "    \n",
    "    return unique_num.pop()\n",
    "\n",
    "    "
   ]
  },
  {
   "cell_type": "code",
   "execution_count": 43,
   "metadata": {},
   "outputs": [
    {
     "data": {
      "text/plain": [
       "1"
      ]
     },
     "execution_count": 43,
     "metadata": {},
     "output_type": "execute_result"
    }
   ],
   "source": [
    "nums = [2,2,1]\n",
    "single_number(nums)"
   ]
  },
  {
   "cell_type": "code",
   "execution_count": 44,
   "metadata": {},
   "outputs": [
    {
     "data": {
      "text/plain": [
       "4"
      ]
     },
     "execution_count": 44,
     "metadata": {},
     "output_type": "execute_result"
    }
   ],
   "source": [
    "nums = [4,1,2,1,2]\n",
    "single_number(nums)"
   ]
  },
  {
   "cell_type": "code",
   "execution_count": 45,
   "metadata": {},
   "outputs": [
    {
     "data": {
      "text/plain": [
       "1"
      ]
     },
     "execution_count": 45,
     "metadata": {},
     "output_type": "execute_result"
    }
   ],
   "source": [
    "nums = [1]\n",
    "single_number(nums)"
   ]
  },
  {
   "cell_type": "markdown",
   "metadata": {},
   "source": [
    "### [Valid Parentheses](https://leetcode.com/explore/interview/card/top-interview-questions-easy/99/others/721/)\n",
    "using stack - first in last out<br>\n",
    "An input string is valid if:<br>\n",
    "\n",
    "- Open brackets must be closed by the same type of brackets.\n",
    "- Open brackets must be closed in the correct order.\n",
    "- Every close bracket has a corresponding open bracket of the same type."
   ]
  },
  {
   "cell_type": "code",
   "execution_count": 10,
   "metadata": {},
   "outputs": [],
   "source": [
    "def not_efficient_soln(string):\n",
    "    stack = []\n",
    "    valid_dict = {'(': ')', '[': ']', '{': '}'}\n",
    "    for i in string:\n",
    "        if i in valid_dict:\n",
    "            stack.append(i)\n",
    "            #retrieves the corresponding closing bracket for that opening bracket from the dictionary.\n",
    "        elif stack and i == valid_dict[stack[-1]]:\n",
    "            stack.pop()\n",
    "    # check\n",
    "    if len(stack) == 0:\n",
    "        return True\n",
    "    else:\n",
    "        return False"
   ]
  },
  {
   "cell_type": "code",
   "execution_count": 11,
   "metadata": {},
   "outputs": [
    {
     "data": {
      "text/plain": [
       "True"
      ]
     },
     "execution_count": 11,
     "metadata": {},
     "output_type": "execute_result"
    }
   ],
   "source": [
    "string = \"()\"\n",
    "not_efficient_soln(string)"
   ]
  },
  {
   "cell_type": "code",
   "execution_count": 12,
   "metadata": {},
   "outputs": [
    {
     "data": {
      "text/plain": [
       "True"
      ]
     },
     "execution_count": 12,
     "metadata": {},
     "output_type": "execute_result"
    }
   ],
   "source": [
    "string = \"()[]{}\"\n",
    "not_efficient_soln(string)"
   ]
  },
  {
   "cell_type": "code",
   "execution_count": 13,
   "metadata": {},
   "outputs": [
    {
     "data": {
      "text/plain": [
       "False"
      ]
     },
     "execution_count": 13,
     "metadata": {},
     "output_type": "execute_result"
    }
   ],
   "source": [
    "string = \"(]\"\n",
    "not_efficient_soln(string)"
   ]
  },
  {
   "cell_type": "markdown",
   "metadata": {},
   "source": [
    "### [Reverse Integer](https://leetcode.com/explore/interview/card/top-interview-questions-easy/127/strings/880/)\n",
    "- Given a signed 32-bit integer x, return x with its digits reversed. If reversing x causes the value to go outside the signed 32-bit integer range [-231, 231 - 1], then return 0."
   ]
  },
  {
   "cell_type": "code",
   "execution_count": 26,
   "metadata": {},
   "outputs": [
    {
     "ename": "TypeError",
     "evalue": "'list' object is not callable",
     "output_type": "error",
     "traceback": [
      "\u001b[0;31m---------------------------------------------------------------------------\u001b[0m",
      "\u001b[0;31mTypeError\u001b[0m                                 Traceback (most recent call last)",
      "Cell \u001b[0;32mIn[26], line 22\u001b[0m\n\u001b[1;32m     19\u001b[0m     \u001b[38;5;28;01mreturn\u001b[39;00m reversed_num\n\u001b[1;32m     21\u001b[0m x \u001b[38;5;241m=\u001b[39m \u001b[38;5;241m123\u001b[39m\n\u001b[0;32m---> 22\u001b[0m \u001b[38;5;28mprint\u001b[39m(\u001b[43mreverse_integer\u001b[49m\u001b[43m(\u001b[49m\u001b[43mx\u001b[49m\u001b[43m)\u001b[49m)  \u001b[38;5;66;03m# This should now work correctly\u001b[39;00m\n",
      "Cell \u001b[0;32mIn[26], line 9\u001b[0m, in \u001b[0;36mreverse_integer\u001b[0;34m(num)\u001b[0m\n\u001b[1;32m      6\u001b[0m     num \u001b[38;5;241m=\u001b[39m \u001b[38;5;241m-\u001b[39mnum\n\u001b[1;32m      8\u001b[0m \u001b[38;5;66;03m# Reverse the integer by converting it to a string and reversing the string\u001b[39;00m\n\u001b[0;32m----> 9\u001b[0m reversed_num \u001b[38;5;241m=\u001b[39m \u001b[38;5;28mint\u001b[39m(\u001b[38;5;28;43mstr\u001b[39;49m\u001b[43m(\u001b[49m\u001b[43mnum\u001b[49m\u001b[43m)\u001b[49m[::\u001b[38;5;241m-\u001b[39m\u001b[38;5;241m1\u001b[39m])\n\u001b[1;32m     11\u001b[0m \u001b[38;5;66;03m# Apply the negative sign if the original number was negative\u001b[39;00m\n\u001b[1;32m     12\u001b[0m \u001b[38;5;28;01mif\u001b[39;00m negative:\n",
      "\u001b[0;31mTypeError\u001b[0m: 'list' object is not callable"
     ]
    }
   ],
   "source": [
    "# Ensure 'str' is not redefined elsewhere in your code\n",
    "def reverse_integer(num):\n",
    "    negative = False\n",
    "    if num < 0:\n",
    "        negative = True\n",
    "        num = -num\n",
    "    \n",
    "    # Reverse the integer by converting it to a string and reversing the string\n",
    "    reversed_num = int(str(num)[::-1])\n",
    "    \n",
    "    # Apply the negative sign if the original number was negative\n",
    "    if negative:\n",
    "        reversed_num = -reversed_num\n",
    "    \n",
    "    # Check for overflow and return 0 if the reversed number exceeds the 32-bit signed integer range\n",
    "    if reversed_num < -2**31 or reversed_num > 2**31 - 1:\n",
    "        return 0\n",
    "    \n",
    "    return reversed_num\n",
    "\n",
    "x = 123\n",
    "print(reverse_integer(x))  # This should now work correctly\n",
    "\n"
   ]
  },
  {
   "cell_type": "code",
   "execution_count": 29,
   "metadata": {},
   "outputs": [
    {
     "ename": "TypeError",
     "evalue": "'list' object is not callable",
     "output_type": "error",
     "traceback": [
      "\u001b[0;31m---------------------------------------------------------------------------\u001b[0m",
      "\u001b[0;31mTypeError\u001b[0m                                 Traceback (most recent call last)",
      "Cell \u001b[0;32mIn[29], line 2\u001b[0m\n\u001b[1;32m      1\u001b[0m x \u001b[38;5;241m=\u001b[39m \u001b[38;5;241m123\u001b[39m\n\u001b[0;32m----> 2\u001b[0m \u001b[43mreverse_integer\u001b[49m\u001b[43m(\u001b[49m\u001b[43mx\u001b[49m\u001b[43m)\u001b[49m\n",
      "Cell \u001b[0;32mIn[26], line 9\u001b[0m, in \u001b[0;36mreverse_integer\u001b[0;34m(num)\u001b[0m\n\u001b[1;32m      6\u001b[0m     num \u001b[38;5;241m=\u001b[39m \u001b[38;5;241m-\u001b[39mnum\n\u001b[1;32m      8\u001b[0m \u001b[38;5;66;03m# Reverse the integer by converting it to a string and reversing the string\u001b[39;00m\n\u001b[0;32m----> 9\u001b[0m reversed_num \u001b[38;5;241m=\u001b[39m \u001b[38;5;28mint\u001b[39m(\u001b[38;5;28;43mstr\u001b[39;49m\u001b[43m(\u001b[49m\u001b[43mnum\u001b[49m\u001b[43m)\u001b[49m[::\u001b[38;5;241m-\u001b[39m\u001b[38;5;241m1\u001b[39m])\n\u001b[1;32m     11\u001b[0m \u001b[38;5;66;03m# Apply the negative sign if the original number was negative\u001b[39;00m\n\u001b[1;32m     12\u001b[0m \u001b[38;5;28;01mif\u001b[39;00m negative:\n",
      "\u001b[0;31mTypeError\u001b[0m: 'list' object is not callable"
     ]
    }
   ],
   "source": [
    "x = 123\n",
    "reverse_integer(x)"
   ]
  },
  {
   "cell_type": "markdown",
   "metadata": {},
   "source": [
    "x = -123\n",
    "reverse_integer(x)"
   ]
  },
  {
   "cell_type": "code",
   "execution_count": null,
   "metadata": {},
   "outputs": [],
   "source": [
    "x = 120\n",
    "reverse_integer(x)"
   ]
  },
  {
   "cell_type": "markdown",
   "metadata": {},
   "source": [
    "### Move Zeros \n",
    "- Given an integer array nums, move all 0's to the end of it while maintaining the relative order of the non-zero elements.\n",
    "\n",
    "\n"
   ]
  },
  {
   "cell_type": "code",
   "execution_count": 31,
   "metadata": {},
   "outputs": [],
   "source": [
    "# Zero Counting: You count the number of zeros encountered (zero_count).\n",
    "# Shifting Elements: For each zero found, you try to shift the non-zero elements to the left.\n",
    "# Appending Zeros: Finally, you add the counted zeros at the end of the list.\n",
    "\n",
    "def move_zeros(nums):\n",
    "    zero_count = 0\n",
    "    for i in range(len(nums)):\n",
    "        if nums[i] == 0:\n",
    "            zero_count += 1\n",
    "            nums[i:len(nums)-zero_count] = nums[i+1:len(nums)-zero_count+1]\n",
    "    nums[len(nums)-zero_count:] = [0]*zero_count\n",
    "    return nums\n",
    "# O(n^2) time complexity\n",
    "# O(1) space complexity"
   ]
  },
  {
   "cell_type": "code",
   "execution_count": 34,
   "metadata": {},
   "outputs": [],
   "source": [
    "# The goal is to move all zeros in the list nums to the end, while maintaining the relative order of the non-zero elements.\n",
    "def move_zeros(nums):\n",
    "    # Pointer to the position to place the next non-zero element\n",
    "    insert_pos = 0\n",
    "    # Move all non-zero elements to the front\n",
    "    for i in range(len(nums)):\n",
    "        if nums[i] != 0:\n",
    "            nums[insert_pos] = nums[i]\n",
    "            insert_pos += 1\n",
    "    # Fill the remaining positions with zeros\n",
    "    for i in range(insert_pos, len(nums)):\n",
    "        nums[i] = 0\n",
    "    return nums\n"
   ]
  },
  {
   "cell_type": "code",
   "execution_count": 35,
   "metadata": {},
   "outputs": [
    {
     "data": {
      "text/plain": [
       "[1, 3, 12, 0, 0]"
      ]
     },
     "execution_count": 35,
     "metadata": {},
     "output_type": "execute_result"
    }
   ],
   "source": [
    "nums = [0,1,0,3,12]\n",
    "move_zeros(nums)"
   ]
  },
  {
   "cell_type": "code",
   "execution_count": 36,
   "metadata": {},
   "outputs": [
    {
     "data": {
      "text/plain": [
       "[0]"
      ]
     },
     "execution_count": 36,
     "metadata": {},
     "output_type": "execute_result"
    }
   ],
   "source": [
    "nums = [0]\n",
    "move_zeros(nums)"
   ]
  },
  {
   "cell_type": "markdown",
   "metadata": {},
   "source": [
    "## Dynamic Programming"
   ]
  },
  {
   "cell_type": "markdown",
   "metadata": {},
   "source": [
    "### climbing stairs\n",
    "- You are climbing a staircase. It takes n steps to reach the top.\n",
    "- Each time you can either climb 1 or 2 steps. In how many distinct ways can you climb to the top?"
   ]
  },
  {
   "cell_type": "code",
   "execution_count": 57,
   "metadata": {},
   "outputs": [],
   "source": [
    "def climb_stairs(n: int) -> int:\n",
    "    # Base cases\n",
    "    if n <= 2:\n",
    "        return n\n",
    "    \n",
    "    # Initialize the first two steps\n",
    "    one_step_before = 2  # ways(2)\n",
    "    two_steps_before = 1  # ways(1)\n",
    "    \n",
    "    # Calculate the number of ways for each step from 3 to n\n",
    "    for i in range(3, n + 1):\n",
    "        current = one_step_before + two_steps_before\n",
    "        two_steps_before = one_step_before\n",
    "        one_step_before = current\n",
    "    \n",
    "    return one_step_before\n"
   ]
  },
  {
   "cell_type": "code",
   "execution_count": 58,
   "metadata": {},
   "outputs": [
    {
     "data": {
      "text/plain": [
       "2"
      ]
     },
     "execution_count": 58,
     "metadata": {},
     "output_type": "execute_result"
    }
   ],
   "source": [
    "n = 2\n",
    "climb_stairs(n)"
   ]
  },
  {
   "cell_type": "code",
   "execution_count": 59,
   "metadata": {},
   "outputs": [
    {
     "data": {
      "text/plain": [
       "3"
      ]
     },
     "execution_count": 59,
     "metadata": {},
     "output_type": "execute_result"
    }
   ],
   "source": [
    "n = 3\n",
    "climb_stairs(3)"
   ]
  },
  {
   "cell_type": "markdown",
   "metadata": {},
   "source": [
    "### 408. Valid Word Abbreviation (two pointer, string)\n",
    "- A string can be abbreviated by replacing any number of non-adjacent, non-empty substrings with their lengths. The lengths should not have leading zeros.\n",
    "\n",
    "- For example, a string such as \"substitution\" could be abbreviated as (but not limited to):\n",
    "\n",
    "    - \"s10n\" (\"s ubstitutio n\")\n",
    "    - \"sub4u4\" (\"sub stit u tion\")\n",
    "    - \"12\" (\"substitution\")\n",
    "    - \"su3i1u2on\" (\"su bst i t u ti on\")\n",
    "    - \"substitution\" (no substrings replaced)\n",
    "\n",
    "- The following are not valid abbreviations:\n",
    "\n",
    "    - \"s55n\" (\"s ubsti tutio n\", the replaced substrings are adjacent)\n",
    "    - \"s010n\" (has leading zeros)\n",
    "    - \"s0ubstitution\" (replaces an empty substring)\n",
    "\n",
    "- Given a string word and an abbreviation abbr, return whether the string matches the given abbreviation.\n",
    "\n",
    "- A substring is a contiguous non-empty sequence of characters within a string."
   ]
  },
  {
   "cell_type": "code",
   "execution_count": 17,
   "metadata": {},
   "outputs": [],
   "source": [
    "def validwordabbr(word, abbr):\n",
    "    i = j = 0\n",
    "    while i < len(word) and j < len(abbr):\n",
    "        if word[i] == abbr[j]:\n",
    "            i += 1\n",
    "            j += 1\n",
    "        elif abbr[j].isdigit() and abbr[j] != '0':\n",
    "            num = 0\n",
    "            while j < len(abbr) and abbr[j].isdigit():\n",
    "                num = num * 10 + int(abbr[j])\n",
    "                j += 1\n",
    "            i += num\n",
    "        else:\n",
    "            return False\n",
    "    return i == len(word) and j == len(abbr)\n",
    "\n",
    "# time complexity: O(max(n,m))\n",
    "# space complexity: O(1) constant amount of additional space"
   ]
  },
  {
   "cell_type": "code",
   "execution_count": 12,
   "metadata": {},
   "outputs": [
    {
     "data": {
      "text/plain": [
       "True"
      ]
     },
     "execution_count": 12,
     "metadata": {},
     "output_type": "execute_result"
    }
   ],
   "source": [
    "word = \"internationalization\"\n",
    "abbr = \"i12iz4n\"\n",
    "validwordabbr(word, abbr)"
   ]
  },
  {
   "cell_type": "code",
   "execution_count": 13,
   "metadata": {},
   "outputs": [
    {
     "data": {
      "text/plain": [
       "True"
      ]
     },
     "execution_count": 13,
     "metadata": {},
     "output_type": "execute_result"
    }
   ],
   "source": [
    "word = \"apple\"\n",
    "abbr = \"a3e\"\n",
    "validwordabbr(word, abbr)"
   ]
  },
  {
   "cell_type": "code",
   "execution_count": 14,
   "metadata": {},
   "outputs": [
    {
     "data": {
      "text/plain": [
       "False"
      ]
     },
     "execution_count": 14,
     "metadata": {},
     "output_type": "execute_result"
    }
   ],
   "source": [
    "word = \"apple\"\n",
    "abbr = \"a2e\"\n",
    "validwordabbr(word, abbr)"
   ]
  },
  {
   "cell_type": "code",
   "execution_count": 15,
   "metadata": {},
   "outputs": [
    {
     "data": {
      "text/plain": [
       "False"
      ]
     },
     "execution_count": 15,
     "metadata": {},
     "output_type": "execute_result"
    }
   ],
   "source": [
    "# edge case\n",
    "word = \"apple\"\n",
    "abbr = \"a0e\"\n",
    "validwordabbr(word, abbr)"
   ]
  },
  {
   "cell_type": "code",
   "execution_count": 16,
   "metadata": {},
   "outputs": [
    {
     "data": {
      "text/plain": [
       "True"
      ]
     },
     "execution_count": 16,
     "metadata": {},
     "output_type": "execute_result"
    }
   ],
   "source": [
    "# edge case\n",
    "word = \"apple\"\n",
    "abbr = \"a2le\"\n",
    "validwordabbr(word, abbr)"
   ]
  },
  {
   "cell_type": "markdown",
   "metadata": {},
   "source": [
    "### 680. Valid Palindrome II （ two pointer)\n",
    "- Given a string s, return true if the s can be palindrome after deleting at most one character from it."
   ]
  },
  {
   "cell_type": "code",
   "execution_count": 19,
   "metadata": {},
   "outputs": [],
   "source": [
    "string = \"apple\"\n",
    "\n",
    "# remove the second element from the string\n",
    "new_string = string[:1] + string[2:]"
   ]
  },
  {
   "cell_type": "code",
   "execution_count": 35,
   "metadata": {},
   "outputs": [],
   "source": [
    "# brute force apporach (not efficient)\n",
    "def valid_palindrome(string):\n",
    "    for i in range(len(string)):\n",
    "        if i == 0:\n",
    "            new_string = string[i+1:]\n",
    "        elif i == len(string)-1:\n",
    "            new_string = string[:i]\n",
    "        else:\n",
    "            new_string = string[:i] + string[i+1:]\n",
    "        if check_palindrome(new_string):\n",
    "            return True\n",
    "    return False\n",
    "\n",
    "def check_palindrome(string):\n",
    "    i = 0\n",
    "    end = len(string) - 1\n",
    "    for j in range(len(string)//2):\n",
    "        if string[i] != string[end]:\n",
    "            return False\n",
    "        i += 1\n",
    "        end -= 1\n",
    "    return True\n",
    "\n",
    "# time complexity: O(n^2)\n",
    "# space complexity: O(n)"
   ]
  },
  {
   "cell_type": "code",
   "execution_count": 34,
   "metadata": {},
   "outputs": [],
   "source": [
    "class Solution:\n",
    "    def validPalindrome(self, s: str) -> bool:\n",
    "        def is_palindrome_range(left, right):\n",
    "            while left < right:\n",
    "                if s[left] != s[right]:\n",
    "                    return False\n",
    "                left += 1\n",
    "                right -= 1\n",
    "            return True\n",
    "\n",
    "        left, right = 0, len(s) - 1\n",
    "        while left < right:\n",
    "            if s[left] != s[right]:\n",
    "                # Try skipping one character either from the left or right\n",
    "                return is_palindrome_range(left + 1, right) or is_palindrome_range(left, right - 1)\n",
    "            left += 1\n",
    "            right -= 1\n",
    "        return True\n",
    "\n",
    "# time complexity: O(n) \n",
    "# space complexity: O(1)"
   ]
  },
  {
   "cell_type": "code",
   "execution_count": 31,
   "metadata": {},
   "outputs": [
    {
     "data": {
      "text/plain": [
       "True"
      ]
     },
     "execution_count": 31,
     "metadata": {},
     "output_type": "execute_result"
    }
   ],
   "source": [
    "string = \"aba\"\n",
    "valid_palindrome(string)"
   ]
  },
  {
   "cell_type": "code",
   "execution_count": 32,
   "metadata": {},
   "outputs": [
    {
     "data": {
      "text/plain": [
       "True"
      ]
     },
     "execution_count": 32,
     "metadata": {},
     "output_type": "execute_result"
    }
   ],
   "source": [
    "string = \"abca\"\n",
    "valid_palindrome(string)"
   ]
  },
  {
   "cell_type": "code",
   "execution_count": 33,
   "metadata": {},
   "outputs": [
    {
     "data": {
      "text/plain": [
       "False"
      ]
     },
     "execution_count": 33,
     "metadata": {},
     "output_type": "execute_result"
    }
   ],
   "source": [
    "string = \"abc\"\n",
    "valid_palindrome(string)"
   ]
  },
  {
   "cell_type": "markdown",
   "metadata": {},
   "source": [
    "### 125. Valid Palindrome II\n",
    "- A phrase is a palindrome if, after converting all uppercase letters into lowercase letters and removing all non-alphanumeric characters, it reads the same forward and backward. Alphanumeric characters include letters and numbers.\n",
    "\n",
    "- Given a string s, return true if it is a palindrome, or false otherwise."
   ]
  },
  {
   "cell_type": "code",
   "execution_count": 48,
   "metadata": {},
   "outputs": [],
   "source": [
    "import re \n",
    "def valid_palindromeII(string):\n",
    "    # convert to lower case\n",
    "    string = string.lower()\n",
    "    # remove all non-alphanumeric characters\n",
    "    string = re.sub(r'[^a-z0-9]', '', string) \n",
    "    # uses a regular expression to remove any characters from the string that are not lowercase letters (a-z) or digits (0-9).\n",
    "    # The [^a-z0-9] part of the regular expression means \"any character that is not a lowercase letter or digit\".\n",
    "    # re.sub replaces all such characters with an empty string '', effectively removing them.\n",
    "    # This ensures that only alphanumeric characters are considered when checking for a palindrome, so strings with spaces or punctuation (like \"A man, a plan, a canal, Panama!\") can still be correctly identified as palindromic.\n",
    "    \n",
    "    # check if the string is a palindrome\n",
    "    return string == string[::-1] # string[::-1] is a slicing operation that reverses the string.\n",
    "\n",
    "# time complexity: O(n), where n is the length of the input string. The regular expression substitution takes O(n) time, and the string comparison takes O(n) time as well.\n",
    "# space complexity O(n), because the function creates a new string without non-alphanumeric characters, which can be up to the same length as the input string."
   ]
  },
  {
   "cell_type": "code",
   "execution_count": 44,
   "metadata": {},
   "outputs": [
    {
     "data": {
      "text/plain": [
       "True"
      ]
     },
     "execution_count": 44,
     "metadata": {},
     "output_type": "execute_result"
    }
   ],
   "source": [
    "s = \"A man, a plan, a canal: Panama\"\n",
    "valid_palindromeII(s)"
   ]
  },
  {
   "cell_type": "code",
   "execution_count": 45,
   "metadata": {},
   "outputs": [
    {
     "data": {
      "text/plain": [
       "False"
      ]
     },
     "execution_count": 45,
     "metadata": {},
     "output_type": "execute_result"
    }
   ],
   "source": [
    "s = \"race a car\"\n",
    "valid_palindromeII(s)"
   ]
  },
  {
   "cell_type": "code",
   "execution_count": 46,
   "metadata": {},
   "outputs": [
    {
     "data": {
      "text/plain": [
       "True"
      ]
     },
     "execution_count": 46,
     "metadata": {},
     "output_type": "execute_result"
    }
   ],
   "source": [
    "s = \" \"\n",
    "valid_palindromeII(s)"
   ]
  },
  {
   "cell_type": "markdown",
   "metadata": {},
   "source": [
    "### 543. diameter binary tree (tree, depth first search, binary tree)\n",
    "- Given the root of a binary tree, return the length of the diameter of the tree.\n",
    "\n",
    "- The diameter of a binary tree is the length of the longest path between any two nodes in a tree. This path may or may not pass through the root.\n",
    "\n",
    "- The length of a path between two nodes is represented by the number of edges between them."
   ]
  },
  {
   "cell_type": "code",
   "execution_count": 51,
   "metadata": {},
   "outputs": [],
   "source": [
    "# Definition for a binary tree node.\n",
    "class TreeNode:\n",
    "    def __init__(self, x):\n",
    "        self.val = x\n",
    "        self.left = None\n",
    "        self.right = None\n",
    "\n",
    "class Solution:\n",
    "    def diameterOfBinaryTree(self, root: TreeNode) -> int:\n",
    "        self.max_diameter = 0\n",
    "        \n",
    "        def depth(node):\n",
    "            if not node:\n",
    "                return 0\n",
    "            # Get the depth of left and right subtrees\n",
    "            left_depth = depth(node.left)\n",
    "            right_depth = depth(node.right)\n",
    "            \n",
    "            # Calculate the diameter passing through the current node\n",
    "            self.max_diameter = max(self.max_diameter, left_depth + right_depth)\n",
    "            \n",
    "            # Return the depth of this subtree\n",
    "            return max(left_depth, right_depth) + 1\n",
    "        \n",
    "        depth(root)\n",
    "        return self.max_diameter\n"
   ]
  },
  {
   "cell_type": "code",
   "execution_count": 53,
   "metadata": {},
   "outputs": [
    {
     "name": "stdout",
     "output_type": "stream",
     "text": [
      "Diameter of the binary tree is: 3\n"
     ]
    }
   ],
   "source": [
    "# Assuming the TreeNode and Solution classes are already defined as provided\n",
    "\n",
    "# Step 1: Build the binary tree\n",
    "# Example Tree:\n",
    "#       1\n",
    "#      / \\\n",
    "#     2   3\n",
    "#    / \\\n",
    "#   4   5\n",
    "\n",
    "root = TreeNode(1)\n",
    "root.left = TreeNode(2)\n",
    "root.right = TreeNode(3)\n",
    "root.left.left = TreeNode(4)\n",
    "root.left.right = TreeNode(5)\n",
    "\n",
    "# Step 2: Create an instance of Solution\n",
    "solution = Solution()\n",
    "\n",
    "# Step 3: Call the diameterOfBinaryTree method and print the result\n",
    "diameter = solution.diameterOfBinaryTree(root)\n",
    "print(\"Diameter of the binary tree is:\", diameter)\n"
   ]
  },
  {
   "cell_type": "markdown",
   "metadata": {},
   "source": [
    "### 766. toeplitz matrix\n",
    "- Given an m x n matrix, return true if the matrix is Toeplitz. Otherwise, return false.\n",
    "\n",
    "- A matrix is Toeplitz if every diagonal from top-left to bottom-right has the same elements.\n",
    "\n",
    " \n",
    "\n"
   ]
  },
  {
   "cell_type": "code",
   "execution_count": 69,
   "metadata": {},
   "outputs": [],
   "source": [
    "def check_toeplitz(matrix):\n",
    "    for i in range(len(matrix)-1):\n",
    "        for j in range(len(matrix[0])-1):\n",
    "            if matrix[i][j] != matrix[i+1][j+1]:\n",
    "                return False\n",
    "    return True"
   ]
  },
  {
   "cell_type": "code",
   "execution_count": 70,
   "metadata": {},
   "outputs": [
    {
     "data": {
      "text/plain": [
       "True"
      ]
     },
     "execution_count": 70,
     "metadata": {},
     "output_type": "execute_result"
    }
   ],
   "source": [
    "matrix = [[1,2,3,4],[5,1,2,3],[9,5,1,2]]\n",
    "check_toeplitz(matrix)"
   ]
  },
  {
   "cell_type": "code",
   "execution_count": 71,
   "metadata": {},
   "outputs": [
    {
     "data": {
      "text/plain": [
       "False"
      ]
     },
     "execution_count": 71,
     "metadata": {},
     "output_type": "execute_result"
    }
   ],
   "source": [
    "matrix = [[1,2],[2,2]]\n",
    "check_toeplitz(matrix)"
   ]
  },
  {
   "cell_type": "code",
   "execution_count": 65,
   "metadata": {},
   "outputs": [
    {
     "data": {
      "text/plain": [
       "[5, 1, 2, 3]"
      ]
     },
     "execution_count": 65,
     "metadata": {},
     "output_type": "execute_result"
    }
   ],
   "source": [
    "matrix = [[1,2,3,4],[5,1,2,3],[9,5,1,2]]\n",
    "matrix[1]"
   ]
  },
  {
   "cell_type": "code",
   "execution_count": 66,
   "metadata": {},
   "outputs": [
    {
     "data": {
      "text/plain": [
       "3"
      ]
     },
     "execution_count": 66,
     "metadata": {},
     "output_type": "execute_result"
    }
   ],
   "source": [
    "len(matrix)"
   ]
  },
  {
   "cell_type": "markdown",
   "metadata": {},
   "source": [
    "# Medium CART (clarification, assumption, result (coding), test)"
   ]
  },
  {
   "cell_type": "markdown",
   "metadata": {},
   "source": [
    "### 1249 mininum remove to make valid parentheses (string, stacjk)"
   ]
  },
  {
   "cell_type": "markdown",
   "metadata": {},
   "source": [
    "- Given a string s of '(' , ')' and lowercase English characters.\n",
    "\n",
    "- Your task is to remove the minimum number of parentheses ( '(' or ')', in any positions ) so that the resulting parentheses string is valid and return any valid string.\n",
    "\n",
    "- Formally, a parentheses string is valid if and only if:\n",
    "\n",
    "    - It is the empty string, contains only lowercase characters, or\n",
    "    - It can be written as AB (A concatenated with B), where A and B are valid strings, or\n",
    "    - It can be written as (A), where A is a valid string."
   ]
  },
  {
   "cell_type": "code",
   "execution_count": 31,
   "metadata": {},
   "outputs": [],
   "source": [
    "string = \"apple\"\n",
    "idx = [0,1,3]\n",
    "# remove all elements at the indices in the list idx\n",
    "new_string = ''.join([string[i] for i in range(len(string)) if i not in idx])"
   ]
  },
  {
   "cell_type": "code",
   "execution_count": 41,
   "metadata": {},
   "outputs": [],
   "source": [
    "def make_valid_parentheses(string):\n",
    "    left = \"(\"\n",
    "    right = \")\"\n",
    "\n",
    "    idx_stack = []\n",
    "    parentheses = []\n",
    "\n",
    "    for i in range(len(string)):\n",
    "        if string[i] == left:\n",
    "            idx_stack.append(i)\n",
    "            parentheses.append(left)\n",
    "        elif string[i] == right:\n",
    "            if len(parentheses) > 0 and parentheses[-1] == left:\n",
    "                idx_stack.pop()\n",
    "                parentheses.pop()\n",
    "            else:\n",
    "                idx_stack.append(i)\n",
    "                parentheses.append(right)\n",
    "        else:\n",
    "            continue\n",
    "    print(idx_stack)\n",
    "    print(parentheses)\n",
    "    new_string = ''.join(string[i] for i in range(len(string)) if i not in idx_stack)\n",
    "    return new_string"
   ]
  },
  {
   "cell_type": "code",
   "execution_count": null,
   "metadata": {},
   "outputs": [],
   "source": [
    "def make_valid_parentheses_V2(string):\n",
    "    left = \"(\"\n",
    "    right = \")\"\n",
    "\n",
    "    idx_stack = []\n",
    "    parentheses = []\n",
    "\n",
    "    for i in range(len(string)):\n",
    "        if string[i] == left:\n",
    "            idx_stack.append(i)\n",
    "            parentheses.append(left)\n",
    "        elif string[i] == right:\n",
    "            if len(parentheses) > 0 and parentheses[-1] == left:\n",
    "                idx_stack.pop()\n",
    "                parentheses.pop()\n",
    "            else:\n",
    "                idx_stack.append(i)\n",
    "                parentheses.append(right)\n",
    "        else:\n",
    "            continue\n",
    "    print(idx_stack)\n",
    "    print(parentheses)\n",
    "    new_string = ''.join(string[i] for i in range(len(string)) if i not in idx_stack)\n",
    "    return new_string"
   ]
  },
  {
   "cell_type": "code",
   "execution_count": 42,
   "metadata": {},
   "outputs": [
    {
     "name": "stdout",
     "output_type": "stream",
     "text": [
      "[1]\n",
      "[')']\n"
     ]
    },
    {
     "data": {
      "text/plain": [
       "'ab(c)d'"
      ]
     },
     "execution_count": 42,
     "metadata": {},
     "output_type": "execute_result"
    }
   ],
   "source": [
    "string = \"a)b(c)d\"\n",
    "make_valid_parentheses(string)"
   ]
  },
  {
   "cell_type": "code",
   "execution_count": 43,
   "metadata": {},
   "outputs": [
    {
     "name": "stdout",
     "output_type": "stream",
     "text": [
      "[12]\n",
      "[')']\n"
     ]
    },
    {
     "data": {
      "text/plain": [
       "'lee(t(c)o)de'"
      ]
     },
     "execution_count": 43,
     "metadata": {},
     "output_type": "execute_result"
    }
   ],
   "source": [
    "string = \"lee(t(c)o)de)\"\n",
    "make_valid_parentheses(string)"
   ]
  },
  {
   "cell_type": "code",
   "execution_count": 44,
   "metadata": {},
   "outputs": [
    {
     "name": "stdout",
     "output_type": "stream",
     "text": [
      "[0, 1, 2, 3]\n",
      "[')', ')', '(', '(']\n"
     ]
    },
    {
     "data": {
      "text/plain": [
       "''"
      ]
     },
     "execution_count": 44,
     "metadata": {},
     "output_type": "execute_result"
    }
   ],
   "source": [
    "string = \"))((\"\n",
    "make_valid_parentheses(string)"
   ]
  },
  {
   "cell_type": "markdown",
   "metadata": {},
   "source": [
    "### 1091 shortest path in binary matrix"
   ]
  },
  {
   "cell_type": "markdown",
   "metadata": {},
   "source": [
    "### 215 Kth largest element in an array"
   ]
  },
  {
   "cell_type": "markdown",
   "metadata": {},
   "source": [
    "### 227 basic calculator II"
   ]
  },
  {
   "cell_type": "markdown",
   "metadata": {},
   "source": [
    "### 339 nested list weight sum"
   ]
  },
  {
   "cell_type": "markdown",
   "metadata": {},
   "source": [
    "### 314 binary tree vertical order traversal"
   ]
  },
  {
   "cell_type": "markdown",
   "metadata": {},
   "source": [
    "### 1650 lowest common ancestor of a binary tree III"
   ]
  },
  {
   "cell_type": "markdown",
   "metadata": {},
   "source": [
    "### 56 Merge intervals"
   ]
  },
  {
   "cell_type": "markdown",
   "metadata": {},
   "source": [
    "### 236 Lowest common ancestor of a binary tree"
   ]
  },
  {
   "cell_type": "markdown",
   "metadata": {},
   "source": [
    "### 398 random pick index"
   ]
  },
  {
   "cell_type": "markdown",
   "metadata": {},
   "source": [
    "### 560 subarray sum equals k"
   ]
  },
  {
   "cell_type": "markdown",
   "metadata": {},
   "source": [
    "### 1762 buildings with an oncean view"
   ]
  },
  {
   "cell_type": "markdown",
   "metadata": {},
   "source": [
    "### 15 3 sum"
   ]
  },
  {
   "cell_type": "markdown",
   "metadata": {},
   "source": [
    "### 71 simplify path"
   ]
  },
  {
   "cell_type": "markdown",
   "metadata": {},
   "source": [
    "### 138 copy list with random pointer"
   ]
  },
  {
   "cell_type": "markdown",
   "metadata": {},
   "source": [
    "### 162 find peak element"
   ]
  },
  {
   "cell_type": "markdown",
   "metadata": {},
   "source": [
    "### 199 binary tree right side view"
   ]
  },
  {
   "cell_type": "markdown",
   "metadata": {},
   "source": [
    "### 347 top K frequent elements"
   ]
  },
  {
   "cell_type": "markdown",
   "metadata": {},
   "source": [
    "### 348 design tic-tac-toe "
   ]
  },
  {
   "cell_type": "markdown",
   "metadata": {},
   "source": [
    "### 636 exclusive time of functions"
   ]
  },
  {
   "cell_type": "markdown",
   "metadata": {},
   "source": [
    "### 528 random pick with weight"
   ]
  },
  {
   "cell_type": "markdown",
   "metadata": {},
   "source": [
    "# Hard"
   ]
  },
  {
   "cell_type": "markdown",
   "metadata": {},
   "source": [
    "### 23 merge K sorted lists"
   ]
  }
 ],
 "metadata": {
  "kernelspec": {
   "display_name": "new_env",
   "language": "python",
   "name": "python3"
  },
  "language_info": {
   "codemirror_mode": {
    "name": "ipython",
    "version": 3
   },
   "file_extension": ".py",
   "mimetype": "text/x-python",
   "name": "python",
   "nbconvert_exporter": "python",
   "pygments_lexer": "ipython3",
   "version": "3.10.12"
  },
  "orig_nbformat": 4
 },
 "nbformat": 4,
 "nbformat_minor": 2
}
