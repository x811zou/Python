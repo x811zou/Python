{
 "cells": [
  {
   "cell_type": "code",
   "execution_count": 196,
   "metadata": {},
   "outputs": [],
   "source": [
    "import sys\n",
    "import numpy as np\n",
    "import pickle\n",
    "import os\n",
    "import re\n",
    "import pandas as pd\n",
    "import math\n",
    "import matplotlib.pyplot as plt\n",
    "from pathlib import Path\n",
    "from pickle import dump, load\n",
    "from math import log,log2\n",
    "import random"
   ]
  },
  {
   "attachments": {},
   "cell_type": "markdown",
   "metadata": {},
   "source": [
    "## Iterable objects (FOR LOOP) and representatives"
   ]
  },
  {
   "cell_type": "markdown",
   "metadata": {},
   "source": [
    "### Iterate through a list or tuple"
   ]
  },
  {
   "cell_type": "code",
   "execution_count": 2,
   "metadata": {},
   "outputs": [
    {
     "name": "stdout",
     "output_type": "stream",
     "text": [
      "R\n",
      "A\n",
      "B\n"
     ]
    }
   ],
   "source": [
    "droids = ['R', 'A', 'B']\n",
    "for i in droids:\n",
    "    print(i)"
   ]
  },
  {
   "cell_type": "code",
   "execution_count": 3,
   "metadata": {},
   "outputs": [
    {
     "name": "stdout",
     "output_type": "stream",
     "text": [
      "R\n",
      "A\n",
      "B\n"
     ]
    }
   ],
   "source": [
    "droids_tuple = ('R', 'A', 'B')\n",
    "for i in droids:\n",
    "    print(i)"
   ]
  },
  {
   "cell_type": "markdown",
   "metadata": {},
   "source": [
    "### Iterate through a set"
   ]
  },
  {
   "cell_type": "code",
   "execution_count": 4,
   "metadata": {},
   "outputs": [
    {
     "ename": "TypeError",
     "evalue": "set expected at most 1 argument, got 3",
     "output_type": "error",
     "traceback": [
      "\u001b[0;31m---------------------------------------------------------------------------\u001b[0m",
      "\u001b[0;31mTypeError\u001b[0m                                 Traceback (most recent call last)",
      "Cell \u001b[0;32mIn[4], line 1\u001b[0m\n\u001b[0;32m----> 1\u001b[0m set_example \u001b[38;5;241m=\u001b[39m \u001b[38;5;28;43mset\u001b[39;49m\u001b[43m(\u001b[49m\u001b[38;5;124;43m\"\u001b[39;49m\u001b[38;5;124;43mA\u001b[39;49m\u001b[38;5;124;43m\"\u001b[39;49m\u001b[43m \u001b[49m\u001b[43m,\u001b[49m\u001b[43m \u001b[49m\u001b[38;5;124;43m\"\u001b[39;49m\u001b[38;5;124;43mC\u001b[39;49m\u001b[38;5;124;43m\"\u001b[39;49m\u001b[43m,\u001b[49m\u001b[43m \u001b[49m\u001b[38;5;124;43m\"\u001b[39;49m\u001b[38;5;124;43mB\u001b[39;49m\u001b[38;5;124;43m\"\u001b[39;49m\u001b[43m)\u001b[49m\n\u001b[1;32m      2\u001b[0m \u001b[38;5;28;01mfor\u001b[39;00m j \u001b[38;5;129;01min\u001b[39;00m set_example:\n\u001b[1;32m      3\u001b[0m     \u001b[38;5;28mprint\u001b[39m(j)\n",
      "\u001b[0;31mTypeError\u001b[0m: set expected at most 1 argument, got 3"
     ]
    }
   ],
   "source": [
    "set_example = set(\"A\" , \"C\", \"B\")\n",
    "for j in set_example:\n",
    "    print(j)"
   ]
  },
  {
   "cell_type": "code",
   "execution_count": 5,
   "metadata": {},
   "outputs": [
    {
     "name": "stdout",
     "output_type": "stream",
     "text": [
      "A\n",
      "C\n",
      "B\n"
     ]
    }
   ],
   "source": [
    "set_example = {\"A\" , \"C\", \"B\"}\n",
    "for j in set_example:\n",
    "    print(j)"
   ]
  },
  {
   "cell_type": "markdown",
   "metadata": {},
   "source": [
    "### Iterate through a string"
   ]
  },
  {
   "cell_type": "code",
   "execution_count": 6,
   "metadata": {},
   "outputs": [
    {
     "name": "stdout",
     "output_type": "stream",
     "text": [
      "S\n",
      "t\n",
      "a\n",
      "r\n",
      " \n",
      "w\n",
      "a\n",
      "r\n",
      "s\n"
     ]
    }
   ],
   "source": [
    "string_example = \"Star wars\"\n",
    "for char in string_example:\n",
    "    print(char)"
   ]
  },
  {
   "cell_type": "markdown",
   "metadata": {},
   "source": [
    "### Iterate through a dictionary"
   ]
  },
  {
   "cell_type": "code",
   "execution_count": 7,
   "metadata": {},
   "outputs": [
    {
     "name": "stdout",
     "output_type": "stream",
     "text": [
      "A\n",
      "B\n",
      "C\n"
     ]
    }
   ],
   "source": [
    "example_dictionary = {\"A\": 1, \"B\": 2, \"C\": 3}\n",
    "for dict in example_dictionary:\n",
    "    print(dict)"
   ]
  },
  {
   "cell_type": "code",
   "execution_count": 9,
   "metadata": {},
   "outputs": [
    {
     "name": "stdout",
     "output_type": "stream",
     "text": [
      "A : 1\n",
      "B : 2\n",
      "C : 3\n"
     ]
    }
   ],
   "source": [
    "example_dictionary = {\"A\": 1, \"B\": 2, \"C\": 3}\n",
    "for key, value in example_dictionary.items():\n",
    "    print(key + \" : \" + str(value))"
   ]
  },
  {
   "cell_type": "markdown",
   "metadata": {},
   "source": [
    "### Range"
   ]
  },
  {
   "cell_type": "code",
   "execution_count": 10,
   "metadata": {},
   "outputs": [
    {
     "name": "stdout",
     "output_type": "stream",
     "text": [
      "0\n",
      "1\n",
      "2\n",
      "3\n",
      "4\n",
      "5\n",
      "6\n",
      "7\n",
      "8\n",
      "9\n"
     ]
    }
   ],
   "source": [
    "interval = range(0, 10)\n",
    "for i in interval:\n",
    "    print(i)"
   ]
  },
  {
   "cell_type": "markdown",
   "metadata": {},
   "source": [
    "### Enumerate"
   ]
  },
  {
   "cell_type": "code",
   "execution_count": 13,
   "metadata": {},
   "outputs": [
    {
     "name": "stdout",
     "output_type": "stream",
     "text": [
      "(0, 0)\n",
      "(1, 1)\n",
      "(2, 2)\n",
      "(3, 3)\n",
      "(4, 4)\n",
      "(5, 5)\n",
      "(6, 6)\n",
      "(7, 7)\n",
      "(8, 8)\n",
      "(9, 9)\n"
     ]
    }
   ],
   "source": [
    "for item in enumerate(interval):\n",
    "    print(item)"
   ]
  },
  {
   "cell_type": "code",
   "execution_count": 16,
   "metadata": {},
   "outputs": [
    {
     "name": "stdout",
     "output_type": "stream",
     "text": [
      "0th: 0\n",
      "1th: 1\n",
      "2th: 2\n",
      "3th: 3\n",
      "4th: 4\n",
      "5th: 5\n",
      "6th: 6\n",
      "7th: 7\n",
      "8th: 8\n",
      "9th: 9\n"
     ]
    }
   ],
   "source": [
    "for idx, item in enumerate(interval):\n",
    "    print(str(idx) + \"th: \"+ str(item))"
   ]
  },
  {
   "cell_type": "markdown",
   "metadata": {},
   "source": [
    "### Iterables as arguments"
   ]
  },
  {
   "cell_type": "code",
   "execution_count": 18,
   "metadata": {},
   "outputs": [
    {
     "data": {
      "text/plain": [
       "[(0, 0),\n",
       " (1, 1),\n",
       " (2, 2),\n",
       " (3, 3),\n",
       " (4, 4),\n",
       " (5, 5),\n",
       " (6, 6),\n",
       " (7, 7),\n",
       " (8, 8),\n",
       " (9, 9)]"
      ]
     },
     "execution_count": 18,
     "metadata": {},
     "output_type": "execute_result"
    }
   ],
   "source": [
    "list(enumerate(interval))"
   ]
  },
  {
   "cell_type": "code",
   "execution_count": 17,
   "metadata": {},
   "outputs": [
    {
     "data": {
      "text/plain": [
       "{(0, 0),\n",
       " (1, 1),\n",
       " (2, 2),\n",
       " (3, 3),\n",
       " (4, 4),\n",
       " (5, 5),\n",
       " (6, 6),\n",
       " (7, 7),\n",
       " (8, 8),\n",
       " (9, 9)}"
      ]
     },
     "execution_count": 17,
     "metadata": {},
     "output_type": "execute_result"
    }
   ],
   "source": [
    "set(enumerate(interval))"
   ]
  },
  {
   "cell_type": "markdown",
   "metadata": {},
   "source": [
    "### Iterable objects"
   ]
  },
  {
   "cell_type": "code",
   "execution_count": 21,
   "metadata": {},
   "outputs": [
    {
     "name": "stdout",
     "output_type": "stream",
     "text": [
      "<range_iterator object at 0x7303203404b0>\n"
     ]
    }
   ],
   "source": [
    "interval = range(0, 5)\n",
    "interval_iter = iter(interval)\n",
    "print(interval_iter )"
   ]
  },
  {
   "cell_type": "code",
   "execution_count": 22,
   "metadata": {},
   "outputs": [
    {
     "data": {
      "text/plain": [
       "0"
      ]
     },
     "execution_count": 22,
     "metadata": {},
     "output_type": "execute_result"
    }
   ],
   "source": [
    "next(interval_iter)"
   ]
  },
  {
   "cell_type": "code",
   "execution_count": 23,
   "metadata": {},
   "outputs": [
    {
     "data": {
      "text/plain": [
       "1"
      ]
     },
     "execution_count": 23,
     "metadata": {},
     "output_type": "execute_result"
    }
   ],
   "source": [
    "next(interval_iter)"
   ]
  },
  {
   "cell_type": "code",
   "execution_count": 24,
   "metadata": {},
   "outputs": [
    {
     "data": {
      "text/plain": [
       "2"
      ]
     },
     "execution_count": 24,
     "metadata": {},
     "output_type": "execute_result"
    }
   ],
   "source": [
    "next(interval_iter)"
   ]
  },
  {
   "cell_type": "code",
   "execution_count": 25,
   "metadata": {},
   "outputs": [
    {
     "data": {
      "text/plain": [
       "3"
      ]
     },
     "execution_count": 25,
     "metadata": {},
     "output_type": "execute_result"
    }
   ],
   "source": [
    "next(interval_iter)"
   ]
  },
  {
   "cell_type": "code",
   "execution_count": 26,
   "metadata": {},
   "outputs": [
    {
     "data": {
      "text/plain": [
       "4"
      ]
     },
     "execution_count": 26,
     "metadata": {},
     "output_type": "execute_result"
    }
   ],
   "source": [
    "next(interval_iter)"
   ]
  },
  {
   "cell_type": "code",
   "execution_count": 27,
   "metadata": {},
   "outputs": [
    {
     "ename": "StopIteration",
     "evalue": "",
     "output_type": "error",
     "traceback": [
      "\u001b[0;31m---------------------------------------------------------------------------\u001b[0m",
      "\u001b[0;31mStopIteration\u001b[0m                             Traceback (most recent call last)",
      "Cell \u001b[0;32mIn[27], line 1\u001b[0m\n\u001b[0;32m----> 1\u001b[0m \u001b[38;5;28;43mnext\u001b[39;49m\u001b[43m(\u001b[49m\u001b[43minterval_iter\u001b[49m\u001b[43m)\u001b[49m\n",
      "\u001b[0;31mStopIteration\u001b[0m: "
     ]
    }
   ],
   "source": [
    "next(interval_iter)"
   ]
  },
  {
   "cell_type": "code",
   "execution_count": 29,
   "metadata": {},
   "outputs": [
    {
     "name": "stdout",
     "output_type": "stream",
     "text": [
      "A\n",
      "B\n",
      "C\n"
     ]
    }
   ],
   "source": [
    "droids = ['A', 'B', 'C']\n",
    "iter_droids = iter(droids)\n",
    "while True:\n",
    "    try: \n",
    "        droid = next(iter_droids)  \n",
    "        print(droid)\n",
    "    except StopIteration:\n",
    "        break\n"
   ]
  },
  {
   "cell_type": "markdown",
   "metadata": {},
   "source": [
    "### Traversing a dataframe"
   ]
  },
  {
   "cell_type": "code",
   "execution_count": 32,
   "metadata": {},
   "outputs": [
    {
     "name": "stdout",
     "output_type": "stream",
     "text": [
      "           Weight  height\n",
      "Luke          168      77\n",
      "Han           183      79\n",
      "Chewbacca     198     135\n"
     ]
    }
   ],
   "source": [
    "pars = {'Weight': [168, 183, 198], 'height': [77, 79, 135]}\n",
    "characters = pd.DataFrame(pars, index=['Luke', 'Han', 'Chewbacca'])\n",
    "print(characters)"
   ]
  },
  {
   "cell_type": "code",
   "execution_count": 33,
   "metadata": {},
   "outputs": [
    {
     "name": "stdout",
     "output_type": "stream",
     "text": [
      "Weight\n",
      "height\n"
     ]
    }
   ],
   "source": [
    "for item in characters:\n",
    "    print(item) "
   ]
  },
  {
   "cell_type": "markdown",
   "metadata": {},
   "source": [
    "### loop over an object using .iterrows()"
   ]
  },
  {
   "cell_type": "code",
   "execution_count": 39,
   "metadata": {},
   "outputs": [
    {
     "name": "stdout",
     "output_type": "stream",
     "text": [
      "<generator object DataFrame.iterrows at 0x7302ce1b86d0>\n"
     ]
    }
   ],
   "source": [
    "result = characters.iterrows()\n",
    "print(result)\n"
   ]
  },
  {
   "cell_type": "code",
   "execution_count": 37,
   "metadata": {},
   "outputs": [
    {
     "name": "stdout",
     "output_type": "stream",
     "text": [
      "('Luke', Weight    168\n",
      "height     77\n",
      "Name: Luke, dtype: int64)\n",
      "('Han', Weight    183\n",
      "height     79\n",
      "Name: Han, dtype: int64)\n",
      "('Chewbacca', Weight    198\n",
      "height    135\n",
      "Name: Chewbacca, dtype: int64)\n"
     ]
    }
   ],
   "source": [
    "# each item is a tuple with the index and the row data as a Series\n",
    "for item in result:\n",
    "    print(item)"
   ]
  },
  {
   "cell_type": "code",
   "execution_count": 40,
   "metadata": {},
   "outputs": [
    {
     "name": "stdout",
     "output_type": "stream",
     "text": [
      "Luke\n",
      "Weight    168\n",
      "height     77\n",
      "Name: Luke, dtype: int64\n",
      "Han\n",
      "Weight    183\n",
      "height     79\n",
      "Name: Han, dtype: int64\n",
      "Chewbacca\n",
      "Weight    198\n",
      "height    135\n",
      "Name: Chewbacca, dtype: int64\n"
     ]
    }
   ],
   "source": [
    "for index, series in result:\n",
    "    print(index)\n",
    "    print(series)"
   ]
  },
  {
   "cell_type": "markdown",
   "metadata": {},
   "source": [
    "### example questions:\n",
    "1. given a string, to define the function retrieve_character_indices() that creates a dictionary character_indices, where each key represents a unique character from the string and the corresponding value is a list containing the indices/positions of this letter in the string. For example, passing the string 'ukulele' to the retrieve_character_indices() function should result in the following output: {'e': [4, 6], 'k': [1], 'l': [3, 5], 'u': [0, 2]}"
   ]
  },
  {
   "cell_type": "code",
   "execution_count": 57,
   "metadata": {},
   "outputs": [],
   "source": [
    "def retrieve_character_indices(string):\n",
    "    character_indices = {}\n",
    "    # Define the 'for' loop\n",
    "    for index, character in enumerate(string):\n",
    "        # Update the dictionary if the key already exists\n",
    "        if character in character_indices:\n",
    "            character_indices[character].append(index)\n",
    "        # Update the dictionary if the key is absent\n",
    "        else:\n",
    "            character_indices[character] = [index]\n",
    "            \n",
    "    return character_indices"
   ]
  },
  {
   "cell_type": "code",
   "execution_count": 58,
   "metadata": {},
   "outputs": [
    {
     "data": {
      "text/plain": [
       "{'u': [0, 2], 'k': [1], 'l': [3, 5], 'e': [4, 6]}"
      ]
     },
     "execution_count": 58,
     "metadata": {},
     "output_type": "execute_result"
    }
   ],
   "source": [
    "input_string = 'ukulele'\n",
    "retrieve_character_indices(input_string)"
   ]
  },
  {
   "cell_type": "markdown",
   "metadata": {},
   "source": [
    "2. You are given the dictionary pets whose keys are Harry Potter characters and the values are the corresponding creature companions they had. Your task is to answer the set of questions regarding the Iterator created from the pets dictionary. "
   ]
  },
  {
   "cell_type": "code",
   "execution_count": null,
   "metadata": {},
   "outputs": [],
   "source": []
  },
  {
   "cell_type": "markdown",
   "metadata": {},
   "source": [
    "3. ou are given the heroes DataFrame you're already familiar with. This time, it contains only categorical data and no missing values. You have to create the following dictionary from this dataset:\n",
    "\n",
    "Each key is a column name. <br>\n",
    "Each value is another dictionary: <br>\n",
    "Each key is a unique category from the column. <br>\n",
    "Each value is the amount of heroes falling into this category. <br>\n",
    "Tip: a Series object is also an Iterable. It traverses through the values it stores when you put it in a for loop or pass it to list(), tuple(), or set() initializers.\n",
    "\n"
   ]
  },
  {
   "cell_type": "markdown",
   "metadata": {},
   "source": [
    "                   Gender                Eye color               Race    Hair color          Publisher  Skin color Alignment\n",
    "name                                                                                                                         \n",
    "Abe Sapien            Male                     blue      Icthyo Sapien       No Hair  Dark Horse Comics        blue      good\n",
    "Abin Sur              Male                     blue            Ungaran       No Hair          DC Comics         red      good\n",
    "Apocalypse            Male                      red             Mutant         Black      Marvel Comics        grey       bad\n",
    "Archangel             Male                     blue             Mutant         Blond      Marvel Comics        blue      good\n",
    "Ardina              Female                    white              Alien        Orange      Marvel Comics        gold      good\n",
    "Azazel                Male                   yellow           Neyaphem         Black      Marvel Comics         red       bad\n",
    "Beast                 Male                     blue             Mutant          Blue      Marvel Comics        blue      good"
   ]
  },
  {
   "cell_type": "code",
   "execution_count": null,
   "metadata": {},
   "outputs": [],
   "source": [
    "column_counts = dict()\n",
    "\n",
    "# Traverse through the columns in the heroes DataFrame\n",
    "for column_name, series in heroes.iteritems():\n",
    "    # Retrieve the values stored in series in a list form\n",
    "    values = list(series)\n",
    "    category_counts = dict()  \n",
    "    # Traverse through unique categories in values\n",
    "    for category in set(values):\n",
    "        # Count the appearance of category in values\n",
    "        category_counts[category] = values.count(category)\n",
    "    \n",
    "    column_counts[column_name] = category_counts\n",
    "    \n",
    "print(column_counts)"
   ]
  },
  {
   "cell_type": "markdown",
   "metadata": {},
   "source": [
    "## List comprehension: defined by (1) an iterable object, (2) an operation on an element"
   ]
  },
  {
   "cell_type": "code",
   "execution_count": 59,
   "metadata": {},
   "outputs": [],
   "source": [
    "nums = [1, 2, 3, 4, 5, 10, 9 , 8, 7, 6]"
   ]
  },
  {
   "cell_type": "code",
   "execution_count": 63,
   "metadata": {},
   "outputs": [
    {
     "name": "stdout",
     "output_type": "stream",
     "text": [
      "[2, 4, 6, 8, 10]\n"
     ]
    }
   ],
   "source": [
    "nums_new = []\n",
    "for i in range(1,6):\n",
    "    nums_new.append(i*2)\n",
    "print(nums_new)"
   ]
  },
  {
   "cell_type": "code",
   "execution_count": 64,
   "metadata": {},
   "outputs": [
    {
     "name": "stdout",
     "output_type": "stream",
     "text": [
      "[2, 4, 6, 8, 10]\n"
     ]
    }
   ],
   "source": [
    "new_advanced = [i*2 for i in range(1,6)]\n",
    "print(new_advanced)"
   ]
  },
  {
   "cell_type": "markdown",
   "metadata": {},
   "source": [
    "### list comprehension with condition"
   ]
  },
  {
   "cell_type": "code",
   "execution_count": 67,
   "metadata": {},
   "outputs": [
    {
     "name": "stdout",
     "output_type": "stream",
     "text": [
      "[2, 4, 6, 8, 10]\n"
     ]
    }
   ],
   "source": [
    "new_cond = [i for i in range(1,11) if i % 2 == 0]\n",
    "print(new_cond)"
   ]
  },
  {
   "cell_type": "markdown",
   "metadata": {},
   "source": [
    "### example question: create a list that contains the length of each lowercased word"
   ]
  },
  {
   "cell_type": "code",
   "execution_count": 72,
   "metadata": {},
   "outputs": [],
   "source": [
    "text = 'list COMPREHENSION is A way TO create LISTS'"
   ]
  },
  {
   "cell_type": "code",
   "execution_count": 74,
   "metadata": {},
   "outputs": [
    {
     "data": {
      "text/plain": [
       "[4, 2, 3, 6]"
      ]
     },
     "execution_count": 74,
     "metadata": {},
     "output_type": "execute_result"
    }
   ],
   "source": [
    "lengths = [len(words) for words in text.split(\" \") if words.islower()]\n",
    "lengths"
   ]
  },
  {
   "cell_type": "markdown",
   "metadata": {},
   "source": [
    "### multiple loops: create all the possible pairs between numbers and letters:"
   ]
  },
  {
   "cell_type": "code",
   "execution_count": 75,
   "metadata": {},
   "outputs": [],
   "source": [
    "numbers = [1, 2, 3, 4, 5]\n",
    "letters = ['A', 'B', 'C', 'D', 'E']"
   ]
  },
  {
   "cell_type": "code",
   "execution_count": 76,
   "metadata": {},
   "outputs": [
    {
     "name": "stdout",
     "output_type": "stream",
     "text": [
      "[(1, 'A'), (1, 'B'), (1, 'C'), (1, 'D'), (1, 'E'), (2, 'A'), (2, 'B'), (2, 'C'), (2, 'D'), (2, 'E'), (3, 'A'), (3, 'B'), (3, 'C'), (3, 'D'), (3, 'E'), (4, 'A'), (4, 'B'), (4, 'C'), (4, 'D'), (4, 'E'), (5, 'A'), (5, 'B'), (5, 'C'), (5, 'D'), (5, 'E')]\n"
     ]
    }
   ],
   "source": [
    "pairs = [(i,j) for i in numbers for j in letters]\n",
    "print(pairs)"
   ]
  },
  {
   "cell_type": "markdown",
   "metadata": {},
   "source": [
    "### adding square bracket"
   ]
  },
  {
   "cell_type": "markdown",
   "metadata": {},
   "source": []
  },
  {
   "cell_type": "code",
   "execution_count": 77,
   "metadata": {},
   "outputs": [
    {
     "name": "stdout",
     "output_type": "stream",
     "text": [
      "[[(1, 'A'), (2, 'A'), (3, 'A'), (4, 'A'), (5, 'A')], [(1, 'B'), (2, 'B'), (3, 'B'), (4, 'B'), (5, 'B')], [(1, 'C'), (2, 'C'), (3, 'C'), (4, 'C'), (5, 'C')], [(1, 'D'), (2, 'D'), (3, 'D'), (4, 'D'), (5, 'D')], [(1, 'E'), (2, 'E'), (3, 'E'), (4, 'E'), (5, 'E')]]\n"
     ]
    }
   ],
   "source": [
    "pairs = [[(i,j) for i in numbers] for j in letters]\n",
    "print(pairs)"
   ]
  },
  {
   "cell_type": "code",
   "execution_count": 78,
   "metadata": {},
   "outputs": [
    {
     "name": "stdout",
     "output_type": "stream",
     "text": [
      "[[('A', 1), ('B', 1), ('C', 1), ('D', 1), ('E', 1)], [('A', 2), ('B', 2), ('C', 2), ('D', 2), ('E', 2)], [('A', 3), ('B', 3), ('C', 3), ('D', 3), ('E', 3)], [('A', 4), ('B', 4), ('C', 4), ('D', 4), ('E', 4)], [('A', 5), ('B', 5), ('C', 5), ('D', 5), ('E', 5)]]\n"
     ]
    }
   ],
   "source": [
    "pairs = [[(i,j) for i in letters] for j in numbers]\n",
    "print(pairs)"
   ]
  },
  {
   "cell_type": "markdown",
   "metadata": {},
   "source": [
    "### Example questions:\n",
    "1. you will have to create a bag-of-words representation of the spam email stored in the spam variable (you can explore the content using the shell). Recall that bag-of-words is simply a counter of unique words in a given text. This representation can be further used for text classification, e.g. for spam detection (given enough training examples). We created a small auxiliary function create_word_list() to help you split a string into words, e.g. applying it to 'To infinity... and beyond!' will return ['To', 'infinity', 'and', 'beyond']."
   ]
  },
  {
   "cell_type": "code",
   "execution_count": 79,
   "metadata": {},
   "outputs": [],
   "source": [
    "spam ='Dear User,\\n\\nOur Administration Team needs to inform you that you are reaching the storage limit of your Mailbox account.\\nYou have to verify your account within the next 24 hours.\\nOtherwise, it will not be possible to use the service.\\nPlease, click on the link below to verify your account and continue using our service.\\n\\nYour Administration Team.'"
   ]
  },
  {
   "cell_type": "code",
   "execution_count": 91,
   "metadata": {},
   "outputs": [
    {
     "name": "stdout",
     "output_type": "stream",
     "text": [
      "your : 4\n",
      "to : 4\n",
      "administration : 2\n",
      "the : 4\n",
      "service. : 2\n",
      "account : 2\n",
      "you : 3\n",
      "our : 2\n",
      "verify : 2\n"
     ]
    }
   ],
   "source": [
    "# Convert the text in the spam variable to lower case and create a word list.\n",
    "spam_words = spam.lower().split()\n",
    "# Create a set that will store only unique words from the list.\n",
    "spam_unique_words = set(spam_words)\n",
    "# Using list comprehension, create a dictionary that counts a word appearance in the word list.\n",
    "word_dict = {word: spam_words.count(word) for word in spam_unique_words}\n",
    "# Print words that appear in the word_counter more than once.\n",
    "for key,value in word_dict.items():\n",
    "    if value > 1:\n",
    "        print(key + \" : \" + str(value))"
   ]
  },
  {
   "cell_type": "markdown",
   "metadata": {},
   "source": [
    "2. Your task is, given a list of candidate numbers cands, to filter only prime numbers in a new list primes. But first, you need to create a function is_prime() that returns True if the input number is prime or False, otherwise. To do so, it's sufficient to test if a number is not divisible by any integer number from 2 to square root of n. Tip: you might need to use the % operator that calculates a remainder from a division (e.g. 8 % 3 is 2).\n",
    "\n"
   ]
  },
  {
   "cell_type": "code",
   "execution_count": 117,
   "metadata": {},
   "outputs": [],
   "source": [
    "cands = [1, 5, 9, 13, 17, 21, 25, 29, 33, 37, 41, 45, 49]"
   ]
  },
  {
   "cell_type": "code",
   "execution_count": 118,
   "metadata": {},
   "outputs": [
    {
     "name": "stdout",
     "output_type": "stream",
     "text": [
      "primes = [5, 13, 17, 29, 37, 41]\n"
     ]
    }
   ],
   "source": [
    "def is_prime(n):\n",
    "    # Define the initial check\n",
    "    if n < 2:\n",
    "       return False\n",
    "    # Define the loop checking if a number is not prime\n",
    "    for i in range(2, int(math.sqrt(n)) + 1):\n",
    "        if n % i == 0:\n",
    "            return False\n",
    "    return True\n",
    "    \n",
    "# Filter prime numbers into the new list\n",
    "primes = [num for num in cands if is_prime(num)]\n",
    "print(\"primes = \" + str(primes))"
   ]
  },
  {
   "cell_type": "code",
   "execution_count": 119,
   "metadata": {},
   "outputs": [
    {
     "data": {
      "text/plain": [
       "False"
      ]
     },
     "execution_count": 119,
     "metadata": {},
     "output_type": "execute_result"
    }
   ],
   "source": [
    "if_prime(1)"
   ]
  },
  {
   "cell_type": "code",
   "execution_count": 120,
   "metadata": {},
   "outputs": [
    {
     "data": {
      "text/plain": [
       "False"
      ]
     },
     "execution_count": 120,
     "metadata": {},
     "output_type": "execute_result"
    }
   ],
   "source": [
    "if_prime(8)"
   ]
  },
  {
   "cell_type": "code",
   "execution_count": 121,
   "metadata": {},
   "outputs": [
    {
     "data": {
      "text/plain": [
       "True"
      ]
     },
     "execution_count": 121,
     "metadata": {},
     "output_type": "execute_result"
    }
   ],
   "source": [
    "if_prime(7)"
   ]
  },
  {
   "cell_type": "markdown",
   "metadata": {},
   "source": [
    "3. Two numbers and are coprime if their Greatest Common Divisor (GCD) is 1. GCD is the largest positive number that divides two given numbers and a and b. For example, the numbers 7 and 9 are coprime because their GCD is 1. <r>\n",
    "Given two lists list1 and list2, your task is to create a new list coprimes that contains all the coprime pairs from list1 and list2.<br>\n",
    "But first, you need to write a function for the GCD using the following algorithm:<br>\n",
    "\n",
    "(1). check if b==0:<br>\n",
    "- if true, return a as the GCD between a and b<br>\n",
    "- if false, go to step 2<br>\n",
    "(2). make a substitution a<->b and b <-> a%b<br>\n",
    "(3). go back to step 1<br>"
   ]
  },
  {
   "cell_type": "code",
   "execution_count": 135,
   "metadata": {},
   "outputs": [],
   "source": [
    "list1 = [5, 10, 15, 20, 25, 30, 35, 40, 45, 50, 55, 60, 65, 70]\n",
    "list2 = [7, 14, 21, 28, 35, 42, 49, 56, 63, 70, 77, 84, 91, 98]"
   ]
  },
  {
   "cell_type": "code",
   "execution_count": 136,
   "metadata": {},
   "outputs": [
    {
     "name": "stdout",
     "output_type": "stream",
     "text": [
      "[(5, 7), (5, 14), (5, 21), (5, 28), (5, 42), (5, 49), (5, 56), (5, 63), (5, 77), (5, 84), (5, 91), (5, 98), (10, 7), (10, 21), (10, 49), (10, 63), (10, 77), (10, 91), (15, 7), (15, 14), (15, 28), (15, 49), (15, 56), (15, 77), (15, 91), (15, 98), (20, 7), (20, 21), (20, 49), (20, 63), (20, 77), (20, 91), (25, 7), (25, 14), (25, 21), (25, 28), (25, 42), (25, 49), (25, 56), (25, 63), (25, 77), (25, 84), (25, 91), (25, 98), (30, 7), (30, 49), (30, 77), (30, 91), (40, 7), (40, 21), (40, 49), (40, 63), (40, 77), (40, 91), (45, 7), (45, 14), (45, 28), (45, 49), (45, 56), (45, 77), (45, 91), (45, 98), (50, 7), (50, 21), (50, 49), (50, 63), (50, 77), (50, 91), (55, 7), (55, 14), (55, 21), (55, 28), (55, 42), (55, 49), (55, 56), (55, 63), (55, 84), (55, 91), (55, 98), (60, 7), (60, 49), (60, 77), (60, 91), (65, 7), (65, 14), (65, 21), (65, 28), (65, 42), (65, 49), (65, 56), (65, 63), (65, 77), (65, 84), (65, 98)]\n"
     ]
    }
   ],
   "source": [
    "def gcd(a, b):\n",
    "    # Define the while loop as described\n",
    "    while b != 0:\n",
    "        temp_a = a\n",
    "        a = b\n",
    "        b = temp_a % b    \n",
    "    # Complete the return statement\n",
    "    return a\n",
    "    \n",
    "# Create a list of tuples defining pairs of coprime numbers\n",
    "coprimes = [(i, j) for i in list1 \n",
    "                   for j in list2 if gcd(i, j) == 1]\n",
    "print(coprimes)"
   ]
  },
  {
   "cell_type": "markdown",
   "metadata": {},
   "source": [
    "## Zip object: combine several iterable objects into one iterable object"
   ]
  },
  {
   "cell_type": "code",
   "execution_count": 150,
   "metadata": {},
   "outputs": [
    {
     "name": "stdout",
     "output_type": "stream",
     "text": [
      "[(1, 'a'), (2, 'b'), (3, 'c'), (4, 'd'), (5, 'e')]\n"
     ]
    }
   ],
   "source": [
    "list_1 = [1, 2, 3, 4, 5]\n",
    "list2 = [\"a\", \"b\", \"c\", \"d\", \"e\"]\n",
    "result = zip(list_1, list2)\n",
    "print(list(result))"
   ]
  },
  {
   "cell_type": "code",
   "execution_count": 152,
   "metadata": {},
   "outputs": [
    {
     "data": {
      "text/plain": [
       "[(1, 'a'), (2, 'b'), (3, 'c'), (4, 'd'), (5, 'e')]"
      ]
     },
     "execution_count": 152,
     "metadata": {},
     "output_type": "execute_result"
    }
   ],
   "source": [
    "list2 = [\"a\", \"b\", \"c\", \"d\", \"e\"]\n",
    "result = zip(list_1, list2)\n",
    "list(result)"
   ]
  },
  {
   "cell_type": "code",
   "execution_count": 154,
   "metadata": {},
   "outputs": [
    {
     "name": "stdout",
     "output_type": "stream",
     "text": [
      "(1, 'a')\n",
      "(2, 'b')\n",
      "(3, 'c')\n",
      "(4, 'd')\n",
      "(5, 'e')\n"
     ]
    }
   ],
   "source": [
    "list2 = [\"a\", \"b\", \"c\", \"d\", \"e\"]\n",
    "result = zip(list_1, list2)\n",
    "for item in result:\n",
    "    print(item)"
   ]
  },
  {
   "cell_type": "code",
   "execution_count": 153,
   "metadata": {},
   "outputs": [
    {
     "name": "stdout",
     "output_type": "stream",
     "text": [
      "[(1, 'a'), (2, 'b'), (3, 'c'), (4, 'd'), (5, 'e')]\n"
     ]
    }
   ],
   "source": [
    "list2 = [\"a\", \"b\", \"c\", \"d\", \"e\"]\n",
    "result = zip(list_1, list2)\n",
    "tuples = list(result)\n",
    "print(tuples)"
   ]
  },
  {
   "cell_type": "code",
   "execution_count": 155,
   "metadata": {},
   "outputs": [
    {
     "data": {
      "text/plain": [
       "(1, 'a')"
      ]
     },
     "execution_count": 155,
     "metadata": {},
     "output_type": "execute_result"
    }
   ],
   "source": [
    "list2 = [\"a\", \"b\", \"c\", \"d\", \"e\"]\n",
    "result = zip(list_1, list2)\n",
    "next(result)"
   ]
  },
  {
   "cell_type": "code",
   "execution_count": 156,
   "metadata": {},
   "outputs": [
    {
     "data": {
      "text/plain": [
       "(2, 'b')"
      ]
     },
     "execution_count": 156,
     "metadata": {},
     "output_type": "execute_result"
    }
   ],
   "source": [
    "next(result)"
   ]
  },
  {
   "cell_type": "markdown",
   "metadata": {},
   "source": [
    "### Reverse operation"
   ]
  },
  {
   "cell_type": "code",
   "execution_count": 162,
   "metadata": {},
   "outputs": [],
   "source": [
    "list3 = [('a','b'),('c','d')]"
   ]
  },
  {
   "cell_type": "markdown",
   "metadata": {},
   "source": [
    "## unzip"
   ]
  },
  {
   "cell_type": "code",
   "execution_count": 163,
   "metadata": {},
   "outputs": [
    {
     "name": "stdout",
     "output_type": "stream",
     "text": [
      "<zip object at 0x7302cd647080>\n"
     ]
    }
   ],
   "source": [
    "result2 = zip(*list3)\n",
    "print(result2)"
   ]
  },
  {
   "cell_type": "markdown",
   "metadata": {},
   "source": [
    "### relation to a dict"
   ]
  },
  {
   "cell_type": "code",
   "execution_count": 164,
   "metadata": {},
   "outputs": [],
   "source": [
    "list_1 = [1, 2, 3, 4, 5]\n",
    "list2 = [\"a\", \"b\", \"c\", \"d\", \"e\"]"
   ]
  },
  {
   "cell_type": "code",
   "execution_count": 165,
   "metadata": {},
   "outputs": [
    {
     "ename": "TypeError",
     "evalue": "'tuple' object is not callable",
     "output_type": "error",
     "traceback": [
      "\u001b[0;31m---------------------------------------------------------------------------\u001b[0m",
      "\u001b[0;31mTypeError\u001b[0m                                 Traceback (most recent call last)",
      "Cell \u001b[0;32mIn[165], line 1\u001b[0m\n\u001b[0;32m----> 1\u001b[0m movies \u001b[38;5;241m=\u001b[39m \u001b[38;5;28;43mdict\u001b[39;49m\u001b[43m(\u001b[49m\u001b[38;5;28;43mzip\u001b[39;49m\u001b[43m(\u001b[49m\u001b[43mlist_1\u001b[49m\u001b[43m,\u001b[49m\u001b[43m \u001b[49m\u001b[43mlist2\u001b[49m\u001b[43m)\u001b[49m\u001b[43m)\u001b[49m\n\u001b[1;32m      2\u001b[0m movies\n",
      "\u001b[0;31mTypeError\u001b[0m: 'tuple' object is not callable"
     ]
    }
   ],
   "source": [
    "movies = dict(zip(list_1, list2))\n",
    "movies"
   ]
  },
  {
   "cell_type": "markdown",
   "metadata": {},
   "source": [
    "### example questions:\n",
    "1. You are given the list wlist that contains lists of different words. Your task is to create a new iterable object, where each element represents a tuple. Each tuple should contain a list from the wlist, the length of this list, and the longest word within this list. If there is ambiguity in choosing the longest word, the word with the lowest index in the considered list should be taken into account. For example, given the list"
   ]
  },
  {
   "cell_type": "code",
   "execution_count": 168,
   "metadata": {},
   "outputs": [
    {
     "data": {
      "text/plain": [
       "[['Python', 'creativity', 'universe'],\n",
       " ['interview', 'study', 'job', 'university', 'lecture'],\n",
       " ['task', 'objective', 'aim', 'subject', 'programming', 'test', 'research']]"
      ]
     },
     "execution_count": 168,
     "metadata": {},
     "output_type": "execute_result"
    }
   ],
   "source": [
    "wlist = [['Python', 'creativity', 'universe'],\n",
    " ['interview', 'study', 'job', 'university', 'lecture'],\n",
    " ['task', 'objective', 'aim', 'subject', 'programming', 'test', 'research']]\n",
    "wlist"
   ]
  },
  {
   "cell_type": "code",
   "execution_count": 169,
   "metadata": {},
   "outputs": [
    {
     "name": "stdout",
     "output_type": "stream",
     "text": [
      "(['Python', 'creativity', 'universe'], 3, 'creativity')\n",
      "(['interview', 'study', 'job', 'university', 'lecture'], 5, 'university')\n",
      "(['task', 'objective', 'aim', 'subject', 'programming', 'test', 'research'], 7, 'programming')\n"
     ]
    }
   ],
   "source": [
    "# Define a function searching for the longest word\n",
    "def get_longest_word(words):\n",
    "    longest_word = ''\n",
    "    for word in words:\n",
    "        if len(word) > len(longest_word):\n",
    "            longest_word = word\n",
    "    return longest_word\n",
    "\n",
    "# Create a list of the lengths of each list in wlist\n",
    "lengths = [len(item) for item in wlist]\n",
    "\n",
    "# Create a list of the longest words in each list in wlist\n",
    "words = [get_longest_word(item) for item in wlist]\n",
    "\n",
    "# Combine the resulting data into one iterable object\n",
    "for item in zip(wlist, lengths, words):\n",
    "    print(item)\n"
   ]
  },
  {
   "cell_type": "code",
   "execution_count": 166,
   "metadata": {},
   "outputs": [
    {
     "data": {
      "text/plain": [
       "[['dog', 'pigeon'], ['cat', 'wolf', 'seal']]"
      ]
     },
     "execution_count": 166,
     "metadata": {},
     "output_type": "execute_result"
    }
   ],
   "source": [
    "input = [\n",
    "    ['dog', 'pigeon'],\n",
    "    ['cat', 'wolf', 'seal']\n",
    "]\n",
    "input\n"
   ]
  },
  {
   "cell_type": "markdown",
   "metadata": {},
   "source": [
    "2. In the previous exercise, you used two list comprehensions to create lists lengths and words that, respectively, refer to the lengths of the constituent lists in wlist and the longest words stored in those lists. In this exercise, you'll create them in a slightly different way. First, you'll need to put the same calculations into one list comprehension, which should result in a list of tuples. Second, apply the unzip operation to generate two distinct tuples, resembling lengths and words from the previous exercise.The list wlist and the function get_longest_word() are already available in your workspace."
   ]
  },
  {
   "cell_type": "code",
   "execution_count": 170,
   "metadata": {},
   "outputs": [
    {
     "name": "stdout",
     "output_type": "stream",
     "text": [
      "(['Python', 'creativity', 'universe'], 3, 'creativity')\n",
      "(['interview', 'study', 'job', 'university', 'lecture'], 5, 'university')\n",
      "(['task', 'objective', 'aim', 'subject', 'programming', 'test', 'research'], 7, 'programming')\n"
     ]
    }
   ],
   "source": [
    "# Create a list of tuples with lengths and longest words\n",
    "result = [\n",
    "    (len(item), get_longest_word(item)) for item in wlist\n",
    "]\n",
    "\n",
    "# Unzip the result    \n",
    "lengths, words = zip(* result)\n",
    "\n",
    "for item in zip(wlist, lengths, words):\n",
    "    print(item)"
   ]
  },
  {
   "cell_type": "markdown",
   "metadata": {},
   "source": [
    "3. Your last task in this lesson is to create a DataFrame from a dictionary supplied by a zip object. You have to take each single word stored in the list wlist and calculate its length. This data should be stored in two separate tuples that are supplied to the zip() initializer. The resulting zip object should be used to construct a DataFrame where the first column will store words and the second column will store their lengths.The module pandas is already imported for you as pd."
   ]
  },
  {
   "cell_type": "code",
   "execution_count": 173,
   "metadata": {},
   "outputs": [
    {
     "name": "stdout",
     "output_type": "stream",
     "text": [
      "           word  length\n",
      "0        Python       6\n",
      "1    creativity      10\n",
      "2      universe       8\n",
      "3     interview       9\n",
      "4         study       5\n",
      "5           job       3\n",
      "6    university      10\n",
      "7       lecture       7\n",
      "8          task       4\n",
      "9     objective       9\n",
      "10          aim       3\n",
      "11      subject       7\n",
      "12  programming      11\n",
      "13         test       4\n",
      "14     research       8\n"
     ]
    }
   ],
   "source": [
    "# Create a list of tuples with words and their lengths\n",
    "word_lengths = [\n",
    "    (item, len(item)) for items in wlist for item in items\n",
    "]\n",
    "\n",
    "# Unwrap the word_lengths\n",
    "words, lengths = zip(*word_lengths)\n",
    "\n",
    "# Create a dictionary with column names as keys\n",
    "data_dict = {'word': words, 'length': lengths}\n",
    "\n",
    "# Convert the dictionary to a DataFrame\n",
    "data_frame = pd.DataFrame(data_dict)\n",
    "\n",
    "print(data_frame)\n"
   ]
  },
  {
   "cell_type": "markdown",
   "metadata": {},
   "source": [
    "## Generator - a special iterable object created by a function having a yield keyword in its body"
   ]
  },
  {
   "cell_type": "markdown",
   "metadata": {},
   "source": [
    "### regular function"
   ]
  },
  {
   "cell_type": "code",
   "execution_count": 174,
   "metadata": {},
   "outputs": [],
   "source": [
    "def func():\n",
    "    return 0"
   ]
  },
  {
   "cell_type": "code",
   "execution_count": 175,
   "metadata": {},
   "outputs": [
    {
     "name": "stdout",
     "output_type": "stream",
     "text": [
      "0\n"
     ]
    }
   ],
   "source": [
    "result = func()\n",
    "print(result)"
   ]
  },
  {
   "cell_type": "markdown",
   "metadata": {},
   "source": [
    "### generator function"
   ]
  },
  {
   "cell_type": "code",
   "execution_count": 176,
   "metadata": {},
   "outputs": [],
   "source": [
    "def func():\n",
    "    yield 0"
   ]
  },
  {
   "cell_type": "code",
   "execution_count": 177,
   "metadata": {},
   "outputs": [
    {
     "name": "stdout",
     "output_type": "stream",
     "text": [
      "<generator object func at 0x7302cd6e4b30>\n"
     ]
    }
   ],
   "source": [
    "result = func()\n",
    "print(result)"
   ]
  },
  {
   "cell_type": "code",
   "execution_count": 178,
   "metadata": {},
   "outputs": [
    {
     "name": "stdout",
     "output_type": "stream",
     "text": [
      "0\n"
     ]
    }
   ],
   "source": [
    "for item in result:\n",
    "    print(item)"
   ]
  },
  {
   "cell_type": "code",
   "execution_count": 179,
   "metadata": {},
   "outputs": [],
   "source": [
    "def func():\n",
    "    yield 0\n",
    "    yield 1\n",
    "    yield 2"
   ]
  },
  {
   "cell_type": "code",
   "execution_count": 180,
   "metadata": {},
   "outputs": [
    {
     "name": "stdout",
     "output_type": "stream",
     "text": [
      "<generator object func at 0x7302cd6e5c40>\n"
     ]
    }
   ],
   "source": [
    "result = func()\n",
    "print(result)"
   ]
  },
  {
   "cell_type": "code",
   "execution_count": 181,
   "metadata": {},
   "outputs": [
    {
     "name": "stdout",
     "output_type": "stream",
     "text": [
      "0\n",
      "1\n",
      "2\n"
     ]
    }
   ],
   "source": [
    "for item in result:\n",
    "    print(item)"
   ]
  },
  {
   "cell_type": "markdown",
   "metadata": {},
   "source": [
    "### yield in a loop"
   ]
  },
  {
   "cell_type": "code",
   "execution_count": 183,
   "metadata": {},
   "outputs": [],
   "source": [
    "def func(n):\n",
    "    for i in range(n):\n",
    "        yield 2*i"
   ]
  },
  {
   "cell_type": "code",
   "execution_count": 184,
   "metadata": {},
   "outputs": [
    {
     "name": "stdout",
     "output_type": "stream",
     "text": [
      "0\n",
      "2\n",
      "4\n"
     ]
    }
   ],
   "source": [
    "result = func(3)\n",
    "for item in result:\n",
    "    print(item)"
   ]
  },
  {
   "cell_type": "markdown",
   "metadata": {},
   "source": [
    "###  convert a generator to a list"
   ]
  },
  {
   "cell_type": "code",
   "execution_count": 187,
   "metadata": {},
   "outputs": [
    {
     "data": {
      "text/plain": [
       "[0, 2, 4, 6, 8]"
      ]
     },
     "execution_count": 187,
     "metadata": {},
     "output_type": "execute_result"
    }
   ],
   "source": [
    "result = func(5)\n",
    "list(result)"
   ]
  },
  {
   "cell_type": "markdown",
   "metadata": {},
   "source": [
    "### Generator as iterator - generator is an iterable AND a iterator"
   ]
  },
  {
   "cell_type": "code",
   "execution_count": 188,
   "metadata": {},
   "outputs": [
    {
     "data": {
      "text/plain": [
       "0"
      ]
     },
     "execution_count": 188,
     "metadata": {},
     "output_type": "execute_result"
    }
   ],
   "source": [
    "result = func(5)\n",
    "next(result)"
   ]
  },
  {
   "cell_type": "code",
   "execution_count": 189,
   "metadata": {},
   "outputs": [
    {
     "data": {
      "text/plain": [
       "2"
      ]
     },
     "execution_count": 189,
     "metadata": {},
     "output_type": "execute_result"
    }
   ],
   "source": [
    "next(result)"
   ]
  },
  {
   "cell_type": "code",
   "execution_count": 190,
   "metadata": {},
   "outputs": [
    {
     "data": {
      "text/plain": [
       "4"
      ]
     },
     "execution_count": 190,
     "metadata": {},
     "output_type": "execute_result"
    }
   ],
   "source": [
    "next(result)"
   ]
  },
  {
   "cell_type": "markdown",
   "metadata": {},
   "source": [
    "### Generator comprehension"
   ]
  },
  {
   "cell_type": "code",
   "execution_count": 191,
   "metadata": {},
   "outputs": [
    {
     "name": "stdout",
     "output_type": "stream",
     "text": [
      "<generator object <genexpr> at 0x7302cd50c350>\n"
     ]
    }
   ],
   "source": [
    "result = (2*i for i in range(5))\n",
    "print(result)"
   ]
  },
  {
   "cell_type": "code",
   "execution_count": 192,
   "metadata": {},
   "outputs": [
    {
     "name": "stdout",
     "output_type": "stream",
     "text": [
      "0\n",
      "2\n",
      "4\n",
      "6\n",
      "8\n"
     ]
    }
   ],
   "source": [
    "for i in result:\n",
    "    print(i)    "
   ]
  },
  {
   "cell_type": "markdown",
   "metadata": {},
   "source": [
    "### Why generator - simple way to create a custom iterabvle objext & lazy initialization"
   ]
  },
  {
   "cell_type": "code",
   "execution_count": 193,
   "metadata": {},
   "outputs": [],
   "source": [
    "def create_jump_sequence(n):\n",
    "    for i in range(n):\n",
    "        yield i \n",
    "        yield i+2"
   ]
  },
  {
   "cell_type": "code",
   "execution_count": 195,
   "metadata": {},
   "outputs": [
    {
     "data": {
      "text/plain": [
       "[0, 2, 1, 3, 2, 4, 3, 5, 4, 6]"
      ]
     },
     "execution_count": 195,
     "metadata": {},
     "output_type": "execute_result"
    }
   ],
   "source": [
    "jump_sequence = create_jump_sequence(5)\n",
    "list(jump_sequence)"
   ]
  },
  {
   "cell_type": "markdown",
   "metadata": {},
   "source": [
    "### example questions:"
   ]
  },
  {
   "cell_type": "code",
   "execution_count": null,
   "metadata": {},
   "outputs": [],
   "source": [
    "def shift_string(string, shift):\n",
    "    len_string = len(string)\n",
    "    # Loop over the indices of a string\n",
    "    for idx in range(0, len_string):\n",
    "        # Find which character will correspond to the index.\n",
    "        yield string[(idx - shift) % len_string]\n",
    "       \n",
    "# Create a generator\n",
    "gen = shift_string('DataCamp', 3)\n",
    "\n",
    "# Create a new string using the generator and print it out\n",
    "string_shifted = ''.join(gen)\n",
    "print(string_shifted)"
   ]
  },
  {
   "cell_type": "markdown",
   "metadata": {},
   "source": [
    "Let's create an infinite generator! Your task is to define the simulate_dice_throws() generator. It generates the outcomes of a 6-sided dice tosses in the form of a dictionary out. Each key is a possible outcome (1, 2, 3, 4, 5, 6). Each value is a list: the first value is the amount of realizations of an outcome and the second, the ratio of realizations to the total number of tosses total. For example (when total = 4):\n",
    "\n",
    "{\n",
    "  1: [2, 0.5],\n",
    "  2: [1, 0.25],\n",
    "  3: [1, 0.25],\n",
    "  4: [0, 0.0],\n",
    "  5: [0, 0.0],\n",
    "  6: [0, 0.0]\n",
    "}\n",
    "Tip: use the randint() function from the random module (already imported). It generates a random integer in the specified interval (e.g. randint(1, 2) can be 1 or 2)."
   ]
  },
  {
   "cell_type": "code",
   "execution_count": null,
   "metadata": {},
   "outputs": [],
   "source": [
    "def simulate_dice_throws():\n",
    "    total, out = 0, dict([(i, [0, 0]) for i in range(1, 7)])\n",
    "    while True:\n",
    "        # Simulate a single toss to get a new number\n",
    "        num = random.randint(1, 6)\n",
    "        total += 1\n",
    "        # Update the number and the ratio of realizations\n",
    "        out[num][0] = out[num][0] + 1\n",
    "        for j in range(1, 7):\n",
    "        \tout[j][1] = round(out[j][0]/total, 2)\n",
    "        # Yield the updated dictionary\n",
    "        yield out\n",
    "\n",
    "# Create the generator and simulate 1000 tosses\n",
    "dice_simulator = simulate_dice_throws()\n",
    "for i in range(1, 1001):\n",
    "    print(str(i) + ': ' + str(next(dice_simulator)))"
   ]
  },
  {
   "cell_type": "markdown",
   "metadata": {},
   "source": [
    "You are given the following generator functions (you can test them in the console):\n",
    "\n"
   ]
  },
  {
   "cell_type": "code",
   "execution_count": 198,
   "metadata": {},
   "outputs": [],
   "source": [
    "def func1(n):\n",
    "  for i in range(0, n):\n",
    "    yield i**2\n",
    "def func2(n):\n",
    "  for i in range(0, n):\n",
    "     if i%2 == 0:\n",
    "       yield 2*i\n",
    "def func3(n, m):\n",
    "  for i in func1(n):\n",
    "    for j in func2(m):\n",
    "      yield ((i, j), i + j)"
   ]
  },
  {
   "cell_type": "code",
   "execution_count": 199,
   "metadata": {},
   "outputs": [
    {
     "name": "stdout",
     "output_type": "stream",
     "text": [
      "(((0, 0), 0), ((0, 0), 0))\n",
      "(((0, 4), 4), ((0, 4), 4))\n",
      "(((0, 8), 8), ((0, 8), 8))\n",
      "(((0, 12), 12), ((0, 12), 12))\n",
      "(((0, 16), 16), ((0, 16), 16))\n",
      "(((1, 0), 1), ((1, 0), 1))\n",
      "(((1, 4), 5), ((1, 4), 5))\n",
      "(((1, 8), 9), ((1, 8), 9))\n",
      "(((1, 12), 13), ((1, 12), 13))\n",
      "(((1, 16), 17), ((1, 16), 17))\n",
      "(((4, 0), 4), ((4, 0), 4))\n",
      "(((4, 4), 8), ((4, 4), 8))\n",
      "(((4, 8), 12), ((4, 8), 12))\n",
      "(((4, 12), 16), ((4, 12), 16))\n",
      "(((4, 16), 20), ((4, 16), 20))\n",
      "(((9, 0), 9), ((9, 0), 9))\n",
      "(((9, 4), 13), ((9, 4), 13))\n",
      "(((9, 8), 17), ((9, 8), 17))\n",
      "(((9, 12), 21), ((9, 12), 21))\n",
      "(((9, 16), 25), ((9, 16), 25))\n",
      "(((16, 0), 16), ((16, 0), 16))\n",
      "(((16, 4), 20), ((16, 4), 20))\n",
      "(((16, 8), 24), ((16, 8), 24))\n",
      "(((16, 12), 28), ((16, 12), 28))\n",
      "(((16, 16), 32), ((16, 16), 32))\n",
      "(((25, 0), 25), ((25, 0), 25))\n",
      "(((25, 4), 29), ((25, 4), 29))\n",
      "(((25, 8), 33), ((25, 8), 33))\n",
      "(((25, 12), 37), ((25, 12), 37))\n",
      "(((25, 16), 41), ((25, 16), 41))\n",
      "(((36, 0), 36), ((36, 0), 36))\n",
      "(((36, 4), 40), ((36, 4), 40))\n",
      "(((36, 8), 44), ((36, 8), 44))\n",
      "(((36, 12), 48), ((36, 12), 48))\n",
      "(((36, 16), 52), ((36, 16), 52))\n",
      "(((49, 0), 49), ((49, 0), 49))\n",
      "(((49, 4), 53), ((49, 4), 53))\n",
      "(((49, 8), 57), ((49, 8), 57))\n",
      "(((49, 12), 61), ((49, 12), 61))\n",
      "(((49, 16), 65), ((49, 16), 65))\n"
     ]
    }
   ],
   "source": [
    "# Rewrite func3() as a generator comprehension\n",
    "gen = (((i, j), i + j) for i in func1(8) for j in func2(10))\n",
    "\n",
    "for item in zip(gen, func3(8, 10)):\n",
    "    print(item)"
   ]
  },
  {
   "cell_type": "code",
   "execution_count": null,
   "metadata": {},
   "outputs": [],
   "source": []
  }
 ],
 "metadata": {
  "kernelspec": {
   "display_name": "Python 3",
   "language": "python",
   "name": "python3"
  },
  "language_info": {
   "codemirror_mode": {
    "name": "ipython",
    "version": 3
   },
   "file_extension": ".py",
   "mimetype": "text/x-python",
   "name": "python",
   "nbconvert_exporter": "python",
   "pygments_lexer": "ipython3",
   "version": "3.10.12"
  },
  "orig_nbformat": 4
 },
 "nbformat": 4,
 "nbformat_minor": 2
}
