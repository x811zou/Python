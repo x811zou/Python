{
 "cells": [
  {
   "cell_type": "code",
   "execution_count": 93,
   "metadata": {},
   "outputs": [
    {
     "name": "stdout",
     "output_type": "stream",
     "text": [
      "2.1.1\n"
     ]
    }
   ],
   "source": [
    "# Data handling and processing\n",
    "import pandas as pd\n",
    "import numpy as np\n",
    "import random\n",
    "\n",
    "# Data visualization\n",
    "import matplotlib.pyplot as plt\n",
    "import seaborn as sns\n",
    "\n",
    "# Model evaluation and utilities\n",
    "from sklearn.model_selection import train_test_split\n",
    "from sklearn.metrics import log_loss\n",
    "import warnings\n",
    "warnings.filterwarnings(\"ignore\", category=FutureWarning)\n",
    "warnings.filterwarnings('ignore', message=\"is_sparse is deprecated\")\n",
    "from sklearn.model_selection import ParameterSampler\n",
    "from sklearn.metrics import roc_auc_score, brier_score_loss\n",
    "\n",
    "# XGBoost\n",
    "import xgboost as xgb\n",
    "print(xgb.__version__)\n",
    "\n",
    "# Progress display\n",
    "import tqdm\n",
    "\n",
    "# Statsmodels\n",
    "import statsmodels.api as sm\n",
    "\n",
    "# PyTorch\n",
    "import torch\n",
    "import torch.nn as nn\n",
    "import torch.optim as optim\n",
    "from torch.utils.data import DataLoader, TensorDataset, random_split\n",
    "import torchmetrics\n",
    "from torch.nn import functional as F\n",
    "from torch.nn import CrossEntropyLoss\n",
    "\n",
    "# Optuna for hyperparameter optimization\n",
    "import optuna\n",
    "import torch.nn as nn\n",
    "import torch.optim as optim\n",
    "from sklearn.metrics import log_loss\n",
    "import numpy as np\n",
    "\n",
    "from sklearn.model_selection import train_test_split\n",
    "from torch.utils.data import TensorDataset, DataLoader"
   ]
  },
  {
   "cell_type": "markdown",
   "metadata": {},
   "source": [
    "### Summary of Approach\n",
    "\n",
    "In this notebook, we perform hyperparameter optimization and model evaluation for a binary classification task using a deep learning model. The steps are as follows:\n",
    "\n",
    "1. **Data Preparation**: The dataset is split into training, validation, and test sets, ensuring stratification to maintain class distribution.\n",
    "\n",
    "2. **Model Definition**: A feedforward neural network is defined using PyTorch, featuring two hidden layers with Leaky ReLU activations, batch normalization, and dropout for regularization.\n",
    "\n",
    "3. **Baseline Model Evaluation**: The initial model is trained and evaluated on the test set to establish baseline performance metrics, including log loss, AUC (Area Under the ROC Curve), and Brier score.\n",
    "\n",
    "4. **Hyperparameter Optimization**: Using Optuna, we tune hyperparameters, including the number of units in hidden layers, dropout rate, learning rate, and weight decay. The objective is to minimize the validation log loss.\n",
    "\n",
    "5. **Model Training with Best Parameters**: The model is retrained using the best-found hyperparameters. Training and validation losses are tracked over epochs to monitor performance.\n",
    "\n",
    "6. **Updated Model Evaluation**: After hyperparameter selection, the model's performance is evaluated on the test set again to compare results. Additionally, the model is fine-tuned, and its performance is reassessed post weight and bias updates.\n",
    "\n",
    "7. **Visualization**: Training and validation losses are plotted to assess model performance and convergence behavior throughout the training process.\n",
    "\n",
    "This structured approach provides a comprehensive evaluation of the model's capabilities, allowing for effective hyperparameter tuning and performance comparison across different training stages.\n"
   ]
  },
  {
   "cell_type": "code",
   "execution_count": 4,
   "metadata": {},
   "outputs": [],
   "source": [
    "def plot_errors(train_losses, val_losses):\n",
    "    \"\"\"\n",
    "    Plots training and validation losses over epochs.\n",
    "    \n",
    "    Parameters:\n",
    "    - train_losses: List of training loss values for each epoch.\n",
    "    - val_losses: List of validation loss values for each epoch.\n",
    "    \"\"\"\n",
    "    plt.figure(figsize=(10, 5))\n",
    "    plt.plot(train_losses, label=\"Training Loss\")\n",
    "    plt.plot(val_losses, label=\"Validation Loss\")\n",
    "    plt.xlabel(\"Epoch\")\n",
    "    plt.ylabel(\"Loss\")\n",
    "    plt.title(\"Training and Validation Loss Over Epochs\")\n",
    "    plt.legend()\n",
    "    plt.show()\n"
   ]
  },
  {
   "cell_type": "code",
   "execution_count": 5,
   "metadata": {},
   "outputs": [
    {
     "data": {
      "text/html": [
       "<div>\n",
       "<style scoped>\n",
       "    .dataframe tbody tr th:only-of-type {\n",
       "        vertical-align: middle;\n",
       "    }\n",
       "\n",
       "    .dataframe tbody tr th {\n",
       "        vertical-align: top;\n",
       "    }\n",
       "\n",
       "    .dataframe thead th {\n",
       "        text-align: right;\n",
       "    }\n",
       "</style>\n",
       "<table border=\"1\" class=\"dataframe\">\n",
       "  <thead>\n",
       "    <tr style=\"text-align: right;\">\n",
       "      <th></th>\n",
       "      <th>chr</th>\n",
       "      <th>pos</th>\n",
       "      <th>geneID</th>\n",
       "      <th>error</th>\n",
       "      <th>d</th>\n",
       "      <th>r2</th>\n",
       "      <th>AF</th>\n",
       "      <th>MAF</th>\n",
       "      <th>lag_MAF</th>\n",
       "      <th>min_MAF</th>\n",
       "      <th>diff_MAF</th>\n",
       "      <th>log10_distance</th>\n",
       "      <th>log10distance_intxn_r2</th>\n",
       "      <th>log10distance_intxn_minMAF</th>\n",
       "      <th>log10distance_intxn_diffMAF</th>\n",
       "    </tr>\n",
       "  </thead>\n",
       "  <tbody>\n",
       "    <tr>\n",
       "      <th>0</th>\n",
       "      <td>chr1</td>\n",
       "      <td>909419</td>\n",
       "      <td>ENSG00000187583</td>\n",
       "      <td>NaN</td>\n",
       "      <td>1.000</td>\n",
       "      <td>0.024</td>\n",
       "      <td>0.111222</td>\n",
       "      <td>0.111222</td>\n",
       "      <td>NaN</td>\n",
       "      <td>NaN</td>\n",
       "      <td>NaN</td>\n",
       "      <td>NaN</td>\n",
       "      <td>NaN</td>\n",
       "      <td>NaN</td>\n",
       "      <td>NaN</td>\n",
       "    </tr>\n",
       "    <tr>\n",
       "      <th>1</th>\n",
       "      <td>chr1</td>\n",
       "      <td>914852</td>\n",
       "      <td>ENSG00000187642</td>\n",
       "      <td>NaN</td>\n",
       "      <td>0.872</td>\n",
       "      <td>0.334</td>\n",
       "      <td>0.512580</td>\n",
       "      <td>0.487420</td>\n",
       "      <td>0.1839</td>\n",
       "      <td>0.1839</td>\n",
       "      <td>0.2167</td>\n",
       "      <td>NaN</td>\n",
       "      <td>NaN</td>\n",
       "      <td>NaN</td>\n",
       "      <td>NaN</td>\n",
       "    </tr>\n",
       "    <tr>\n",
       "      <th>2</th>\n",
       "      <td>chr1</td>\n",
       "      <td>914940</td>\n",
       "      <td>ENSG00000187642</td>\n",
       "      <td>0.0</td>\n",
       "      <td>1.000</td>\n",
       "      <td>0.914</td>\n",
       "      <td>0.509585</td>\n",
       "      <td>0.490415</td>\n",
       "      <td>0.4006</td>\n",
       "      <td>0.4006</td>\n",
       "      <td>0.0099</td>\n",
       "      <td>1.944483</td>\n",
       "      <td>1.777257</td>\n",
       "      <td>0.778960</td>\n",
       "      <td>0.019250</td>\n",
       "    </tr>\n",
       "    <tr>\n",
       "      <th>3</th>\n",
       "      <td>chr1</td>\n",
       "      <td>916549</td>\n",
       "      <td>ENSG00000187642</td>\n",
       "      <td>0.0</td>\n",
       "      <td>1.000</td>\n",
       "      <td>0.503</td>\n",
       "      <td>0.758586</td>\n",
       "      <td>0.241414</td>\n",
       "      <td>0.4105</td>\n",
       "      <td>0.2416</td>\n",
       "      <td>0.1689</td>\n",
       "      <td>3.206556</td>\n",
       "      <td>1.612898</td>\n",
       "      <td>0.774704</td>\n",
       "      <td>0.541587</td>\n",
       "    </tr>\n",
       "    <tr>\n",
       "      <th>4</th>\n",
       "      <td>chr1</td>\n",
       "      <td>949608</td>\n",
       "      <td>ENSG00000187608</td>\n",
       "      <td>NaN</td>\n",
       "      <td>0.740</td>\n",
       "      <td>0.264</td>\n",
       "      <td>0.338858</td>\n",
       "      <td>0.338858</td>\n",
       "      <td>0.2416</td>\n",
       "      <td>0.2416</td>\n",
       "      <td>0.1510</td>\n",
       "      <td>NaN</td>\n",
       "      <td>NaN</td>\n",
       "      <td>NaN</td>\n",
       "      <td>NaN</td>\n",
       "    </tr>\n",
       "  </tbody>\n",
       "</table>\n",
       "</div>"
      ],
      "text/plain": [
       "    chr     pos           geneID  error      d     r2        AF       MAF  \\\n",
       "0  chr1  909419  ENSG00000187583    NaN  1.000  0.024  0.111222  0.111222   \n",
       "1  chr1  914852  ENSG00000187642    NaN  0.872  0.334  0.512580  0.487420   \n",
       "2  chr1  914940  ENSG00000187642    0.0  1.000  0.914  0.509585  0.490415   \n",
       "3  chr1  916549  ENSG00000187642    0.0  1.000  0.503  0.758586  0.241414   \n",
       "4  chr1  949608  ENSG00000187608    NaN  0.740  0.264  0.338858  0.338858   \n",
       "\n",
       "   lag_MAF  min_MAF  diff_MAF  log10_distance  log10distance_intxn_r2  \\\n",
       "0      NaN      NaN       NaN             NaN                     NaN   \n",
       "1   0.1839   0.1839    0.2167             NaN                     NaN   \n",
       "2   0.4006   0.4006    0.0099        1.944483                1.777257   \n",
       "3   0.4105   0.2416    0.1689        3.206556                1.612898   \n",
       "4   0.2416   0.2416    0.1510             NaN                     NaN   \n",
       "\n",
       "   log10distance_intxn_minMAF  log10distance_intxn_diffMAF  \n",
       "0                         NaN                          NaN  \n",
       "1                         NaN                          NaN  \n",
       "2                    0.778960                     0.019250  \n",
       "3                    0.774704                     0.541587  \n",
       "4                         NaN                          NaN  "
      ]
     },
     "execution_count": 5,
     "metadata": {},
     "output_type": "execute_result"
    }
   ],
   "source": [
    "full_data = pd.read_csv('~/data/phasing/NA12878/6finalized/exonPhasedSites_final_matrix_24828_finalized.tsv',sep='\\t')\n",
    "full_data[\"MAF\"] = full_data[\"EUR_MAF\"]\n",
    "full_data[\"lag_MAF\"] = full_data[\"lag_EUR_MAF\"]\n",
    "full_data[\"min_MAF\"] = full_data[\"min_EUR_MAF\"]\n",
    "full_data[\"diff_MAF\"] = full_data[\"diff_EUR_MAF\"]\n",
    "# make interaction between log10distance and r2\n",
    "full_data[\"log10distance_intxn_r2\"] = full_data[\"log10_distance\"] * full_data[\"r2\"]\n",
    "full_data[\"log10distance_intxn_minMAF\"] = full_data[\"log10_distance\"] * full_data[\"min_MAF\"]\n",
    "full_data[\"log10distance_intxn_diffMAF\"] = full_data[\"log10_distance\"] * full_data[\"diff_MAF\"]\n",
    "full_data_sub = full_data[[\"chr\", \"pos\", \"geneID\", \"error\", \"d\", \"r2\", \"AF\", \"MAF\", \"lag_MAF\", \"min_MAF\", \"diff_MAF\", \"log10_distance\",\"log10distance_intxn_r2\",\"log10distance_intxn_minMAF\",\"log10distance_intxn_diffMAF\"]]\n",
    "\n",
    "full_data_sub.head()"
   ]
  },
  {
   "cell_type": "code",
   "execution_count": 6,
   "metadata": {},
   "outputs": [
    {
     "data": {
      "text/html": [
       "<div>\n",
       "<style scoped>\n",
       "    .dataframe tbody tr th:only-of-type {\n",
       "        vertical-align: middle;\n",
       "    }\n",
       "\n",
       "    .dataframe tbody tr th {\n",
       "        vertical-align: top;\n",
       "    }\n",
       "\n",
       "    .dataframe thead th {\n",
       "        text-align: right;\n",
       "    }\n",
       "</style>\n",
       "<table border=\"1\" class=\"dataframe\">\n",
       "  <thead>\n",
       "    <tr style=\"text-align: right;\">\n",
       "      <th></th>\n",
       "      <th>chr</th>\n",
       "      <th>pos</th>\n",
       "      <th>geneID</th>\n",
       "      <th>error</th>\n",
       "      <th>d</th>\n",
       "      <th>r2</th>\n",
       "      <th>AF</th>\n",
       "      <th>MAF</th>\n",
       "      <th>lag_MAF</th>\n",
       "      <th>min_MAF</th>\n",
       "      <th>diff_MAF</th>\n",
       "      <th>log10_distance</th>\n",
       "      <th>log10distance_intxn_r2</th>\n",
       "      <th>log10distance_intxn_minMAF</th>\n",
       "      <th>log10distance_intxn_diffMAF</th>\n",
       "    </tr>\n",
       "  </thead>\n",
       "  <tbody>\n",
       "    <tr>\n",
       "      <th>0</th>\n",
       "      <td>chr1</td>\n",
       "      <td>196642533</td>\n",
       "      <td>ENSG00000000971</td>\n",
       "      <td>0.0</td>\n",
       "      <td>0.740</td>\n",
       "      <td>1.000</td>\n",
       "      <td>0.468251</td>\n",
       "      <td>0.468251</td>\n",
       "      <td>0.2604</td>\n",
       "      <td>0.2604</td>\n",
       "      <td>0.0000</td>\n",
       "      <td>2.477121</td>\n",
       "      <td>2.477121</td>\n",
       "      <td>0.645042</td>\n",
       "      <td>0.000000</td>\n",
       "    </tr>\n",
       "    <tr>\n",
       "      <th>1</th>\n",
       "      <td>chr1</td>\n",
       "      <td>196646387</td>\n",
       "      <td>ENSG00000000971</td>\n",
       "      <td>0.0</td>\n",
       "      <td>0.443</td>\n",
       "      <td>0.079</td>\n",
       "      <td>0.257188</td>\n",
       "      <td>0.257188</td>\n",
       "      <td>0.2604</td>\n",
       "      <td>0.2604</td>\n",
       "      <td>0.0040</td>\n",
       "      <td>3.585912</td>\n",
       "      <td>0.283287</td>\n",
       "      <td>0.933771</td>\n",
       "      <td>0.014344</td>\n",
       "    </tr>\n",
       "    <tr>\n",
       "      <th>2</th>\n",
       "      <td>chr1</td>\n",
       "      <td>196682947</td>\n",
       "      <td>ENSG00000000971</td>\n",
       "      <td>0.0</td>\n",
       "      <td>1.000</td>\n",
       "      <td>0.019</td>\n",
       "      <td>0.479034</td>\n",
       "      <td>0.479034</td>\n",
       "      <td>0.2644</td>\n",
       "      <td>0.2644</td>\n",
       "      <td>0.1591</td>\n",
       "      <td>4.563006</td>\n",
       "      <td>0.086697</td>\n",
       "      <td>1.206459</td>\n",
       "      <td>0.725974</td>\n",
       "    </tr>\n",
       "    <tr>\n",
       "      <th>3</th>\n",
       "      <td>chr6</td>\n",
       "      <td>143823112</td>\n",
       "      <td>ENSG00000001036</td>\n",
       "      <td>0.0</td>\n",
       "      <td>1.000</td>\n",
       "      <td>0.544</td>\n",
       "      <td>0.170128</td>\n",
       "      <td>0.170128</td>\n",
       "      <td>0.2247</td>\n",
       "      <td>0.2247</td>\n",
       "      <td>0.0000</td>\n",
       "      <td>3.844415</td>\n",
       "      <td>2.091362</td>\n",
       "      <td>0.863840</td>\n",
       "      <td>0.000000</td>\n",
       "    </tr>\n",
       "    <tr>\n",
       "      <th>4</th>\n",
       "      <td>chr6</td>\n",
       "      <td>143825104</td>\n",
       "      <td>ENSG00000001036</td>\n",
       "      <td>0.0</td>\n",
       "      <td>1.000</td>\n",
       "      <td>0.091</td>\n",
       "      <td>0.089057</td>\n",
       "      <td>0.089057</td>\n",
       "      <td>0.2247</td>\n",
       "      <td>0.2247</td>\n",
       "      <td>0.0477</td>\n",
       "      <td>3.299289</td>\n",
       "      <td>0.300235</td>\n",
       "      <td>0.741350</td>\n",
       "      <td>0.157376</td>\n",
       "    </tr>\n",
       "  </tbody>\n",
       "</table>\n",
       "</div>"
      ],
      "text/plain": [
       "    chr        pos           geneID  error      d     r2        AF       MAF  \\\n",
       "0  chr1  196642533  ENSG00000000971    0.0  0.740  1.000  0.468251  0.468251   \n",
       "1  chr1  196646387  ENSG00000000971    0.0  0.443  0.079  0.257188  0.257188   \n",
       "2  chr1  196682947  ENSG00000000971    0.0  1.000  0.019  0.479034  0.479034   \n",
       "3  chr6  143823112  ENSG00000001036    0.0  1.000  0.544  0.170128  0.170128   \n",
       "4  chr6  143825104  ENSG00000001036    0.0  1.000  0.091  0.089057  0.089057   \n",
       "\n",
       "   lag_MAF  min_MAF  diff_MAF  log10_distance  log10distance_intxn_r2  \\\n",
       "0   0.2604   0.2604    0.0000        2.477121                2.477121   \n",
       "1   0.2604   0.2604    0.0040        3.585912                0.283287   \n",
       "2   0.2644   0.2644    0.1591        4.563006                0.086697   \n",
       "3   0.2247   0.2247    0.0000        3.844415                2.091362   \n",
       "4   0.2247   0.2247    0.0477        3.299289                0.300235   \n",
       "\n",
       "   log10distance_intxn_minMAF  log10distance_intxn_diffMAF  \n",
       "0                    0.645042                     0.000000  \n",
       "1                    0.933771                     0.014344  \n",
       "2                    1.206459                     0.725974  \n",
       "3                    0.863840                     0.000000  \n",
       "4                    0.741350                     0.157376  "
      ]
     },
     "execution_count": 6,
     "metadata": {},
     "output_type": "execute_result"
    }
   ],
   "source": [
    "# Group by 'geneID', sort within each group by 'chr' and 'pos', and drop the first entry of each group\n",
    "filtered_df = full_data_sub.groupby('geneID').apply(\n",
    "    lambda x: x.sort_values(['chr', 'pos']).iloc[1:]  # Remove the first row after sorting\n",
    ").reset_index(drop=True)  # Reset index after filtering\n",
    "filtered_df.shape\n",
    "filtered_df.head()"
   ]
  },
  {
   "cell_type": "code",
   "execution_count": 171,
   "metadata": {},
   "outputs": [
    {
     "name": "stdout",
     "output_type": "stream",
     "text": [
      "(17459, 15)\n"
     ]
    }
   ],
   "source": [
    "print(filtered_df.shape)"
   ]
  },
  {
   "cell_type": "code",
   "execution_count": 7,
   "metadata": {},
   "outputs": [],
   "source": [
    "filtered_data = filtered_df\n",
    "#X = filtered_data[[\"log10_distance\", \"d\", \"r2\", \"min_MAF\", \"diff_MAF\",\"log10distance_intxn_minMAF\",\"log10distance_intxn_r2\",\"log10distance_intxn_diffMAF\"]]  # Features dataframe\n",
    "X = filtered_data[[\"d\", \"r2\", \"min_MAF\", \"diff_MAF\",\"log10_distance\", \"log10distance_intxn_minMAF\",\"log10distance_intxn_r2\",\"log10distance_intxn_diffMAF\"]]  # Features dataframe\n",
    "#X2 = filtered_data[[\"d\", \"r2\", \"min_MAF\", \"diff_MAF\", \"log10distance_intxn_minMAF\",\"log10_distance\"]]  # Features dataframe\n",
    "#X3 = filtered_data[[\"d\", \"r2\", \"min_MAF\", \"diff_MAF\", \"log10distance_intxn_r2\",\"log10_distance\"]] \n",
    "#X4 = filtered_data[[\"d\", \"r2\", \"min_MAF\", \"diff_MAF\", \"log10_distance\"]]\n",
    "#X = X2\n",
    "y = filtered_data[[\"error\"]]    # Binary outcome"
   ]
  },
  {
   "cell_type": "code",
   "execution_count": 8,
   "metadata": {},
   "outputs": [
    {
     "data": {
      "text/plain": [
       "8"
      ]
     },
     "execution_count": 8,
     "metadata": {},
     "output_type": "execute_result"
    }
   ],
   "source": [
    "X.shape[1]"
   ]
  },
  {
   "cell_type": "markdown",
   "metadata": {},
   "source": [
    "### SNP level multi-layer fully connected forward NN binary classification model\n",
    "\n",
    "- Data Splitting:\n",
    "    - You split your dataset into a training/testing set and a separate validation set.\n",
    "    - The training/testing set is used for training the model and tuning hyperparameters.\n",
    "    - The validation set is reserved for final evaluation, ensuring an unbiased estimate of model performance.\n",
    "    \n",
    "- Hyperparameter Tuning:\n",
    "    - You ran a hyperparameter optimization process (e.g., with Optuna) on the training/testing set.\n",
    "    - During this process, various configurations of hyperparameters (such as learning rate, dropout rate, and weight decay) were tested.\n",
    "    - The best combination of hyperparameters was selected based on the performance on the testing portion of the training/testing set.\n",
    "\n",
    "- Model Evaluation with Best Parameters:\n",
    "    - After identifying the best hyperparameters, you retrained the model on the entire training/testing set with these optimal parameters.\n",
    "    - You then evaluated the model's performance on the validation set to get an unbiased final assessment."
   ]
  },
  {
   "cell_type": "code",
   "execution_count": 77,
   "metadata": {},
   "outputs": [],
   "source": [
    "\n",
    "\n",
    "# Initial split into train and test with stratification\n",
    "X_final_train, X_final_test, y_final_train, y_final_test = train_test_split(\n",
    "    X, y, test_size=0.25, random_state=42, stratify=y\n",
    ")\n",
    "\n",
    "# Further split the training set into training and validation with stratification\n",
    "X_train, X_val, y_train, y_val = train_test_split(\n",
    "    X_final_train, y_final_train, test_size=0.25, random_state=42, stratify=y_final_train\n",
    ")\n",
    "\n",
    "# Convert the train, validation, and test sets to PyTorch tensors\n",
    "train_features = torch.tensor(X_train.to_numpy()).float()\n",
    "train_targets = torch.tensor(y_train.to_numpy()).float().unsqueeze(1)  # Shape (N, 1)\n",
    "\n",
    "val_features = torch.tensor(X_val.to_numpy()).float()\n",
    "val_targets = torch.tensor(y_val.to_numpy()).float().unsqueeze(1)  # Shape (N, 1)\n",
    "\n",
    "test_features = torch.tensor(X_final_test.to_numpy()).float()\n",
    "test_targets = torch.tensor(y_final_test.to_numpy()).float().unsqueeze(1)  # Shape (N, 1)\n",
    "\n",
    "# Step 1: Create PyTorch Datasets for train, validation, and test sets\n",
    "train_dataset = TensorDataset(train_features, train_targets)\n",
    "val_dataset = TensorDataset(val_features, val_targets)\n",
    "test_dataset = TensorDataset(test_features, test_targets)\n",
    "\n",
    "# Step 2: Create DataLoaders for training, validation, and testing sets\n",
    "train_loader = DataLoader(train_dataset, batch_size=16, shuffle=True)\n",
    "val_loader = DataLoader(val_dataset, batch_size=16, shuffle=False)\n",
    "test_loader = DataLoader(test_dataset, batch_size=16, shuffle=False)\n"
   ]
  },
  {
   "cell_type": "code",
   "execution_count": 78,
   "metadata": {},
   "outputs": [],
   "source": [
    "# Step 6: Define the model without the Sigmoid layer\n",
    "model = nn.Sequential(\n",
    "    nn.Linear(X.shape[1], 128),\n",
    "    nn.LeakyReLU(0.01),\n",
    "    nn.BatchNorm1d(128),\n",
    "    nn.Dropout(0.1),  # Add dropout after the first layer\n",
    "\n",
    "    nn.Linear(128, 40),\n",
    "    nn.LeakyReLU(0.01),\n",
    "    nn.BatchNorm1d(40),\n",
    "    nn.Dropout(0.1),  # Add dropout after the second layer\n",
    "\n",
    "    nn.Linear(40, 10),\n",
    "    nn.LeakyReLU(0.01),\n",
    "\n",
    "    nn.Linear(10, 1)  # No Sigmoid here\n",
    ")\n",
    "\n",
    "# Step 7: Define loss function and optimizer with BCEWithLogitsLoss\n",
    "criterion = nn.BCEWithLogitsLoss()  # Use BCEWithLogitsLoss for numerical stability\n",
    "optimizer = torch.optim.Adam(model.parameters(), lr=0.001, weight_decay=1e-4)\n",
    "\n",
    "# Optional: Learning rate scheduler\n",
    "scheduler = torch.optim.lr_scheduler.StepLR(optimizer, step_size=10, gamma=0.5)\n",
    "\n"
   ]
  },
  {
   "cell_type": "markdown",
   "metadata": {},
   "source": [
    "### Get baseline performance\n",
    "- trains and evaluates the model with initial hyperparameters to establish a baseline performance before hyperparameter tuning."
   ]
  },
  {
   "cell_type": "code",
   "execution_count": 81,
   "metadata": {},
   "outputs": [
    {
     "name": "stdout",
     "output_type": "stream",
     "text": [
      "Epoch [1/50], Train Loss: 0.1212, Validation Loss: 0.1230, Train Accuracy: 0.9628, Validation Accuracy: 0.9627, Train Log Loss: 0.1212, Validation Log Loss: 0.1228\n",
      "Epoch [2/50], Train Loss: 0.1203, Validation Loss: 0.1223, Train Accuracy: 0.9628, Validation Accuracy: 0.9627, Train Log Loss: 0.1203, Validation Log Loss: 0.1220\n",
      "Epoch [3/50], Train Loss: 0.1205, Validation Loss: 0.1243, Train Accuracy: 0.9628, Validation Accuracy: 0.9627, Train Log Loss: 0.1204, Validation Log Loss: 0.1242\n",
      "Epoch [4/50], Train Loss: 0.1212, Validation Loss: 0.1241, Train Accuracy: 0.9628, Validation Accuracy: 0.9627, Train Log Loss: 0.1212, Validation Log Loss: 0.1238\n",
      "Epoch [5/50], Train Loss: 0.1192, Validation Loss: 0.1229, Train Accuracy: 0.9628, Validation Accuracy: 0.9627, Train Log Loss: 0.1191, Validation Log Loss: 0.1226\n",
      "Epoch [6/50], Train Loss: 0.1187, Validation Loss: 0.1262, Train Accuracy: 0.9628, Validation Accuracy: 0.9627, Train Log Loss: 0.1186, Validation Log Loss: 0.1259\n",
      "Epoch [7/50], Train Loss: 0.1224, Validation Loss: 0.1226, Train Accuracy: 0.9628, Validation Accuracy: 0.9627, Train Log Loss: 0.1225, Validation Log Loss: 0.1223\n",
      "Epoch [8/50], Train Loss: 0.1204, Validation Loss: 0.1221, Train Accuracy: 0.9628, Validation Accuracy: 0.9627, Train Log Loss: 0.1204, Validation Log Loss: 0.1219\n",
      "Epoch [9/50], Train Loss: 0.1212, Validation Loss: 0.1214, Train Accuracy: 0.9628, Validation Accuracy: 0.9627, Train Log Loss: 0.1213, Validation Log Loss: 0.1211\n",
      "Epoch [10/50], Train Loss: 0.1186, Validation Loss: 0.1228, Train Accuracy: 0.9628, Validation Accuracy: 0.9627, Train Log Loss: 0.1186, Validation Log Loss: 0.1225\n",
      "Epoch [11/50], Train Loss: 0.1195, Validation Loss: 0.1260, Train Accuracy: 0.9628, Validation Accuracy: 0.9627, Train Log Loss: 0.1193, Validation Log Loss: 0.1257\n",
      "Epoch [12/50], Train Loss: 0.1202, Validation Loss: 0.1217, Train Accuracy: 0.9628, Validation Accuracy: 0.9627, Train Log Loss: 0.1202, Validation Log Loss: 0.1214\n",
      "Epoch [13/50], Train Loss: 0.1204, Validation Loss: 0.1224, Train Accuracy: 0.9628, Validation Accuracy: 0.9627, Train Log Loss: 0.1205, Validation Log Loss: 0.1223\n",
      "Epoch [14/50], Train Loss: 0.1204, Validation Loss: 0.1218, Train Accuracy: 0.9628, Validation Accuracy: 0.9627, Train Log Loss: 0.1204, Validation Log Loss: 0.1216\n",
      "Epoch [15/50], Train Loss: 0.1193, Validation Loss: 0.1195, Train Accuracy: 0.9628, Validation Accuracy: 0.9627, Train Log Loss: 0.1192, Validation Log Loss: 0.1193\n",
      "Epoch [16/50], Train Loss: 0.1213, Validation Loss: 0.1200, Train Accuracy: 0.9628, Validation Accuracy: 0.9627, Train Log Loss: 0.1211, Validation Log Loss: 0.1198\n",
      "Epoch [17/50], Train Loss: 0.1203, Validation Loss: 0.1210, Train Accuracy: 0.9628, Validation Accuracy: 0.9627, Train Log Loss: 0.1204, Validation Log Loss: 0.1208\n",
      "Epoch [18/50], Train Loss: 0.1201, Validation Loss: 0.1186, Train Accuracy: 0.9628, Validation Accuracy: 0.9627, Train Log Loss: 0.1202, Validation Log Loss: 0.1186\n",
      "Epoch [19/50], Train Loss: 0.1196, Validation Loss: 0.1221, Train Accuracy: 0.9628, Validation Accuracy: 0.9627, Train Log Loss: 0.1197, Validation Log Loss: 0.1220\n",
      "Epoch [20/50], Train Loss: 0.1203, Validation Loss: 0.1240, Train Accuracy: 0.9628, Validation Accuracy: 0.9627, Train Log Loss: 0.1204, Validation Log Loss: 0.1238\n",
      "Epoch [21/50], Train Loss: 0.1206, Validation Loss: 0.1224, Train Accuracy: 0.9628, Validation Accuracy: 0.9627, Train Log Loss: 0.1206, Validation Log Loss: 0.1222\n",
      "Epoch [22/50], Train Loss: 0.1197, Validation Loss: 0.1270, Train Accuracy: 0.9628, Validation Accuracy: 0.9627, Train Log Loss: 0.1197, Validation Log Loss: 0.1268\n",
      "Epoch [23/50], Train Loss: 0.1223, Validation Loss: 0.1222, Train Accuracy: 0.9628, Validation Accuracy: 0.9627, Train Log Loss: 0.1223, Validation Log Loss: 0.1221\n",
      "Epoch [24/50], Train Loss: 0.1187, Validation Loss: 0.1214, Train Accuracy: 0.9628, Validation Accuracy: 0.9627, Train Log Loss: 0.1188, Validation Log Loss: 0.1212\n",
      "Epoch [25/50], Train Loss: 0.1189, Validation Loss: 0.1226, Train Accuracy: 0.9628, Validation Accuracy: 0.9627, Train Log Loss: 0.1188, Validation Log Loss: 0.1223\n",
      "Epoch [26/50], Train Loss: 0.1205, Validation Loss: 0.1236, Train Accuracy: 0.9628, Validation Accuracy: 0.9627, Train Log Loss: 0.1205, Validation Log Loss: 0.1234\n",
      "Epoch [27/50], Train Loss: 0.1202, Validation Loss: 0.1237, Train Accuracy: 0.9628, Validation Accuracy: 0.9627, Train Log Loss: 0.1203, Validation Log Loss: 0.1234\n",
      "Epoch [28/50], Train Loss: 0.1198, Validation Loss: 0.1218, Train Accuracy: 0.9628, Validation Accuracy: 0.9627, Train Log Loss: 0.1198, Validation Log Loss: 0.1215\n",
      "Epoch [29/50], Train Loss: 0.1211, Validation Loss: 0.1215, Train Accuracy: 0.9628, Validation Accuracy: 0.9627, Train Log Loss: 0.1210, Validation Log Loss: 0.1213\n",
      "Epoch [30/50], Train Loss: 0.1199, Validation Loss: 0.1229, Train Accuracy: 0.9628, Validation Accuracy: 0.9627, Train Log Loss: 0.1197, Validation Log Loss: 0.1226\n",
      "Epoch [31/50], Train Loss: 0.1207, Validation Loss: 0.1205, Train Accuracy: 0.9628, Validation Accuracy: 0.9627, Train Log Loss: 0.1207, Validation Log Loss: 0.1203\n",
      "Epoch [32/50], Train Loss: 0.1200, Validation Loss: 0.1211, Train Accuracy: 0.9628, Validation Accuracy: 0.9627, Train Log Loss: 0.1200, Validation Log Loss: 0.1209\n",
      "Epoch [33/50], Train Loss: 0.1195, Validation Loss: 0.1223, Train Accuracy: 0.9628, Validation Accuracy: 0.9627, Train Log Loss: 0.1195, Validation Log Loss: 0.1220\n",
      "Epoch [34/50], Train Loss: 0.1211, Validation Loss: 0.1232, Train Accuracy: 0.9628, Validation Accuracy: 0.9627, Train Log Loss: 0.1211, Validation Log Loss: 0.1229\n",
      "Epoch [35/50], Train Loss: 0.1217, Validation Loss: 0.1212, Train Accuracy: 0.9628, Validation Accuracy: 0.9627, Train Log Loss: 0.1216, Validation Log Loss: 0.1210\n",
      "Epoch [36/50], Train Loss: 0.1205, Validation Loss: 0.1245, Train Accuracy: 0.9628, Validation Accuracy: 0.9627, Train Log Loss: 0.1206, Validation Log Loss: 0.1242\n",
      "Epoch [37/50], Train Loss: 0.1221, Validation Loss: 0.1188, Train Accuracy: 0.9628, Validation Accuracy: 0.9627, Train Log Loss: 0.1220, Validation Log Loss: 0.1186\n",
      "Epoch [38/50], Train Loss: 0.1189, Validation Loss: 0.1209, Train Accuracy: 0.9628, Validation Accuracy: 0.9627, Train Log Loss: 0.1189, Validation Log Loss: 0.1207\n",
      "Epoch [39/50], Train Loss: 0.1188, Validation Loss: 0.1202, Train Accuracy: 0.9628, Validation Accuracy: 0.9627, Train Log Loss: 0.1189, Validation Log Loss: 0.1200\n",
      "Epoch [40/50], Train Loss: 0.1187, Validation Loss: 0.1220, Train Accuracy: 0.9628, Validation Accuracy: 0.9627, Train Log Loss: 0.1187, Validation Log Loss: 0.1217\n",
      "Epoch [41/50], Train Loss: 0.1199, Validation Loss: 0.1199, Train Accuracy: 0.9628, Validation Accuracy: 0.9627, Train Log Loss: 0.1197, Validation Log Loss: 0.1197\n",
      "Epoch [42/50], Train Loss: 0.1189, Validation Loss: 0.1203, Train Accuracy: 0.9628, Validation Accuracy: 0.9627, Train Log Loss: 0.1188, Validation Log Loss: 0.1201\n",
      "Epoch [43/50], Train Loss: 0.1202, Validation Loss: 0.1186, Train Accuracy: 0.9628, Validation Accuracy: 0.9627, Train Log Loss: 0.1202, Validation Log Loss: 0.1183\n",
      "Epoch [44/50], Train Loss: 0.1197, Validation Loss: 0.1205, Train Accuracy: 0.9628, Validation Accuracy: 0.9627, Train Log Loss: 0.1197, Validation Log Loss: 0.1202\n",
      "Epoch [45/50], Train Loss: 0.1188, Validation Loss: 0.1268, Train Accuracy: 0.9628, Validation Accuracy: 0.9627, Train Log Loss: 0.1187, Validation Log Loss: 0.1266\n",
      "Epoch [46/50], Train Loss: 0.1188, Validation Loss: 0.1238, Train Accuracy: 0.9628, Validation Accuracy: 0.9627, Train Log Loss: 0.1189, Validation Log Loss: 0.1234\n",
      "Epoch [47/50], Train Loss: 0.1199, Validation Loss: 0.1192, Train Accuracy: 0.9628, Validation Accuracy: 0.9627, Train Log Loss: 0.1199, Validation Log Loss: 0.1191\n",
      "Epoch [48/50], Train Loss: 0.1187, Validation Loss: 0.1209, Train Accuracy: 0.9628, Validation Accuracy: 0.9627, Train Log Loss: 0.1188, Validation Log Loss: 0.1208\n",
      "Epoch [49/50], Train Loss: 0.1173, Validation Loss: 0.1238, Train Accuracy: 0.9628, Validation Accuracy: 0.9627, Train Log Loss: 0.1172, Validation Log Loss: 0.1236\n",
      "Epoch [50/50], Train Loss: 0.1169, Validation Loss: 0.1232, Train Accuracy: 0.9628, Validation Accuracy: 0.9627, Train Log Loss: 0.1169, Validation Log Loss: 0.1230\n",
      "Average validation log loss over all epochs:  0.12196266797436735\n"
     ]
    }
   ],
   "source": [
    "# Lists to store loss and accuracy values\n",
    "train_losses = []\n",
    "val_losses = []\n",
    "train_log_losses = []  # To store log loss for training\n",
    "val_log_losses = []  # To store log loss for validation\n",
    "\n",
    "num_epochs = 50  # Define the number of epochs\n",
    "\n",
    "for epoch in range(num_epochs):\n",
    "    # Training phase\n",
    "    model.train()\n",
    "    train_loss = 0.0\n",
    "    train_correct = 0\n",
    "    train_total = 0\n",
    "    train_probs = []  # Store predicted probabilities for log loss calculation\n",
    "    train_labels = []  # Store true labels for log loss calculation\n",
    "    \n",
    "    for features, labels in train_loader:\n",
    "        labels = labels.view(-1, 1)  # Ensure labels shape matches the output shape\n",
    "        \n",
    "        optimizer.zero_grad()\n",
    "        \n",
    "        # Forward pass\n",
    "        outputs = model(features)\n",
    "        \n",
    "        # Compute loss\n",
    "        loss = criterion(outputs, labels)\n",
    "        loss.backward()\n",
    "        optimizer.step()\n",
    "        \n",
    "        # Accumulate the loss\n",
    "        train_loss += loss.item()\n",
    "        \n",
    "        # Calculate accuracy with sigmoid\n",
    "        probabilities = torch.sigmoid(outputs)  # Convert logits to probabilities\n",
    "        predictions = (probabilities > 0.5).float()\n",
    "        train_correct += (predictions == labels).sum().item()\n",
    "        train_total += labels.size(0)\n",
    "\n",
    "        # Collect data for log loss calculation\n",
    "        train_probs.append(probabilities.detach().cpu().numpy())\n",
    "        train_labels.append(labels.cpu().numpy())\n",
    "    \n",
    "    # Calculate average training loss and accuracy for the epoch\n",
    "    avg_train_loss = train_loss / len(train_loader)\n",
    "    train_accuracy = train_correct / train_total\n",
    "    train_losses.append(avg_train_loss)\n",
    "\n",
    "    # Calculate log loss for the training epoch\n",
    "    train_probs = np.concatenate(train_probs)\n",
    "    train_labels = np.concatenate(train_labels)\n",
    "    train_epoch_log_loss = log_loss(train_labels, train_probs)  # Use sklearn log_loss\n",
    "    train_log_losses.append(train_epoch_log_loss)\n",
    "    \n",
    "    # Validation phase\n",
    "    model.eval()\n",
    "    val_loss = 0.0\n",
    "    val_correct = 0\n",
    "    val_total = 0\n",
    "    val_probs = []  # Store predicted probabilities for log loss calculation\n",
    "    val_labels = []  # Store true labels for log loss calculation\n",
    "    \n",
    "    with torch.no_grad():\n",
    "        for features, labels in val_loader:\n",
    "            labels = labels.view(-1, 1)  # Ensure labels shape matches the output shape\n",
    "            \n",
    "            outputs = model(features)\n",
    "            loss = criterion(outputs, labels)\n",
    "            val_loss += loss.item()\n",
    "            \n",
    "            # Calculate accuracy with sigmoid\n",
    "            probabilities = torch.sigmoid(outputs)  # Convert logits to probabilities\n",
    "            predictions = (probabilities > 0.5).float()\n",
    "            val_correct += (predictions == labels).sum().item()\n",
    "            val_total += labels.size(0)\n",
    "\n",
    "            # Collect data for log loss calculation\n",
    "            val_probs.append(probabilities.cpu().numpy())\n",
    "            val_labels.append(labels.cpu().numpy())\n",
    "    \n",
    "    # Calculate average validation loss and accuracy for the epoch\n",
    "    avg_val_loss = val_loss / len(val_loader)\n",
    "    val_accuracy = val_correct / val_total\n",
    "    val_losses.append(avg_val_loss)\n",
    "\n",
    "    # Calculate log loss for the validation epoch\n",
    "    val_probs = np.concatenate(val_probs)\n",
    "    val_labels = np.concatenate(val_labels)\n",
    "    val_epoch_log_loss = log_loss(val_labels, val_probs)  # Use sklearn log_loss\n",
    "    val_log_losses.append(val_epoch_log_loss)\n",
    "    \n",
    "    # Step the scheduler if using ReduceLROnPlateau\n",
    "    if isinstance(scheduler, torch.optim.lr_scheduler.ReduceLROnPlateau):\n",
    "        scheduler.step(avg_val_loss)  # Step based on validation loss for ReduceLROnPlateau\n",
    "    else:\n",
    "        scheduler.step()  # Step without arguments for other schedulers like StepLR\n",
    "\n",
    "    print(f\"Epoch [{epoch+1}/{num_epochs}], Train Loss: {avg_train_loss:.4f}, Validation Loss: {avg_val_loss:.4f}, \"\n",
    "          f\"Train Accuracy: {train_accuracy:.4f}, Validation Accuracy: {val_accuracy:.4f}, \"\n",
    "          f\"Train Log Loss: {train_epoch_log_loss:.4f}, Validation Log Loss: {val_epoch_log_loss:.4f}\")\n",
    "\n",
    "# After training, evaluate the model on the test dataset\n",
    "model.eval()\n",
    "test_probs = []\n",
    "test_labels = []\n",
    "\n",
    "with torch.no_grad():\n",
    "    for data in test_loader:\n",
    "        features, labels = data\n",
    "        labels = labels.view(-1, 1)\n",
    "        outputs = model(features)\n",
    "        probs = torch.sigmoid(outputs).cpu().numpy()  # Convert logits to probabilities\n",
    "        test_probs.extend(probs)\n",
    "        test_labels.extend(labels.cpu().numpy())\n",
    "\n",
    "# Calculate and print performance metrics on the test set\n",
    "test_log_loss = log_loss(test_labels, test_probs)\n",
    "test_auc = roc_auc_score(test_labels, test_probs)\n",
    "test_brier = brier_score_loss(test_labels, test_probs)\n",
    "\n",
    "print(f\"Test Set Performance: Log Loss: {test_log_loss:.4f}, AUC: {test_auc:.4f}, Brier Score: {test_brier:.4f}\")\n",
    "\n",
    "# Plot training and validation log loss over epochs\n",
    "plt.figure(figsize=(12, 6))\n",
    "plt.plot(range(1, num_epochs + 1), train_log_losses, label='Training Log Loss')\n",
    "plt.plot(range(1, num_epochs + 1), val_log_losses, label='Validation Log Loss')\n",
    "plt.xlabel('Epoch')\n",
    "plt.ylabel('Log Loss')\n",
    "plt.legend()\n",
    "plt.title('Training and Validation Log Loss Over Epochs')\n",
    "plt.show()\n",
    "\n"
   ]
  },
  {
   "cell_type": "code",
   "execution_count": 82,
   "metadata": {},
   "outputs": [
    {
     "data": {
      "image/png": "[encoded data removed]",
      "text/plain": [
       "<Figure size 1000x500 with 1 Axes>"
      ]
     },
     "metadata": {},
     "output_type": "display_data"
    }
   ],
   "source": [
    "plot_errors(train_losses, val_losses)"
   ]
  },
  {
   "cell_type": "markdown",
   "metadata": {},
   "source": [
    "### Hyperparameter selection"
   ]
  },
  {
   "cell_type": "code",
   "execution_count": 91,
   "metadata": {},
   "outputs": [],
   "source": [
    "# Define the function to create the model architecture based on hyperparameters\n",
    "def create_model(input_size, n_units1, n_units2, dropout_rate):\n",
    "    model = nn.Sequential(\n",
    "        nn.Linear(input_size, n_units1),\n",
    "        nn.LeakyReLU(0.01),\n",
    "        nn.BatchNorm1d(n_units1),\n",
    "        nn.Dropout(dropout_rate),\n",
    "        \n",
    "        nn.Linear(n_units1, n_units2),\n",
    "        nn.LeakyReLU(0.01),\n",
    "        nn.BatchNorm1d(n_units2),\n",
    "        nn.Dropout(dropout_rate),\n",
    "        \n",
    "        nn.Linear(n_units2, 10),\n",
    "        nn.LeakyReLU(0.01),\n",
    "        \n",
    "        nn.Linear(10, 1)  # No Sigmoid here because we'll use BCEWithLogitsLoss\n",
    "    )\n",
    "    return model"
   ]
  },
  {
   "cell_type": "code",
   "execution_count": 92,
   "metadata": {},
   "outputs": [
    {
     "name": "stderr",
     "output_type": "stream",
     "text": [
      "[I 2024-10-07 11:09:48,286] A new study created in memory with name: no-name-18ed2cf5-50af-4b76-bde9-2d6f261d4eae\n",
      "[I 2024-10-07 11:10:23,312] Trial 0 finished with value: 0.12363652860098684 and parameters: {'n_units1': 204, 'n_units2': 125, 'dropout_rate': 0.35703701786764686, 'lr': 0.001247261999549087, 'weight_decay': 0.0003136950539404169}. Best is trial 0 with value: 0.12363652860098684.\n"
     ]
    },
    {
     "name": "stdout",
     "output_type": "stream",
     "text": [
      "Trial 1, Validation Log Loss: 0.1236\n"
     ]
    },
    {
     "name": "stderr",
     "output_type": "stream",
     "text": [
      "[I 2024-10-07 11:10:58,288] Trial 1 finished with value: 0.11921695450213173 and parameters: {'n_units1': 89, 'n_units2': 127, 'dropout_rate': 0.42960940341471376, 'lr': 0.00035190134958024144, 'weight_decay': 9.220646038917157e-05}. Best is trial 1 with value: 0.11921695450213173.\n"
     ]
    },
    {
     "name": "stdout",
     "output_type": "stream",
     "text": [
      "Trial 2, Validation Log Loss: 0.1192\n"
     ]
    },
    {
     "name": "stderr",
     "output_type": "stream",
     "text": [
      "[I 2024-10-07 11:11:33,536] Trial 2 finished with value: 0.12474818373696535 and parameters: {'n_units1': 248, 'n_units2': 55, 'dropout_rate': 0.4400070490974616, 'lr': 0.00010002318906055606, 'weight_decay': 2.1856712758919064e-06}. Best is trial 1 with value: 0.11921695450213173.\n"
     ]
    },
    {
     "name": "stdout",
     "output_type": "stream",
     "text": [
      "Trial 3, Validation Log Loss: 0.1247\n"
     ]
    },
    {
     "name": "stderr",
     "output_type": "stream",
     "text": [
      "[I 2024-10-07 11:12:08,283] Trial 3 finished with value: 0.1309917103847432 and parameters: {'n_units1': 146, 'n_units2': 54, 'dropout_rate': 0.13382363530566896, 'lr': 0.009660853113275128, 'weight_decay': 5.015279037327842e-05}. Best is trial 1 with value: 0.11921695450213173.\n"
     ]
    },
    {
     "name": "stdout",
     "output_type": "stream",
     "text": [
      "Trial 4, Validation Log Loss: 0.1310\n"
     ]
    },
    {
     "name": "stderr",
     "output_type": "stream",
     "text": [
      "[I 2024-10-07 11:12:43,635] Trial 4 finished with value: 0.11952390079035555 and parameters: {'n_units1': 214, 'n_units2': 62, 'dropout_rate': 0.425294964312261, 'lr': 0.0003328800782594814, 'weight_decay': 0.00012423240046057038}. Best is trial 1 with value: 0.11921695450213173.\n"
     ]
    },
    {
     "name": "stdout",
     "output_type": "stream",
     "text": [
      "Trial 5, Validation Log Loss: 0.1195\n"
     ]
    },
    {
     "name": "stderr",
     "output_type": "stream",
     "text": [
      "[I 2024-10-07 11:13:18,623] Trial 5 finished with value: 0.14571217245739998 and parameters: {'n_units1': 77, 'n_units2': 107, 'dropout_rate': 0.48115595178908943, 'lr': 0.07306769459638351, 'weight_decay': 0.00010269986093345348}. Best is trial 1 with value: 0.11921695450213173.\n"
     ]
    },
    {
     "name": "stdout",
     "output_type": "stream",
     "text": [
      "Trial 6, Validation Log Loss: 0.1457\n"
     ]
    },
    {
     "name": "stderr",
     "output_type": "stream",
     "text": [
      "[I 2024-10-07 11:13:53,920] Trial 6 finished with value: 0.12364859848112536 and parameters: {'n_units1': 166, 'n_units2': 44, 'dropout_rate': 0.3322616623512952, 'lr': 0.0015682723044618998, 'weight_decay': 0.00016139144911051065}. Best is trial 1 with value: 0.11921695450213173.\n"
     ]
    },
    {
     "name": "stdout",
     "output_type": "stream",
     "text": [
      "Trial 7, Validation Log Loss: 0.1236\n"
     ]
    },
    {
     "name": "stderr",
     "output_type": "stream",
     "text": [
      "[I 2024-10-07 11:14:29,114] Trial 7 finished with value: 0.1557590000829221 and parameters: {'n_units1': 91, 'n_units2': 74, 'dropout_rate': 0.17260922479333876, 'lr': 0.04954526218078849, 'weight_decay': 0.00022313752741256435}. Best is trial 1 with value: 0.11921695450213173.\n"
     ]
    },
    {
     "name": "stdout",
     "output_type": "stream",
     "text": [
      "Trial 8, Validation Log Loss: 0.1558\n"
     ]
    },
    {
     "name": "stderr",
     "output_type": "stream",
     "text": [
      "[I 2024-10-07 11:15:05,142] Trial 8 finished with value: 0.14920795683236354 and parameters: {'n_units1': 189, 'n_units2': 99, 'dropout_rate': 0.10773955327659307, 'lr': 0.06623962588975281, 'weight_decay': 1.0389479843135592e-06}. Best is trial 1 with value: 0.11921695450213173.\n"
     ]
    },
    {
     "name": "stdout",
     "output_type": "stream",
     "text": [
      "Trial 9, Validation Log Loss: 0.1492\n"
     ]
    },
    {
     "name": "stderr",
     "output_type": "stream",
     "text": [
      "[I 2024-10-07 11:15:40,565] Trial 9 finished with value: 0.1280288673555669 and parameters: {'n_units1': 171, 'n_units2': 54, 'dropout_rate': 0.36093437743867707, 'lr': 0.008899001386509255, 'weight_decay': 1.6072058914071625e-06}. Best is trial 1 with value: 0.11921695450213173.\n"
     ]
    },
    {
     "name": "stdout",
     "output_type": "stream",
     "text": [
      "Trial 10, Validation Log Loss: 0.1280\n"
     ]
    },
    {
     "name": "stderr",
     "output_type": "stream",
     "text": [
      "[I 2024-10-07 11:16:16,589] Trial 10 finished with value: 0.1216590201236875 and parameters: {'n_units1': 120, 'n_units2': 17, 'dropout_rate': 0.221739421592726, 'lr': 0.00032812457875944136, 'weight_decay': 0.0009218905829048883}. Best is trial 1 with value: 0.11921695450213173.\n"
     ]
    },
    {
     "name": "stdout",
     "output_type": "stream",
     "text": [
      "Trial 11, Validation Log Loss: 0.1217\n"
     ]
    },
    {
     "name": "stderr",
     "output_type": "stream",
     "text": [
      "[I 2024-10-07 11:16:55,137] Trial 11 finished with value: 0.12044784482649677 and parameters: {'n_units1': 233, 'n_units2': 84, 'dropout_rate': 0.42016569040809515, 'lr': 0.00037613294888214684, 'weight_decay': 1.3620160404357716e-05}. Best is trial 1 with value: 0.11921695450213173.\n"
     ]
    },
    {
     "name": "stdout",
     "output_type": "stream",
     "text": [
      "Trial 12, Validation Log Loss: 0.1204\n"
     ]
    },
    {
     "name": "stderr",
     "output_type": "stream",
     "text": [
      "[I 2024-10-07 11:17:32,627] Trial 12 finished with value: 0.11988758982719157 and parameters: {'n_units1': 123, 'n_units2': 122, 'dropout_rate': 0.2769108342236921, 'lr': 0.00012383432145037141, 'weight_decay': 2.697404188650324e-05}. Best is trial 1 with value: 0.11921695450213173.\n"
     ]
    },
    {
     "name": "stdout",
     "output_type": "stream",
     "text": [
      "Trial 13, Validation Log Loss: 0.1199\n"
     ]
    },
    {
     "name": "stderr",
     "output_type": "stream",
     "text": [
      "[I 2024-10-07 11:18:10,142] Trial 13 finished with value: 0.12368767832221836 and parameters: {'n_units1': 222, 'n_units2': 89, 'dropout_rate': 0.4945893327642629, 'lr': 0.0007028527738135571, 'weight_decay': 8.598318066270717e-06}. Best is trial 1 with value: 0.11921695450213173.\n"
     ]
    },
    {
     "name": "stdout",
     "output_type": "stream",
     "text": [
      "Trial 14, Validation Log Loss: 0.1237\n"
     ]
    },
    {
     "name": "stderr",
     "output_type": "stream",
     "text": [
      "[I 2024-10-07 11:18:46,213] Trial 14 finished with value: 0.1289634160089061 and parameters: {'n_units1': 105, 'n_units2': 36, 'dropout_rate': 0.41218449095232884, 'lr': 0.0037611440079566467, 'weight_decay': 0.000584551622434842}. Best is trial 1 with value: 0.11921695450213173.\n"
     ]
    },
    {
     "name": "stdout",
     "output_type": "stream",
     "text": [
      "Trial 15, Validation Log Loss: 0.1290\n"
     ]
    },
    {
     "name": "stderr",
     "output_type": "stream",
     "text": [
      "[I 2024-10-07 11:19:22,745] Trial 15 finished with value: 0.12055160064391311 and parameters: {'n_units1': 69, 'n_units2': 69, 'dropout_rate': 0.27155646980644177, 'lr': 0.00018135660877754685, 'weight_decay': 7.30734525113064e-05}. Best is trial 1 with value: 0.11921695450213173.\n"
     ]
    },
    {
     "name": "stdout",
     "output_type": "stream",
     "text": [
      "Trial 16, Validation Log Loss: 0.1206\n"
     ]
    },
    {
     "name": "stderr",
     "output_type": "stream",
     "text": [
      "[I 2024-10-07 11:20:00,403] Trial 16 finished with value: 0.12144410960047906 and parameters: {'n_units1': 145, 'n_units2': 107, 'dropout_rate': 0.3881984185454818, 'lr': 0.0005233888999161802, 'weight_decay': 3.1843285761898194e-05}. Best is trial 1 with value: 0.11921695450213173.\n"
     ]
    },
    {
     "name": "stdout",
     "output_type": "stream",
     "text": [
      "Trial 17, Validation Log Loss: 0.1214\n"
     ]
    },
    {
     "name": "stderr",
     "output_type": "stream",
     "text": [
      "[I 2024-10-07 11:20:37,457] Trial 17 finished with value: 0.12311116317516664 and parameters: {'n_units1': 209, 'n_units2': 72, 'dropout_rate': 0.4444350023471857, 'lr': 0.002613746737181082, 'weight_decay': 9.81400841117804e-06}. Best is trial 1 with value: 0.11921695450213173.\n"
     ]
    },
    {
     "name": "stdout",
     "output_type": "stream",
     "text": [
      "Trial 18, Validation Log Loss: 0.1231\n"
     ]
    },
    {
     "name": "stderr",
     "output_type": "stream",
     "text": [
      "[I 2024-10-07 11:21:13,646] Trial 18 finished with value: 0.12012862702018491 and parameters: {'n_units1': 256, 'n_units2': 28, 'dropout_rate': 0.310177727960643, 'lr': 0.0002913068608624495, 'weight_decay': 0.00038766011489116615}. Best is trial 1 with value: 0.11921695450213173.\n"
     ]
    },
    {
     "name": "stdout",
     "output_type": "stream",
     "text": [
      "Trial 19, Validation Log Loss: 0.1201\n"
     ]
    },
    {
     "name": "stderr",
     "output_type": "stream",
     "text": [
      "[I 2024-10-07 11:21:49,325] Trial 19 finished with value: 0.12169309616874159 and parameters: {'n_units1': 180, 'n_units2': 86, 'dropout_rate': 0.46613436155511007, 'lr': 0.0009956652377264546, 'weight_decay': 0.00012598873890754022}. Best is trial 1 with value: 0.11921695450213173.\n"
     ]
    },
    {
     "name": "stdout",
     "output_type": "stream",
     "text": [
      "Trial 20, Validation Log Loss: 0.1217\n"
     ]
    },
    {
     "name": "stderr",
     "output_type": "stream",
     "text": [
      "[I 2024-10-07 11:22:25,043] Trial 20 finished with value: 0.12669914063101895 and parameters: {'n_units1': 198, 'n_units2': 62, 'dropout_rate': 0.3944841616231915, 'lr': 0.005119817502646025, 'weight_decay': 3.8972354855702366e-06}. Best is trial 1 with value: 0.11921695450213173.\n"
     ]
    },
    {
     "name": "stdout",
     "output_type": "stream",
     "text": [
      "Trial 21, Validation Log Loss: 0.1267\n"
     ]
    },
    {
     "name": "stderr",
     "output_type": "stream",
     "text": [
      "[I 2024-10-07 11:23:01,478] Trial 21 finished with value: 0.12101976228863216 and parameters: {'n_units1': 129, 'n_units2': 125, 'dropout_rate': 0.2616559334656551, 'lr': 0.00010171898797786273, 'weight_decay': 2.3136537133191065e-05}. Best is trial 1 with value: 0.11921695450213173.\n"
     ]
    },
    {
     "name": "stdout",
     "output_type": "stream",
     "text": [
      "Trial 22, Validation Log Loss: 0.1210\n"
     ]
    },
    {
     "name": "stderr",
     "output_type": "stream",
     "text": [
      "[I 2024-10-07 11:23:38,212] Trial 22 finished with value: 0.12269763139790564 and parameters: {'n_units1': 104, 'n_units2': 116, 'dropout_rate': 0.22334617813321558, 'lr': 0.00019226805599017248, 'weight_decay': 4.7572172313671474e-05}. Best is trial 1 with value: 0.11921695450213173.\n"
     ]
    },
    {
     "name": "stdout",
     "output_type": "stream",
     "text": [
      "Trial 23, Validation Log Loss: 0.1227\n"
     ]
    },
    {
     "name": "stderr",
     "output_type": "stream",
     "text": [
      "[I 2024-10-07 11:24:16,573] Trial 23 finished with value: 0.12563877021873932 and parameters: {'n_units1': 120, 'n_units2': 128, 'dropout_rate': 0.30145406241538497, 'lr': 0.0001623379582649489, 'weight_decay': 2.101572674733589e-05}. Best is trial 1 with value: 0.11921695450213173.\n"
     ]
    },
    {
     "name": "stdout",
     "output_type": "stream",
     "text": [
      "Trial 24, Validation Log Loss: 0.1256\n"
     ]
    },
    {
     "name": "stderr",
     "output_type": "stream",
     "text": [
      "[I 2024-10-07 11:24:54,291] Trial 24 finished with value: 0.12366131219534268 and parameters: {'n_units1': 144, 'n_units2': 114, 'dropout_rate': 0.34905876117308304, 'lr': 0.0004985590002847693, 'weight_decay': 7.14998768366614e-05}. Best is trial 1 with value: 0.11921695450213173.\n"
     ]
    },
    {
     "name": "stdout",
     "output_type": "stream",
     "text": [
      "Trial 25, Validation Log Loss: 0.1237\n"
     ]
    },
    {
     "name": "stderr",
     "output_type": "stream",
     "text": [
      "[I 2024-10-07 11:25:31,127] Trial 25 finished with value: 0.1204978271801262 and parameters: {'n_units1': 87, 'n_units2': 98, 'dropout_rate': 0.26542343570043386, 'lr': 0.00022089428347089722, 'weight_decay': 4.233970925301788e-05}. Best is trial 1 with value: 0.11921695450213173.\n"
     ]
    },
    {
     "name": "stdout",
     "output_type": "stream",
     "text": [
      "Trial 26, Validation Log Loss: 0.1205\n"
     ]
    },
    {
     "name": "stderr",
     "output_type": "stream",
     "text": [
      "[I 2024-10-07 11:26:07,901] Trial 26 finished with value: 0.12318942272094231 and parameters: {'n_units1': 102, 'n_units2': 116, 'dropout_rate': 0.21514708283403614, 'lr': 0.0008099303612303015, 'weight_decay': 8.537978002602989e-05}. Best is trial 1 with value: 0.11921695450213173.\n"
     ]
    },
    {
     "name": "stdout",
     "output_type": "stream",
     "text": [
      "Trial 27, Validation Log Loss: 0.1232\n"
     ]
    },
    {
     "name": "stderr",
     "output_type": "stream",
     "text": [
      "[I 2024-10-07 11:26:44,786] Trial 27 finished with value: 0.14132032574947498 and parameters: {'n_units1': 130, 'n_units2': 96, 'dropout_rate': 0.3772709289750673, 'lr': 0.020838174336364892, 'weight_decay': 0.00019254793460242065}. Best is trial 1 with value: 0.11921695450213173.\n"
     ]
    },
    {
     "name": "stdout",
     "output_type": "stream",
     "text": [
      "Trial 28, Validation Log Loss: 0.1413\n"
     ]
    },
    {
     "name": "stderr",
     "output_type": "stream",
     "text": [
      "[I 2024-10-07 11:27:21,514] Trial 28 finished with value: 0.1244683952627158 and parameters: {'n_units1': 65, 'n_units2': 108, 'dropout_rate': 0.32075338098772155, 'lr': 0.0024317141112033653, 'weight_decay': 5.395372978998873e-06}. Best is trial 1 with value: 0.11921695450213173.\n"
     ]
    },
    {
     "name": "stdout",
     "output_type": "stream",
     "text": [
      "Trial 29, Validation Log Loss: 0.1245\n"
     ]
    },
    {
     "name": "stderr",
     "output_type": "stream",
     "text": [
      "[I 2024-10-07 11:27:58,699] Trial 29 finished with value: 0.12579925266600323 and parameters: {'n_units1': 156, 'n_units2': 120, 'dropout_rate': 0.46296523772970744, 'lr': 0.0014939942324554076, 'weight_decay': 0.0003960053585543734}. Best is trial 1 with value: 0.11921695450213173.\n"
     ]
    },
    {
     "name": "stdout",
     "output_type": "stream",
     "text": [
      "Trial 30, Validation Log Loss: 0.1258\n"
     ]
    },
    {
     "name": "stderr",
     "output_type": "stream",
     "text": [
      "[I 2024-10-07 11:28:32,570] Trial 30 finished with value: 0.12561852620639788 and parameters: {'n_units1': 85, 'n_units2': 80, 'dropout_rate': 0.3465048086150205, 'lr': 0.00014143237943507145, 'weight_decay': 1.6190800201773274e-05}. Best is trial 1 with value: 0.11921695450213173.\n"
     ]
    },
    {
     "name": "stdout",
     "output_type": "stream",
     "text": [
      "Trial 31, Validation Log Loss: 0.1256\n"
     ]
    },
    {
     "name": "stderr",
     "output_type": "stream",
     "text": [
      "[I 2024-10-07 11:29:06,809] Trial 31 finished with value: 0.12152982450787445 and parameters: {'n_units1': 244, 'n_units2': 21, 'dropout_rate': 0.2945987602811264, 'lr': 0.00035254249431720166, 'weight_decay': 0.00031038722440503315}. Best is trial 1 with value: 0.11921695450213173.\n"
     ]
    },
    {
     "name": "stdout",
     "output_type": "stream",
     "text": [
      "Trial 32, Validation Log Loss: 0.1215\n"
     ]
    },
    {
     "name": "stderr",
     "output_type": "stream",
     "text": [
      "[I 2024-10-07 11:29:41,102] Trial 32 finished with value: 0.12225425757814369 and parameters: {'n_units1': 253, 'n_units2': 32, 'dropout_rate': 0.4404295492453856, 'lr': 0.00030598650783712934, 'weight_decay': 0.0004208363817667576}. Best is trial 1 with value: 0.11921695450213173.\n"
     ]
    },
    {
     "name": "stdout",
     "output_type": "stream",
     "text": [
      "Trial 33, Validation Log Loss: 0.1223\n"
     ]
    },
    {
     "name": "stderr",
     "output_type": "stream",
     "text": [
      "[I 2024-10-07 11:30:15,877] Trial 33 finished with value: 0.12589409376656477 and parameters: {'n_units1': 215, 'n_units2': 44, 'dropout_rate': 0.4137085004033775, 'lr': 0.0001110916006885505, 'weight_decay': 0.00022812222692423551}. Best is trial 1 with value: 0.11921695450213173.\n"
     ]
    },
    {
     "name": "stdout",
     "output_type": "stream",
     "text": [
      "Trial 34, Validation Log Loss: 0.1259\n"
     ]
    },
    {
     "name": "stderr",
     "output_type": "stream",
     "text": [
      "[I 2024-10-07 11:30:50,212] Trial 34 finished with value: 0.12259846676560503 and parameters: {'n_units1': 236, 'n_units2': 27, 'dropout_rate': 0.19299739730516624, 'lr': 0.0002479131405833934, 'weight_decay': 0.0006051422374037343}. Best is trial 1 with value: 0.11921695450213173.\n"
     ]
    },
    {
     "name": "stdout",
     "output_type": "stream",
     "text": [
      "Trial 35, Validation Log Loss: 0.1226\n"
     ]
    },
    {
     "name": "stderr",
     "output_type": "stream",
     "text": [
      "[I 2024-10-07 11:31:25,714] Trial 35 finished with value: 0.11851904515889598 and parameters: {'n_units1': 256, 'n_units2': 60, 'dropout_rate': 0.30393767646782444, 'lr': 0.0004940211552825393, 'weight_decay': 0.0001306593960095015}. Best is trial 35 with value: 0.11851904515889598.\n"
     ]
    },
    {
     "name": "stdout",
     "output_type": "stream",
     "text": [
      "Trial 36, Validation Log Loss: 0.1185\n"
     ]
    },
    {
     "name": "stderr",
     "output_type": "stream",
     "text": [
      "[I 2024-10-07 11:32:00,569] Trial 36 finished with value: 0.12615267998704713 and parameters: {'n_units1': 220, 'n_units2': 64, 'dropout_rate': 0.2486600878110511, 'lr': 0.0005377930817105772, 'weight_decay': 0.00011721653274446977}. Best is trial 35 with value: 0.11851904515889598.\n"
     ]
    },
    {
     "name": "stdout",
     "output_type": "stream",
     "text": [
      "Trial 37, Validation Log Loss: 0.1262\n"
     ]
    },
    {
     "name": "stderr",
     "output_type": "stream",
     "text": [
      "[I 2024-10-07 11:32:35,420] Trial 37 finished with value: 0.12455643558502363 and parameters: {'n_units1': 201, 'n_units2': 60, 'dropout_rate': 0.28475666450525355, 'lr': 0.0010621419817472251, 'weight_decay': 5.464893906778277e-05}. Best is trial 35 with value: 0.11851904515889598.\n"
     ]
    },
    {
     "name": "stdout",
     "output_type": "stream",
     "text": [
      "Trial 38, Validation Log Loss: 0.1246\n"
     ]
    },
    {
     "name": "stderr",
     "output_type": "stream",
     "text": [
      "[I 2024-10-07 11:33:10,483] Trial 38 finished with value: 0.11969253540555258 and parameters: {'n_units1': 228, 'n_units2': 45, 'dropout_rate': 0.32994826165974306, 'lr': 0.0006249215221886548, 'weight_decay': 0.0001392846997857794}. Best is trial 35 with value: 0.11851904515889598.\n"
     ]
    },
    {
     "name": "stdout",
     "output_type": "stream",
     "text": [
      "Trial 39, Validation Log Loss: 0.1197\n"
     ]
    },
    {
     "name": "stderr",
     "output_type": "stream",
     "text": [
      "[I 2024-10-07 11:33:44,981] Trial 39 finished with value: 0.12295995753412473 and parameters: {'n_units1': 232, 'n_units2': 46, 'dropout_rate': 0.3759465799849882, 'lr': 0.0015433294073274946, 'weight_decay': 0.0001508734436510656}. Best is trial 35 with value: 0.11851904515889598.\n"
     ]
    },
    {
     "name": "stdout",
     "output_type": "stream",
     "text": [
      "Trial 40, Validation Log Loss: 0.1230\n"
     ]
    },
    {
     "name": "stderr",
     "output_type": "stream",
     "text": [
      "[I 2024-10-07 11:34:19,922] Trial 40 finished with value: 0.11930890734139975 and parameters: {'n_units1': 192, 'n_units2': 47, 'dropout_rate': 0.3361451928123755, 'lr': 0.0007309419150151612, 'weight_decay': 0.00024965383300212275}. Best is trial 35 with value: 0.11851904515889598.\n"
     ]
    },
    {
     "name": "stdout",
     "output_type": "stream",
     "text": [
      "Trial 41, Validation Log Loss: 0.1193\n"
     ]
    },
    {
     "name": "stderr",
     "output_type": "stream",
     "text": [
      "[I 2024-10-07 11:34:54,989] Trial 41 finished with value: 0.12219869132413104 and parameters: {'n_units1': 190, 'n_units2': 51, 'dropout_rate': 0.3347858571334062, 'lr': 0.0006954463500462413, 'weight_decay': 0.0002664095506441035}. Best is trial 35 with value: 0.11851904515889598.\n"
     ]
    },
    {
     "name": "stdout",
     "output_type": "stream",
     "text": [
      "Trial 42, Validation Log Loss: 0.1222\n"
     ]
    },
    {
     "name": "stderr",
     "output_type": "stream",
     "text": [
      "[I 2024-10-07 11:35:29,969] Trial 42 finished with value: 0.12094551810603268 and parameters: {'n_units1': 245, 'n_units2': 38, 'dropout_rate': 0.3658998884734569, 'lr': 0.00048372852148988264, 'weight_decay': 0.00015774407598663926}. Best is trial 35 with value: 0.11851904515889598.\n"
     ]
    },
    {
     "name": "stdout",
     "output_type": "stream",
     "text": [
      "Trial 43, Validation Log Loss: 0.1209\n"
     ]
    },
    {
     "name": "stderr",
     "output_type": "stream",
     "text": [
      "[I 2024-10-07 11:36:05,105] Trial 43 finished with value: 0.1271598294686791 and parameters: {'n_units1': 223, 'n_units2': 50, 'dropout_rate': 0.32168140108920346, 'lr': 0.000908658332897898, 'weight_decay': 9.992698587039147e-05}. Best is trial 35 with value: 0.11851904515889598.\n"
     ]
    },
    {
     "name": "stdout",
     "output_type": "stream",
     "text": [
      "Trial 44, Validation Log Loss: 0.1272\n"
     ]
    },
    {
     "name": "stderr",
     "output_type": "stream",
     "text": [
      "[I 2024-10-07 11:36:40,290] Trial 44 finished with value: 0.12400318572578835 and parameters: {'n_units1': 238, 'n_units2': 57, 'dropout_rate': 0.3966569927461227, 'lr': 0.00041939266645824855, 'weight_decay': 0.00020145702428403493}. Best is trial 35 with value: 0.11851904515889598.\n"
     ]
    },
    {
     "name": "stdout",
     "output_type": "stream",
     "text": [
      "Trial 45, Validation Log Loss: 0.1240\n"
     ]
    },
    {
     "name": "stderr",
     "output_type": "stream",
     "text": [
      "[I 2024-10-07 11:37:15,909] Trial 45 finished with value: 0.12211871694851999 and parameters: {'n_units1': 177, 'n_units2': 67, 'dropout_rate': 0.3422981063644094, 'lr': 0.002054525836516748, 'weight_decay': 6.614885967580181e-05}. Best is trial 35 with value: 0.11851904515889598.\n"
     ]
    },
    {
     "name": "stdout",
     "output_type": "stream",
     "text": [
      "Trial 46, Validation Log Loss: 0.1221\n"
     ]
    },
    {
     "name": "stderr",
     "output_type": "stream",
     "text": [
      "[I 2024-10-07 11:37:51,713] Trial 46 finished with value: 0.12078883685890109 and parameters: {'n_units1': 208, 'n_units2': 42, 'dropout_rate': 0.46528561425241316, 'lr': 0.0006269484518079799, 'weight_decay': 0.00011142701936480964}. Best is trial 35 with value: 0.11851904515889598.\n"
     ]
    },
    {
     "name": "stdout",
     "output_type": "stream",
     "text": [
      "Trial 47, Validation Log Loss: 0.1208\n"
     ]
    },
    {
     "name": "stderr",
     "output_type": "stream",
     "text": [
      "[I 2024-10-07 11:38:28,289] Trial 47 finished with value: 0.1232583418904709 and parameters: {'n_units1': 193, 'n_units2': 79, 'dropout_rate': 0.4277167499859601, 'lr': 0.0011394503076044473, 'weight_decay': 0.0005742056365159862}. Best is trial 35 with value: 0.11851904515889598.\n"
     ]
    },
    {
     "name": "stdout",
     "output_type": "stream",
     "text": [
      "Trial 48, Validation Log Loss: 0.1233\n"
     ]
    },
    {
     "name": "stderr",
     "output_type": "stream",
     "text": [
      "[I 2024-10-07 11:39:03,530] Trial 48 finished with value: 0.12579835218702362 and parameters: {'n_units1': 230, 'n_units2': 57, 'dropout_rate': 0.13866287020076634, 'lr': 0.0002389538247662702, 'weight_decay': 0.00014421658843817326}. Best is trial 35 with value: 0.11851904515889598.\n"
     ]
    },
    {
     "name": "stdout",
     "output_type": "stream",
     "text": [
      "Trial 49, Validation Log Loss: 0.1258\n"
     ]
    },
    {
     "name": "stderr",
     "output_type": "stream",
     "text": [
      "[I 2024-10-07 11:39:38,561] Trial 49 finished with value: 0.12531956081444268 and parameters: {'n_units1': 183, 'n_units2': 49, 'dropout_rate': 0.49057211895120034, 'lr': 0.004018322980618668, 'weight_decay': 4.094737281679776e-05}. Best is trial 35 with value: 0.11851904515889598.\n"
     ]
    },
    {
     "name": "stdout",
     "output_type": "stream",
     "text": [
      "Trial 50, Validation Log Loss: 0.1253\n",
      "Best trial: FrozenTrial(number=35, state=TrialState.COMPLETE, values=[0.11851904515889598], datetime_start=datetime.datetime(2024, 10, 7, 11, 30, 50, 212503), datetime_complete=datetime.datetime(2024, 10, 7, 11, 31, 25, 713829), params={'n_units1': 256, 'n_units2': 60, 'dropout_rate': 0.30393767646782444, 'lr': 0.0004940211552825393, 'weight_decay': 0.0001306593960095015}, user_attrs={}, system_attrs={}, intermediate_values={}, distributions={'n_units1': IntDistribution(high=256, log=False, low=64, step=1), 'n_units2': IntDistribution(high=128, log=False, low=16, step=1), 'dropout_rate': FloatDistribution(high=0.5, log=False, low=0.1, step=None), 'lr': FloatDistribution(high=0.1, log=True, low=0.0001, step=None), 'weight_decay': FloatDistribution(high=0.001, log=True, low=1e-06, step=None)}, trial_id=35, value=None)\n",
      "Best params: {'n_units1': 256, 'n_units2': 60, 'dropout_rate': 0.30393767646782444, 'lr': 0.0004940211552825393, 'weight_decay': 0.0001306593960095015}\n"
     ]
    }
   ],
   "source": [
    "# Define the objective function for Optuna optimization\n",
    "def objective(trial):\n",
    "    # Define the hyperparameters to tune\n",
    "    n_units1 = trial.suggest_int(\"n_units1\", 64, 256)  # Units in first hidden layer\n",
    "    n_units2 = trial.suggest_int(\"n_units2\", 16, 128)  # Units in second hidden layer\n",
    "    dropout_rate = trial.suggest_float(\"dropout_rate\", 0.1, 0.5)  # Dropout rate\n",
    "    lr = trial.suggest_loguniform(\"lr\", 1e-4, 1e-1)  # Learning rate\n",
    "    weight_decay = trial.suggest_loguniform(\"weight_decay\", 1e-6, 1e-3)  # Weight decay\n",
    "\n",
    "    # Create the model based on suggested hyperparameters\n",
    "    model = create_model(X.shape[1], n_units1, n_units2, dropout_rate)\n",
    "    \n",
    "    # Define loss function and optimizer\n",
    "    criterion = nn.BCEWithLogitsLoss()  # Use BCEWithLogitsLoss for numerical stability\n",
    "    optimizer = optim.Adam(model.parameters(), lr=lr, weight_decay=weight_decay)\n",
    "    \n",
    "    # Optional: Learning rate scheduler\n",
    "    scheduler = torch.optim.lr_scheduler.StepLR(optimizer, step_size=10, gamma=0.5)\n",
    "\n",
    "    # Set the number of epochs for tuning\n",
    "    num_epochs = 50  # You can increase this if you want longer training for better tuning\n",
    "\n",
    "    for epoch in range(num_epochs):\n",
    "        # Training phase\n",
    "        model.train()\n",
    "        for batch in train_loader:\n",
    "            features, labels = batch\n",
    "            labels = labels.view(-1, 1)  # Ensure labels shape matches the output shape\n",
    "\n",
    "            optimizer.zero_grad()\n",
    "            outputs = model(features)  # Raw logits\n",
    "            loss = criterion(outputs, labels)\n",
    "            loss.backward()\n",
    "            optimizer.step()\n",
    "        \n",
    "    # Validation phase to calculate log loss on probabilities\n",
    "    model.eval()\n",
    "    val_probs = []\n",
    "    val_labels = []\n",
    "    \n",
    "    with torch.no_grad():\n",
    "        for batch in val_loader:\n",
    "            features, labels = batch\n",
    "            labels = labels.view(-1, 1)  # Ensure labels shape matches the output shape\n",
    "            outputs = model(features)\n",
    "            val_probs.append(torch.sigmoid(outputs).cpu().numpy())  # Convert logits to probabilities\n",
    "            val_labels.append(labels.cpu().numpy())\n",
    "\n",
    "    # Calculate validation log loss using sklearn log_loss\n",
    "    val_probs = np.concatenate(val_probs)\n",
    "    val_labels = np.concatenate(val_labels)\n",
    "    val_log_loss = log_loss(val_labels, val_probs)  # Log loss for validation\n",
    "\n",
    "    # Step the scheduler\n",
    "    scheduler.step()\n",
    "\n",
    "    # Print the validation log loss for this trial\n",
    "    print(f\"Trial {trial.number + 1}, Validation Log Loss: {val_log_loss:.4f}\")\n",
    "\n",
    "    # Return the final validation log loss as the metric for Optuna to optimize\n",
    "    return val_log_loss\n",
    "\n",
    "# Run Optuna optimization\n",
    "study = optuna.create_study(direction=\"minimize\")\n",
    "study.optimize(objective, n_trials=50)\n",
    "\n",
    "# Print the results of the best trial\n",
    "print(\"Best trial:\", study.best_trial)\n",
    "print(\"Best params:\", study.best_trial.params)\n",
    "\n",
    "# Now, update model weights and biases using the best hyperparameters from Optuna\n",
    "best_params = study.best_trial.params\n",
    "best_model = create_model(X.shape[1], best_params[\"n_units1\"], best_params[\"n_units2\"], best_params[\"dropout_rate\"])\n",
    "best_optimizer = optim.Adam(best_model.parameters(), lr=best_params[\"lr\"], weight_decay=best_params[\"weight_decay\"])\n",
    "\n",
    "# Now you can proceed with training best_model on the entire training data\n",
    "# or use it for inference/validation as needed.\n",
    "\n"
   ]
  },
  {
   "cell_type": "markdown",
   "metadata": {},
   "source": [
    "### Training with the Best Parameters"
   ]
  },
  {
   "cell_type": "code",
   "execution_count": 95,
   "metadata": {},
   "outputs": [
    {
     "name": "stdout",
     "output_type": "stream",
     "text": [
      "Epoch [1/50] - Train Loss: 0.2138, Validation Loss: 0.1423\n",
      "Epoch [2/50] - Train Loss: 0.1390, Validation Loss: 0.1293\n",
      "Epoch [3/50] - Train Loss: 0.1319, Validation Loss: 0.1283\n",
      "Epoch [4/50] - Train Loss: 0.1337, Validation Loss: 0.1259\n",
      "Epoch [5/50] - Train Loss: 0.1307, Validation Loss: 0.1271\n",
      "Epoch [6/50] - Train Loss: 0.1279, Validation Loss: 0.1260\n",
      "Epoch [7/50] - Train Loss: 0.1294, Validation Loss: 0.1264\n",
      "Epoch [8/50] - Train Loss: 0.1308, Validation Loss: 0.1247\n",
      "Epoch [9/50] - Train Loss: 0.1271, Validation Loss: 0.1205\n",
      "Epoch [10/50] - Train Loss: 0.1275, Validation Loss: 0.1221\n",
      "Epoch [11/50] - Train Loss: 0.1276, Validation Loss: 0.1263\n",
      "Epoch [12/50] - Train Loss: 0.1258, Validation Loss: 0.1240\n",
      "Epoch [13/50] - Train Loss: 0.1244, Validation Loss: 0.1206\n",
      "Epoch [14/50] - Train Loss: 0.1244, Validation Loss: 0.1220\n",
      "Epoch [15/50] - Train Loss: 0.1230, Validation Loss: 0.1199\n",
      "Epoch [16/50] - Train Loss: 0.1237, Validation Loss: 0.1255\n",
      "Epoch [17/50] - Train Loss: 0.1239, Validation Loss: 0.1211\n",
      "Epoch [18/50] - Train Loss: 0.1245, Validation Loss: 0.1225\n",
      "Epoch [19/50] - Train Loss: 0.1229, Validation Loss: 0.1255\n",
      "Epoch [20/50] - Train Loss: 0.1230, Validation Loss: 0.1215\n",
      "Epoch [21/50] - Train Loss: 0.1208, Validation Loss: 0.1227\n",
      "Epoch [22/50] - Train Loss: 0.1226, Validation Loss: 0.1221\n",
      "Epoch [23/50] - Train Loss: 0.1238, Validation Loss: 0.1221\n",
      "Epoch [24/50] - Train Loss: 0.1245, Validation Loss: 0.1201\n",
      "Epoch [25/50] - Train Loss: 0.1209, Validation Loss: 0.1211\n",
      "Epoch [26/50] - Train Loss: 0.1234, Validation Loss: 0.1203\n",
      "Epoch [27/50] - Train Loss: 0.1199, Validation Loss: 0.1190\n",
      "Epoch [28/50] - Train Loss: 0.1206, Validation Loss: 0.1219\n",
      "Epoch [29/50] - Train Loss: 0.1207, Validation Loss: 0.1204\n",
      "Epoch [30/50] - Train Loss: 0.1201, Validation Loss: 0.1201\n",
      "Epoch [31/50] - Train Loss: 0.1197, Validation Loss: 0.1199\n",
      "Epoch [32/50] - Train Loss: 0.1207, Validation Loss: 0.1201\n",
      "Epoch [33/50] - Train Loss: 0.1210, Validation Loss: 0.1199\n",
      "Epoch [34/50] - Train Loss: 0.1209, Validation Loss: 0.1202\n",
      "Epoch [35/50] - Train Loss: 0.1190, Validation Loss: 0.1210\n",
      "Epoch [36/50] - Train Loss: 0.1212, Validation Loss: 0.1200\n",
      "Epoch [37/50] - Train Loss: 0.1209, Validation Loss: 0.1217\n",
      "Epoch [38/50] - Train Loss: 0.1221, Validation Loss: 0.1241\n",
      "Epoch [39/50] - Train Loss: 0.1215, Validation Loss: 0.1220\n",
      "Epoch [40/50] - Train Loss: 0.1194, Validation Loss: 0.1216\n",
      "Epoch [41/50] - Train Loss: 0.1194, Validation Loss: 0.1200\n",
      "Epoch [42/50] - Train Loss: 0.1206, Validation Loss: 0.1210\n",
      "Epoch [43/50] - Train Loss: 0.1208, Validation Loss: 0.1231\n",
      "Epoch [44/50] - Train Loss: 0.1221, Validation Loss: 0.1197\n",
      "Epoch [45/50] - Train Loss: 0.1195, Validation Loss: 0.1212\n",
      "Epoch [46/50] - Train Loss: 0.1190, Validation Loss: 0.1204\n",
      "Epoch [47/50] - Train Loss: 0.1195, Validation Loss: 0.1227\n",
      "Epoch [48/50] - Train Loss: 0.1199, Validation Loss: 0.1222\n",
      "Epoch [49/50] - Train Loss: 0.1179, Validation Loss: 0.1240\n",
      "Epoch [50/50] - Train Loss: 0.1203, Validation Loss: 0.1206\n"
     ]
    },
    {
     "data": {
      "image/png": "[encoded data removed]",
      "text/plain": [
       "<Figure size 1200x600 with 1 Axes>"
      ]
     },
     "metadata": {},
     "output_type": "display_data"
    },
    {
     "name": "stdout",
     "output_type": "stream",
     "text": [
      "Test Set Performance: Log Loss: 0.1152, AUC: 0.8889, Brier Score: 0.0306\n"
     ]
    }
   ],
   "source": [
    "# Function to perform a single training epoch\n",
    "def train_one_epoch(model, train_loader, optimizer, criterion):\n",
    "    model.train()\n",
    "    total_loss = 0.0\n",
    "    for features, labels in train_loader:\n",
    "        labels = labels.view(-1, 1)\n",
    "        optimizer.zero_grad()\n",
    "        outputs = model(features)\n",
    "        loss = criterion(outputs, labels)\n",
    "        loss.backward()\n",
    "        optimizer.step()\n",
    "        \n",
    "        total_loss += loss.item()\n",
    "    \n",
    "    avg_train_loss = total_loss / len(train_loader)\n",
    "    return avg_train_loss\n",
    "\n",
    "# Function to validate the model\n",
    "def validate_model(model, val_loader, criterion):\n",
    "    model.eval()\n",
    "    val_loss = 0.0\n",
    "    val_probs = []\n",
    "    val_labels = []\n",
    "    \n",
    "    with torch.no_grad():\n",
    "        for features, labels in val_loader:\n",
    "            labels = labels.view(-1, 1)\n",
    "            outputs = model(features)\n",
    "            val_loss += criterion(outputs, labels).item()  # Accumulate validation loss\n",
    "            val_probs.append(torch.sigmoid(outputs).cpu().numpy())\n",
    "            val_labels.append(labels.cpu().numpy())\n",
    "    \n",
    "    avg_val_loss = val_loss / len(val_loader)\n",
    "    val_probs = np.concatenate(val_probs)\n",
    "    val_labels = np.concatenate(val_labels)\n",
    "    \n",
    "    return avg_val_loss, val_probs, val_labels\n",
    "\n",
    "# Function to plot training and validation losses\n",
    "def plot_losses(train_losses, val_losses, num_epochs):\n",
    "    plt.figure(figsize=(12, 6))\n",
    "    plt.plot(range(1, num_epochs + 1), train_losses, label='Training Loss')\n",
    "    plt.plot(range(1, num_epochs + 1), val_losses, label='Validation Loss')\n",
    "    plt.xlabel('Epoch')\n",
    "    plt.ylabel('Loss')\n",
    "    plt.title('Training and Validation Loss')\n",
    "    plt.legend()\n",
    "    plt.show()\n",
    "\n",
    "# Get best parameters from Optuna and create a model\n",
    "best_params = study.best_trial.params\n",
    "model = create_model(X.shape[1], best_params[\"n_units1\"], best_params[\"n_units2\"], best_params[\"dropout_rate\"])\n",
    "optimizer = optim.Adam(model.parameters(), lr=best_params[\"lr\"], weight_decay=best_params[\"weight_decay\"])\n",
    "criterion = nn.BCEWithLogitsLoss()\n",
    "num_epochs = 50\n",
    "\n",
    "# Lists to track performance\n",
    "train_losses = []\n",
    "val_losses = []\n",
    "\n",
    "# Train the model with the best parameters\n",
    "for epoch in range(num_epochs):\n",
    "    avg_train_loss = train_one_epoch(model, train_loader, optimizer, criterion)\n",
    "    train_losses.append(avg_train_loss)\n",
    "    \n",
    "    # Validate the model\n",
    "    avg_val_loss, val_probs, val_labels = validate_model(model, val_loader, criterion)\n",
    "    val_losses.append(avg_val_loss)\n",
    "\n",
    "    # Print average losses for this epoch\n",
    "    print(f\"Epoch [{epoch + 1}/{num_epochs}] - Train Loss: {avg_train_loss:.4f}, Validation Loss: {avg_val_loss:.4f}\")\n",
    "\n",
    "# Plot training and validation loss using the plotting function\n",
    "plot_losses(train_losses, val_losses, num_epochs)\n",
    "\n",
    "# Evaluate the model on the test set\n",
    "model.eval()\n",
    "test_probs = []\n",
    "test_labels = []\n",
    "\n",
    "with torch.no_grad():\n",
    "    for data in test_loader:\n",
    "        features, labels = data\n",
    "        labels = labels.view(-1, 1)\n",
    "        outputs = model(features)\n",
    "        probs = torch.sigmoid(outputs).cpu().numpy()  # Convert logits to probabilities\n",
    "        test_probs.extend(probs)\n",
    "        test_labels.extend(labels.cpu().numpy())\n",
    "\n",
    "# Ensure test_labels and test_probs are flattened\n",
    "test_labels = np.array(test_labels).flatten()\n",
    "test_probs = np.array(test_probs).flatten()\n",
    "\n",
    "# Calculate performance metrics on the test set\n",
    "test_log_loss = log_loss(test_labels, test_probs)\n",
    "test_auc = roc_auc_score(test_labels, test_probs)\n",
    "test_brier = brier_score_loss(test_labels, test_probs)\n",
    "\n",
    "print(f\"Test Set Performance: Log Loss: {test_log_loss:.4f}, AUC: {test_auc:.4f}, Brier Score: {test_brier:.4f}\")\n",
    "\n"
   ]
  },
  {
   "cell_type": "markdown",
   "metadata": {},
   "source": [
    "### Updating Weights and Re-Evaluation\n",
    "- Trains a model for 20 epochs, manually updating the weights and biases of the first layer at each step, instead of relying on a built-in optimizer.\n",
    "- Calculates and prints the average loss for each epoch.\n",
    "- Shows a more granular control over the training process, as you’re directly manipulating the model parameters based on computed gradients."
   ]
  },
  {
   "cell_type": "code",
   "execution_count": 97,
   "metadata": {},
   "outputs": [
    {
     "name": "stdout",
     "output_type": "stream",
     "text": [
      "Epoch [1/50], Loss: 0.2038\n",
      "Epoch [2/50], Loss: 0.1360\n",
      "Epoch [3/50], Loss: 0.1352\n",
      "Epoch [4/50], Loss: 0.1311\n",
      "Epoch [5/50], Loss: 0.1296\n",
      "Epoch [6/50], Loss: 0.1288\n",
      "Epoch [7/50], Loss: 0.1266\n",
      "Epoch [8/50], Loss: 0.1260\n",
      "Epoch [9/50], Loss: 0.1268\n",
      "Epoch [10/50], Loss: 0.1273\n",
      "Epoch [11/50], Loss: 0.1252\n",
      "Epoch [12/50], Loss: 0.1254\n",
      "Epoch [13/50], Loss: 0.1262\n",
      "Epoch [14/50], Loss: 0.1248\n",
      "Epoch [15/50], Loss: 0.1236\n",
      "Epoch [16/50], Loss: 0.1227\n",
      "Epoch [17/50], Loss: 0.1220\n",
      "Epoch [18/50], Loss: 0.1230\n",
      "Epoch [19/50], Loss: 0.1246\n",
      "Epoch [20/50], Loss: 0.1236\n",
      "Epoch [21/50], Loss: 0.1202\n",
      "Epoch [22/50], Loss: 0.1225\n",
      "Epoch [23/50], Loss: 0.1221\n",
      "Epoch [24/50], Loss: 0.1230\n",
      "Epoch [25/50], Loss: 0.1219\n",
      "Epoch [26/50], Loss: 0.1210\n",
      "Epoch [27/50], Loss: 0.1200\n",
      "Epoch [28/50], Loss: 0.1225\n",
      "Epoch [29/50], Loss: 0.1222\n",
      "Epoch [30/50], Loss: 0.1221\n",
      "Epoch [31/50], Loss: 0.1228\n",
      "Epoch [32/50], Loss: 0.1214\n",
      "Epoch [33/50], Loss: 0.1242\n",
      "Epoch [34/50], Loss: 0.1210\n",
      "Epoch [35/50], Loss: 0.1210\n",
      "Epoch [36/50], Loss: 0.1243\n",
      "Epoch [37/50], Loss: 0.1199\n",
      "Epoch [38/50], Loss: 0.1208\n",
      "Epoch [39/50], Loss: 0.1212\n",
      "Epoch [40/50], Loss: 0.1205\n",
      "Epoch [41/50], Loss: 0.1207\n",
      "Epoch [42/50], Loss: 0.1206\n",
      "Epoch [43/50], Loss: 0.1193\n",
      "Epoch [44/50], Loss: 0.1191\n",
      "Epoch [45/50], Loss: 0.1184\n",
      "Epoch [46/50], Loss: 0.1198\n",
      "Epoch [47/50], Loss: 0.1198\n",
      "Epoch [48/50], Loss: 0.1195\n",
      "Epoch [49/50], Loss: 0.1166\n",
      "Epoch [50/50], Loss: 0.1202\n"
     ]
    }
   ],
   "source": [
    "# Now, update model weights and biases using the best hyperparameters from Optuna\n",
    "best_params = study.best_trial.params\n",
    "best_model = create_model(X.shape[1], best_params[\"n_units1\"], best_params[\"n_units2\"], best_params[\"dropout_rate\"])\n",
    "criterion = nn.BCEWithLogitsLoss()  # Use BCEWithLogitsLoss for numerical stability\n",
    "best_optimizer = optim.Adam(best_model.parameters(), lr=best_params[\"lr\"], weight_decay=best_params[\"weight_decay\"])\n",
    "\n",
    "# Training loop\n",
    "num_epochs = 50\n",
    "for epoch in range(num_epochs):\n",
    "    best_model.train()  # Set the model to training mode\n",
    "    total_loss = 0.0  # Initialize total loss for the epoch\n",
    "    \n",
    "    for data in train_loader:\n",
    "        features, labels = data\n",
    "        labels = labels.view(-1, 1)  # Ensure correct shape for binary targets\n",
    "\n",
    "        # Forward pass\n",
    "        outputs = best_model(features)\n",
    "        loss = criterion(outputs, labels)\n",
    "\n",
    "        # Backward pass and optimization step\n",
    "        best_optimizer.zero_grad()  # Reset gradients to zero\n",
    "        loss.backward()  # Backpropagate the loss\n",
    "        best_optimizer.step()  # Update model parameters\n",
    "        \n",
    "        # Accumulate the loss\n",
    "        total_loss += loss.item()\n",
    "    \n",
    "    # Calculate and print the average loss for this epoch\n",
    "    avg_loss = total_loss / len(train_loader)\n",
    "    print(f\"Epoch [{epoch + 1}/{num_epochs}], Loss: {avg_loss:.4f}\")\n",
    "\n",
    "# After training, you can evaluate the model on the validation or test set as needed.\n",
    "\n"
   ]
  },
  {
   "cell_type": "code",
   "execution_count": 98,
   "metadata": {},
   "outputs": [
    {
     "name": "stdout",
     "output_type": "stream",
     "text": [
      "Epoch [1/50] - Train Loss: 0.2688, Validation Loss: 0.1448\n",
      "Epoch [2/50] - Train Loss: 0.1410, Validation Loss: 0.1321\n",
      "Epoch [3/50] - Train Loss: 0.1357, Validation Loss: 0.1343\n",
      "Epoch [4/50] - Train Loss: 0.1339, Validation Loss: 0.1288\n",
      "Epoch [5/50] - Train Loss: 0.1346, Validation Loss: 0.1264\n",
      "Epoch [6/50] - Train Loss: 0.1295, Validation Loss: 0.1252\n",
      "Epoch [7/50] - Train Loss: 0.1292, Validation Loss: 0.1260\n",
      "Epoch [8/50] - Train Loss: 0.1311, Validation Loss: 0.1219\n",
      "Epoch [9/50] - Train Loss: 0.1282, Validation Loss: 0.1212\n",
      "Epoch [10/50] - Train Loss: 0.1271, Validation Loss: 0.1245\n",
      "Epoch [11/50] - Train Loss: 0.1247, Validation Loss: 0.1279\n",
      "Epoch [12/50] - Train Loss: 0.1275, Validation Loss: 0.1282\n",
      "Epoch [13/50] - Train Loss: 0.1235, Validation Loss: 0.1211\n",
      "Epoch [14/50] - Train Loss: 0.1246, Validation Loss: 0.1207\n",
      "Epoch [15/50] - Train Loss: 0.1262, Validation Loss: 0.1199\n",
      "Epoch [16/50] - Train Loss: 0.1231, Validation Loss: 0.1211\n",
      "Epoch [17/50] - Train Loss: 0.1222, Validation Loss: 0.1213\n",
      "Epoch [18/50] - Train Loss: 0.1239, Validation Loss: 0.1233\n",
      "Epoch [19/50] - Train Loss: 0.1243, Validation Loss: 0.1193\n",
      "Epoch [20/50] - Train Loss: 0.1230, Validation Loss: 0.1201\n",
      "Epoch [21/50] - Train Loss: 0.1236, Validation Loss: 0.1263\n",
      "Epoch [22/50] - Train Loss: 0.1218, Validation Loss: 0.1227\n",
      "Epoch [23/50] - Train Loss: 0.1242, Validation Loss: 0.1249\n",
      "Epoch [24/50] - Train Loss: 0.1242, Validation Loss: 0.1218\n",
      "Epoch [25/50] - Train Loss: 0.1210, Validation Loss: 0.1205\n",
      "Epoch [26/50] - Train Loss: 0.1221, Validation Loss: 0.1214\n",
      "Epoch [27/50] - Train Loss: 0.1229, Validation Loss: 0.1204\n",
      "Epoch [28/50] - Train Loss: 0.1202, Validation Loss: 0.1220\n",
      "Epoch [29/50] - Train Loss: 0.1235, Validation Loss: 0.1187\n",
      "Epoch [30/50] - Train Loss: 0.1222, Validation Loss: 0.1261\n",
      "Epoch [31/50] - Train Loss: 0.1217, Validation Loss: 0.1219\n",
      "Epoch [32/50] - Train Loss: 0.1217, Validation Loss: 0.1218\n",
      "Epoch [33/50] - Train Loss: 0.1205, Validation Loss: 0.1213\n",
      "Epoch [34/50] - Train Loss: 0.1235, Validation Loss: 0.1226\n",
      "Epoch [35/50] - Train Loss: 0.1200, Validation Loss: 0.1248\n",
      "Epoch [36/50] - Train Loss: 0.1234, Validation Loss: 0.1232\n",
      "Epoch [37/50] - Train Loss: 0.1195, Validation Loss: 0.1246\n",
      "Epoch [38/50] - Train Loss: 0.1193, Validation Loss: 0.1209\n",
      "Epoch [39/50] - Train Loss: 0.1204, Validation Loss: 0.1257\n",
      "Epoch [40/50] - Train Loss: 0.1202, Validation Loss: 0.1220\n",
      "Epoch [41/50] - Train Loss: 0.1212, Validation Loss: 0.1226\n",
      "Epoch [42/50] - Train Loss: 0.1201, Validation Loss: 0.1224\n",
      "Epoch [43/50] - Train Loss: 0.1213, Validation Loss: 0.1268\n",
      "Epoch [44/50] - Train Loss: 0.1215, Validation Loss: 0.1235\n",
      "Epoch [45/50] - Train Loss: 0.1212, Validation Loss: 0.1262\n",
      "Epoch [46/50] - Train Loss: 0.1232, Validation Loss: 0.1216\n",
      "Epoch [47/50] - Train Loss: 0.1203, Validation Loss: 0.1230\n",
      "Epoch [48/50] - Train Loss: 0.1219, Validation Loss: 0.1198\n",
      "Epoch [49/50] - Train Loss: 0.1227, Validation Loss: 0.1260\n",
      "Epoch [50/50] - Train Loss: 0.1204, Validation Loss: 0.1198\n"
     ]
    },
    {
     "data": {
      "image/png": "[encoded data removed]",
      "text/plain": [
       "<Figure size 1200x600 with 1 Axes>"
      ]
     },
     "metadata": {},
     "output_type": "display_data"
    },
    {
     "name": "stdout",
     "output_type": "stream",
     "text": [
      "Test Set Performance: Log Loss: 0.1156, AUC: 0.8874, Brier Score: 0.0307\n"
     ]
    }
   ],
   "source": [
    "# Function to evaluate the model on a dataset (train, validation, or test)\n",
    "def evaluate_model(model, data_loader, criterion):\n",
    "    model.eval()\n",
    "    total_loss = 0.0\n",
    "    probs = []\n",
    "    labels = []\n",
    "    \n",
    "    with torch.no_grad():\n",
    "        for features, label in data_loader:\n",
    "            label = label.view(-1, 1)  # Ensure correct shape\n",
    "            output = model(features)\n",
    "            total_loss += criterion(output, label).item()  # Accumulate loss\n",
    "            probs.append(torch.sigmoid(output).cpu().numpy())  # Convert logits to probabilities\n",
    "            labels.append(label.cpu().numpy())\n",
    "\n",
    "    avg_loss = total_loss / len(data_loader)\n",
    "    probs = np.concatenate(probs)\n",
    "    labels = np.concatenate(labels)\n",
    "    \n",
    "    return avg_loss, probs, labels\n",
    "\n",
    "# Get best parameters from Optuna and create a model\n",
    "best_params = study.best_trial.params\n",
    "model = create_model(X.shape[1], best_params[\"n_units1\"], best_params[\"n_units2\"], best_params[\"dropout_rate\"])\n",
    "optimizer = optim.Adam(model.parameters(), lr=best_params[\"lr\"], weight_decay=best_params[\"weight_decay\"])\n",
    "criterion = nn.BCEWithLogitsLoss()\n",
    "num_epochs = 50\n",
    "\n",
    "# Lists to track performance\n",
    "train_losses = []\n",
    "val_losses = []\n",
    "\n",
    "# Train the model with the best parameters\n",
    "for epoch in range(num_epochs):\n",
    "    avg_train_loss = train_one_epoch(model, train_loader, optimizer, criterion)\n",
    "    train_losses.append(avg_train_loss)\n",
    "\n",
    "    # Validate the model\n",
    "    avg_val_loss, val_probs, val_labels = validate_model(model, val_loader, criterion)\n",
    "    val_losses.append(avg_val_loss)\n",
    "\n",
    "    # Print average losses for this epoch\n",
    "    print(f\"Epoch [{epoch + 1}/{num_epochs}] - Train Loss: {avg_train_loss:.4f}, Validation Loss: {avg_val_loss:.4f}\")\n",
    "\n",
    "# Plot training and validation loss\n",
    "plot_losses(train_losses, val_losses, num_epochs)\n",
    "\n",
    "# Evaluate the model on the test set using the evaluate_model function\n",
    "test_log_loss, test_probs, test_labels = evaluate_model(model, test_loader, criterion)\n",
    "\n",
    "# Calculate performance metrics on the test set\n",
    "test_auc = roc_auc_score(test_labels, test_probs)\n",
    "test_brier = brier_score_loss(test_labels, test_probs)\n",
    "\n",
    "print(f\"Test Set Performance: Log Loss: {test_log_loss:.4f}, AUC: {test_auc:.4f}, Brier Score: {test_brier:.4f}\")\n"
   ]
  },
  {
   "cell_type": "code",
   "execution_count": 2,
   "metadata": {},
   "outputs": [
    {
     "ename": "NameError",
     "evalue": "name 'torch' is not defined",
     "output_type": "error",
     "traceback": [
      "\u001b[0;31m---------------------------------------------------------------------------\u001b[0m",
      "\u001b[0;31mNameError\u001b[0m                                 Traceback (most recent call last)",
      "Cell \u001b[0;32mIn[2], line 2\u001b[0m\n\u001b[1;32m      1\u001b[0m \u001b[38;5;66;03m# Step 1: Convert X_final_test to tensor and create DataLoader for the test set\u001b[39;00m\n\u001b[0;32m----> 2\u001b[0m test_features \u001b[38;5;241m=\u001b[39m \u001b[43mtorch\u001b[49m\u001b[38;5;241m.\u001b[39mtensor(X_final_test\u001b[38;5;241m.\u001b[39mto_numpy())\u001b[38;5;241m.\u001b[39mfloat()\n\u001b[1;32m      3\u001b[0m test_dataset \u001b[38;5;241m=\u001b[39m TensorDataset(test_features)  \u001b[38;5;66;03m# If you don't have labels, you can use just features\u001b[39;00m\n\u001b[1;32m      4\u001b[0m test_loader \u001b[38;5;241m=\u001b[39m DataLoader(test_dataset, batch_size\u001b[38;5;241m=\u001b[39m\u001b[38;5;241m4\u001b[39m, shuffle\u001b[38;5;241m=\u001b[39m\u001b[38;5;28;01mFalse\u001b[39;00m)\n",
      "\u001b[0;31mNameError\u001b[0m: name 'torch' is not defined"
     ]
    }
   ],
   "source": [
    "# Step 1: Convert X_final_test to tensor and create DataLoader for the test set\n",
    "test_features = torch.tensor(X_final_test.to_numpy()).float()\n",
    "test_dataset = TensorDataset(test_features)  # If you don't have labels, you can use just features\n",
    "test_loader = DataLoader(test_dataset, batch_size=4, shuffle=False)\n",
    "\n",
    "# Step 2: Set model to evaluation mode and make predictions\n",
    "model.eval()\n",
    "predictions = []\n",
    "\n",
    "with torch.no_grad():\n",
    "    for data in test_loader:\n",
    "        features = data[0]  # Extract features from the dataset\n",
    "        outputs = model(features)\n",
    "        predictions.extend(outputs.cpu().numpy())  # Collect predictions as numpy array\n",
    "\n",
    "# Step 3: Convert predictions to numpy array and add to DataFrame\n",
    "predictions = np.array(predictions).flatten()"
   ]
  },
  {
   "cell_type": "code",
   "execution_count": null,
   "metadata": {},
   "outputs": [],
   "source": [
    "y_probs = model.predict_proba(X_test)\n",
    "print(\"Log Loss:\", log_loss(y_test, y_probs))\n",
    "print(\"Brier Score:\", brier_score_loss(y_test, y_probs))\n",
    "print(\"AUC-ROC:\", roc_auc_score(y_test, y_probs))"
   ]
  },
  {
   "cell_type": "code",
   "execution_count": null,
   "metadata": {},
   "outputs": [],
   "source": []
  },
  {
   "cell_type": "code",
   "execution_count": 211,
   "metadata": {},
   "outputs": [],
   "source": [
    "# X0 = filtered_data[[\"d\", \"r2\", \"min_MAF\", \"diff_MAF\", \"log10_distance\", \"error\"]]\n",
    "# y0 = filtered_data[\"error\"]\n",
    "# # Split the data into train and test using the same random_state and test_size as before\n",
    "# _, X0_test, _, _ = train_test_split(\n",
    "#     X0, y0, test_size=0.25, random_state=42, stratify=y\n",
    "# )"
   ]
  },
  {
   "cell_type": "code",
   "execution_count": 212,
   "metadata": {},
   "outputs": [
    {
     "data": {
      "text/html": [
       "<div>\n",
       "<style scoped>\n",
       "    .dataframe tbody tr th:only-of-type {\n",
       "        vertical-align: middle;\n",
       "    }\n",
       "\n",
       "    .dataframe tbody tr th {\n",
       "        vertical-align: top;\n",
       "    }\n",
       "\n",
       "    .dataframe thead th {\n",
       "        text-align: right;\n",
       "    }\n",
       "</style>\n",
       "<table border=\"1\" class=\"dataframe\">\n",
       "  <thead>\n",
       "    <tr style=\"text-align: right;\">\n",
       "      <th></th>\n",
       "      <th>d</th>\n",
       "      <th>r2</th>\n",
       "      <th>min_MAF</th>\n",
       "      <th>diff_MAF</th>\n",
       "      <th>log10_distance</th>\n",
       "      <th>error</th>\n",
       "      <th>NN_model4_pred</th>\n",
       "    </tr>\n",
       "  </thead>\n",
       "  <tbody>\n",
       "    <tr>\n",
       "      <th>3328</th>\n",
       "      <td>1.0</td>\n",
       "      <td>0.001</td>\n",
       "      <td>0.0010</td>\n",
       "      <td>0.1402</td>\n",
       "      <td>1.716003</td>\n",
       "      <td>0.0</td>\n",
       "      <td>0.042982</td>\n",
       "    </tr>\n",
       "    <tr>\n",
       "      <th>14002</th>\n",
       "      <td>1.0</td>\n",
       "      <td>0.057</td>\n",
       "      <td>0.1561</td>\n",
       "      <td>0.0497</td>\n",
       "      <td>2.471292</td>\n",
       "      <td>0.0</td>\n",
       "      <td>0.020441</td>\n",
       "    </tr>\n",
       "    <tr>\n",
       "      <th>8269</th>\n",
       "      <td>0.2</td>\n",
       "      <td>0.033</td>\n",
       "      <td>0.0845</td>\n",
       "      <td>0.3111</td>\n",
       "      <td>4.856904</td>\n",
       "      <td>0.0</td>\n",
       "      <td>0.174293</td>\n",
       "    </tr>\n",
       "    <tr>\n",
       "      <th>6710</th>\n",
       "      <td>1.0</td>\n",
       "      <td>0.002</td>\n",
       "      <td>0.4076</td>\n",
       "      <td>0.0000</td>\n",
       "      <td>2.214844</td>\n",
       "      <td>0.0</td>\n",
       "      <td>0.001667</td>\n",
       "    </tr>\n",
       "    <tr>\n",
       "      <th>11897</th>\n",
       "      <td>1.0</td>\n",
       "      <td>0.068</td>\n",
       "      <td>0.0765</td>\n",
       "      <td>0.2883</td>\n",
       "      <td>2.648360</td>\n",
       "      <td>0.0</td>\n",
       "      <td>0.052889</td>\n",
       "    </tr>\n",
       "    <tr>\n",
       "      <th>...</th>\n",
       "      <td>...</td>\n",
       "      <td>...</td>\n",
       "      <td>...</td>\n",
       "      <td>...</td>\n",
       "      <td>...</td>\n",
       "      <td>...</td>\n",
       "      <td>...</td>\n",
       "    </tr>\n",
       "    <tr>\n",
       "      <th>10914</th>\n",
       "      <td>1.0</td>\n",
       "      <td>1.000</td>\n",
       "      <td>0.3728</td>\n",
       "      <td>0.0000</td>\n",
       "      <td>1.886491</td>\n",
       "      <td>0.0</td>\n",
       "      <td>0.000433</td>\n",
       "    </tr>\n",
       "    <tr>\n",
       "      <th>5080</th>\n",
       "      <td>1.0</td>\n",
       "      <td>0.613</td>\n",
       "      <td>0.1491</td>\n",
       "      <td>0.0557</td>\n",
       "      <td>2.737193</td>\n",
       "      <td>0.0</td>\n",
       "      <td>0.013221</td>\n",
       "    </tr>\n",
       "    <tr>\n",
       "      <th>2519</th>\n",
       "      <td>1.0</td>\n",
       "      <td>0.230</td>\n",
       "      <td>0.0497</td>\n",
       "      <td>0.2366</td>\n",
       "      <td>4.723850</td>\n",
       "      <td>0.0</td>\n",
       "      <td>0.129702</td>\n",
       "    </tr>\n",
       "    <tr>\n",
       "      <th>12044</th>\n",
       "      <td>1.0</td>\n",
       "      <td>0.037</td>\n",
       "      <td>0.0298</td>\n",
       "      <td>0.4026</td>\n",
       "      <td>2.957128</td>\n",
       "      <td>0.0</td>\n",
       "      <td>0.094741</td>\n",
       "    </tr>\n",
       "    <tr>\n",
       "      <th>8572</th>\n",
       "      <td>1.0</td>\n",
       "      <td>0.767</td>\n",
       "      <td>0.4523</td>\n",
       "      <td>0.0129</td>\n",
       "      <td>0.477121</td>\n",
       "      <td>0.0</td>\n",
       "      <td>0.000101</td>\n",
       "    </tr>\n",
       "  </tbody>\n",
       "</table>\n",
       "<p>4365 rows × 7 columns</p>\n",
       "</div>"
      ],
      "text/plain": [
       "         d     r2  min_MAF  diff_MAF  log10_distance  error  NN_model4_pred\n",
       "3328   1.0  0.001   0.0010    0.1402        1.716003    0.0        0.042982\n",
       "14002  1.0  0.057   0.1561    0.0497        2.471292    0.0        0.020441\n",
       "8269   0.2  0.033   0.0845    0.3111        4.856904    0.0        0.174293\n",
       "6710   1.0  0.002   0.4076    0.0000        2.214844    0.0        0.001667\n",
       "11897  1.0  0.068   0.0765    0.2883        2.648360    0.0        0.052889\n",
       "...    ...    ...      ...       ...             ...    ...             ...\n",
       "10914  1.0  1.000   0.3728    0.0000        1.886491    0.0        0.000433\n",
       "5080   1.0  0.613   0.1491    0.0557        2.737193    0.0        0.013221\n",
       "2519   1.0  0.230   0.0497    0.2366        4.723850    0.0        0.129702\n",
       "12044  1.0  0.037   0.0298    0.4026        2.957128    0.0        0.094741\n",
       "8572   1.0  0.767   0.4523    0.0129        0.477121    0.0        0.000101\n",
       "\n",
       "[4365 rows x 7 columns]"
      ]
     },
     "execution_count": 212,
     "metadata": {},
     "output_type": "execute_result"
    }
   ],
   "source": [
    "# X0_test['NN_model4_pred'] = predictions\n",
    "# X0_test"
   ]
  },
  {
   "cell_type": "code",
   "execution_count": 1,
   "metadata": {},
   "outputs": [
    {
     "ename": "NameError",
     "evalue": "name 'predictions' is not defined",
     "output_type": "error",
     "traceback": [
      "\u001b[0;31m---------------------------------------------------------------------------\u001b[0m",
      "\u001b[0;31mNameError\u001b[0m                                 Traceback (most recent call last)",
      "Cell \u001b[0;32mIn[1], line 1\u001b[0m\n\u001b[0;32m----> 1\u001b[0m X0_test[\u001b[38;5;124m'\u001b[39m\u001b[38;5;124mNN_model2_pred\u001b[39m\u001b[38;5;124m'\u001b[39m] \u001b[38;5;241m=\u001b[39m \u001b[43mpredictions\u001b[49m\n\u001b[1;32m      2\u001b[0m X0_test\n",
      "\u001b[0;31mNameError\u001b[0m: name 'predictions' is not defined"
     ]
    }
   ],
   "source": [
    "X0_test['NN_model2_pred'] = predictions\n",
    "X0_test"
   ]
  },
  {
   "cell_type": "code",
   "execution_count": 213,
   "metadata": {},
   "outputs": [
    {
     "name": "stdout",
     "output_type": "stream",
     "text": [
      "Model saved to /home/scarlett/github/Python/ipython_notebook/Coding/nn_model4\n"
     ]
    }
   ],
   "source": [
    "# # Save the model's state dictionary\n",
    "# model_path = \"/home/scarlett/github/Python/ipython_notebook/Coding/nn_model4\"  # Replace 'model_name' with your desired file name\n",
    "# torch.save(model.state_dict(), model_path)\n",
    "# print(f\"Model saved to {model_path}\")\n"
   ]
  },
  {
   "cell_type": "code",
   "execution_count": 226,
   "metadata": {},
   "outputs": [
    {
     "name": "stdout",
     "output_type": "stream",
     "text": [
      "Model saved to /home/scarlett/github/Python/ipython_notebook/Coding/nn_model3\n"
     ]
    }
   ],
   "source": [
    "# Save the model's state dictionary\n",
    "model_path = \"/home/scarlett/github/Python/ipython_notebook/Coding/nn_model3\"  # Replace 'model_name' with your desired file name\n",
    "torch.save(model.state_dict(), model_path)\n",
    "print(f\"Model saved to {model_path}\")"
   ]
  },
  {
   "cell_type": "code",
   "execution_count": 146,
   "metadata": {},
   "outputs": [
    {
     "name": "stdout",
     "output_type": "stream",
     "text": [
      "Model loaded and ready for predictions.\n"
     ]
    }
   ],
   "source": [
    "# Define the model architecture (the same as when you trained it)\n",
    "model = nn.Sequential(\n",
    "    nn.Linear(X.shape[1], n_units),  # Replace 'n_units' with the appropriate size\n",
    "    nn.ReLU(),\n",
    "    nn.Dropout(dropout_rate),       # Replace 'dropout_rate' with the appropriate value\n",
    "    nn.Linear(n_units, 1),\n",
    "    nn.Sigmoid()\n",
    ")\n",
    "\n",
    "# Load the model's state dictionary\n",
    "model.load_state_dict(torch.load(model_path))\n",
    "model.eval()  # Set the model to evaluation mode\n",
    "print(\"Model loaded and ready for predictions.\")\n"
   ]
  },
  {
   "cell_type": "code",
   "execution_count": null,
   "metadata": {},
   "outputs": [],
   "source": []
  }
 ],
 "metadata": {
  "kernelspec": {
   "display_name": "Python 3",
   "language": "python",
   "name": "python3"
  },
  "language_info": {
   "codemirror_mode": {
    "name": "ipython",
    "version": 3
   },
   "file_extension": ".py",
   "mimetype": "text/x-python",
   "name": "python",
   "nbconvert_exporter": "python",
   "pygments_lexer": "ipython3",
   "version": "3.10.12"
  }
 },
 "nbformat": 4,
 "nbformat_minor": 2
}
