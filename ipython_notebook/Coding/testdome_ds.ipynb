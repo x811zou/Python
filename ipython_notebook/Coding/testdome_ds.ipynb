{
 "cells": [
  {
   "cell_type": "code",
   "execution_count": 10,
   "metadata": {},
   "outputs": [],
   "source": [
    "import sys\n",
    "import numpy as np\n",
    "import pandas as pd\n",
    "import math\n",
    "import matplotlib.pyplot as plt\n",
    "import re\n",
    "from collections import deque\n",
    "import sklearn"
   ]
  },
  {
   "cell_type": "markdown",
   "metadata": {},
   "source": [
    "### count numbers less than a value from a sorted list"
   ]
  },
  {
   "cell_type": "code",
   "execution_count": 5,
   "metadata": {},
   "outputs": [
    {
     "name": "stdout",
     "output_type": "stream",
     "text": [
      "2\n",
      "2\n"
     ]
    }
   ],
   "source": [
    "def count_numbers(sorted_list, less_than):\n",
    "    '''\n",
    "    takes in a sorted list of unique integers and an integer less_than\n",
    "    counts the number of list elements that are less than the parameter less_than\n",
    "    '''\n",
    "    start = 0\n",
    "    end = len(sorted_list) -1\n",
    "    while start <= end:\n",
    "        mid = (start + end) // 2\n",
    "        \n",
    "        if sorted_list[mid] < less_than:\n",
    "            # Move the start to mid + 1 since we know elements before mid are valid\n",
    "            start = mid + 1\n",
    "        else:\n",
    "            # Move the end to mid - 1 since sorted_list[mid] is >= less_than\n",
    "            end = mid - 1\n",
    "\n",
    "    # At this point, 'start' will be the count of elements less than 'less_than'\n",
    "    return start\n",
    "\n",
    "if __name__ == \"__main__\":\n",
    "    sorted_list = [1, 3, 5, 7]\n",
    "    print(count_numbers(sorted_list, 4)) # should print 2\n",
    "    sorted_list = [1, 3, 4, 5, 7]\n",
    "    print(count_numbers(sorted_list, 4)) # should print 2"
   ]
  },
  {
   "cell_type": "markdown",
   "metadata": {},
   "source": [
    "### Reverse dictionary\n",
    "- Accepts a dict containing the file owner name for each file name\n",
    "- returns a dict containing a list of file names for each owner name, in any order"
   ]
  },
  {
   "cell_type": "code",
   "execution_count": 1,
   "metadata": {},
   "outputs": [
    {
     "name": "stdout",
     "output_type": "stream",
     "text": [
      "{'Randy': ['Input.txt', 'Output.txt'], 'Stan': ['Code.py']}\n"
     ]
    }
   ],
   "source": [
    "def group_by_owners(files):\n",
    "    new_dict = {}\n",
    "    for key, value in files.items():\n",
    "        if value in new_dict:\n",
    "            new_dict[value].append(key)\n",
    "        else:\n",
    "            new_dict[value] = [key]\n",
    "    return new_dict\n",
    "\n",
    "if __name__ == \"__main__\":    \n",
    "    files = {\n",
    "        'Input.txt': 'Randy',\n",
    "        'Code.py': 'Stan',\n",
    "        'Output.txt': 'Randy'\n",
    "    }   \n",
    "    print(group_by_owners(files))"
   ]
  },
  {
   "cell_type": "markdown",
   "metadata": {},
   "source": [
    "### Sliding window"
   ]
  },
  {
   "cell_type": "code",
   "execution_count": 4,
   "metadata": {},
   "outputs": [
    {
     "name": "stdout",
     "output_type": "stream",
     "text": [
      "[1, 0, 0, 5, 0, 0, 0, 3, 3, 0]\n"
     ]
    }
   ],
   "source": [
    "def simulate(entries):\n",
    "    \"\"\"\n",
    "    Simulate the malware behavior on the input entries.\n",
    "    \n",
    "    :param entries: (list(int)) The numerical record files\n",
    "    :returns: (list(int)) The record files after running the malware\n",
    "    Tl, -, -, X, -, -, -, Tr\n",
    "    \"\"\"\n",
    "    zero_idx = []\n",
    "    offset1 = 3  # constant offset for Tl and Tr relative to X\n",
    "    offset2 = 4\n",
    "\n",
    "    # First pass to find all the indices that need to be zeroed\n",
    "    for i in range(len(entries)): # 0-9\n",
    "        tl_index = i - offset1  # Calculate the index for Tl -3\n",
    "        tr_index = i + offset2  # Calculate the index for Tr 4\n",
    "        \n",
    "        should_zero = False\n",
    "\n",
    "        # If Tl is within bounds, check if it is greater than or equal to X\n",
    "        if tl_index >= 0 and entries[tl_index] >= entries[i]:\n",
    "            should_zero = True\n",
    "        \n",
    "        # If Tr is within bounds, check if it is greater than or equal to X\n",
    "        if tr_index < len(entries) and entries[tr_index] >= entries[i]:\n",
    "            should_zero = True\n",
    "\n",
    "        # If any condition is true, mark the index 'i' for zeroing\n",
    "        if should_zero:\n",
    "            zero_idx.append(i)\n",
    "\n",
    "    # Second pass to zero the identified positions\n",
    "    for idx in zero_idx:\n",
    "        entries[idx] = 0\n",
    "\n",
    "    return entries\n",
    "\n",
    "# Example usage\n",
    "records = [1, 2, 0, 5, 0, 2, 4, 3, 3, 3]\n",
    "print(simulate(records))\n",
    "\n",
    "# Expected output\n",
    "# [1, 0, 0, 5, 0, 0, 0, 3, 3, 0]"
   ]
  },
  {
   "cell_type": "markdown",
   "metadata": {},
   "source": [
    "### Linear Regression"
   ]
  },
  {
   "cell_type": "code",
   "execution_count": 15,
   "metadata": {},
   "outputs": [
    {
     "name": "stdout",
     "output_type": "stream",
     "text": [
      "250877.19298245612\n"
     ]
    }
   ],
   "source": [
    "import numpy as np\n",
    "from sklearn.linear_model import LinearRegression\n",
    "\n",
    "def desired_marketing_expenditure(marketing_expenditure, units_sold, desired_units_sold):\n",
    "    \"\"\"\n",
    "    :param marketing_expenditure: (list) A list of integers with the expenditure for each previous campaign.\n",
    "    :param units_sold: (list) A list of integers with the number of units sold for each previous campaign.\n",
    "    :param desired_units_sold: (integer) Target number of units to sell in the new campaign.\n",
    "    :returns: (float) Required amount of money to be invested.\n",
    "    \"\"\"\n",
    "    # Reshape data for sklearn\n",
    "    marketing_expenditure = np.array(marketing_expenditure).reshape(-1, 1)\n",
    "    units_sold = np.array(units_sold).reshape(-1, 1)\n",
    "\n",
    "    # Create and fit the linear regression model\n",
    "    model = LinearRegression()\n",
    "    model.fit(units_sold, marketing_expenditure)\n",
    "    \n",
    "    # Predict marketing expenditure for desired units sold\n",
    "    required_expenditure = model.predict(np.array([[desired_units_sold]]))\n",
    "    \n",
    "    return float(required_expenditure[0][0])\n",
    "\n",
    "# Example\n",
    "print(desired_marketing_expenditure(\n",
    "    [300000, 200000, 400000, 300000, 100000],\n",
    "    [60000, 50000, 90000, 80000, 30000],\n",
    "    60000))\n"
   ]
  },
  {
   "cell_type": "code",
   "execution_count": 18,
   "metadata": {},
   "outputs": [
    {
     "data": {
      "text/plain": [
       "array([[300000],\n",
       "       [200000],\n",
       "       [400000],\n",
       "       [300000],\n",
       "       [100000]])"
      ]
     },
     "execution_count": 18,
     "metadata": {},
     "output_type": "execute_result"
    }
   ],
   "source": [
    "a = [300000, 200000, 400000, 300000, 100000]\n",
    "y = np.array(a).reshape(-1, 1)\n",
    "y"
   ]
  },
  {
   "cell_type": "code",
   "execution_count": 17,
   "metadata": {},
   "outputs": [],
   "source": [
    "b=[60000, 50000, 90000, 80000, 30000]\n",
    "X = np.array(b).reshape(-1, 1)\n"
   ]
  },
  {
   "cell_type": "code",
   "execution_count": 14,
   "metadata": {},
   "outputs": [
    {
     "data": {
      "text/plain": [
       "250877.19298245612"
      ]
     },
     "execution_count": 14,
     "metadata": {},
     "output_type": "execute_result"
    }
   ],
   "source": [
    "# Create and fit the linear regression model\n",
    "model = LinearRegression()\n",
    "model.fit(X, y)\n",
    "\n",
    "# Predict marketing expenditure for desired units sold\n",
    "output = model.predict(np.array([[60000]]))\n",
    "float(output[0][0])"
   ]
  },
  {
   "cell_type": "markdown",
   "metadata": {},
   "source": [
    "### Modify dataframe in place"
   ]
  },
  {
   "cell_type": "code",
   "execution_count": 56,
   "metadata": {},
   "outputs": [
    {
     "name": "stdout",
     "output_type": "stream",
     "text": [
      "   Id        Login   Password\n",
      "0   1      JohnDoe  987340123\n",
      "1   2  AnnFranklin  187031122\n"
     ]
    }
   ],
   "source": [
    "import pandas as pd\n",
    "import numpy as np\n",
    "\n",
    "def login_table(id_name_verified, id_password):\n",
    "    \"\"\"\n",
    "    :param id_name_verified: (DataFrame) DataFrame with columns: Id, Login, Verified.   \n",
    "    :param id_password: (numpy.array) Two-dimensional NumPy array where each element\n",
    "                        is an array that contains: Id and Password\n",
    "    :returns: (None) The function should modify id_name_verified DataFrame in-place. \n",
    "              It should not return anything.\n",
    "    \"\"\"\n",
    "    # Drop 'Verified' column in place\n",
    "    id_name_verified.drop(['Verified'], axis=1, inplace=True)\n",
    "    \n",
    "    # Create a DataFrame from id_password array\n",
    "    df_password = pd.DataFrame(id_password, columns=['Id', 'Password'])\n",
    "\n",
    "\n",
    "    # Merge the original DataFrame with the password DataFrame in place\n",
    "    id_name_verified.set_index('Id', inplace=True)\n",
    "    df_password.set_index('Id', inplace=True)\n",
    "    \n",
    "    # Update id_name_verified with the 'Password' column\n",
    "    id_name_verified['Password'] = df_password['Password']\n",
    "\n",
    "    # Reset index if needed\n",
    "    id_name_verified.reset_index(inplace=True)\n",
    "    pass\n",
    "\n",
    "# Example usage\n",
    "id_name_verified = pd.DataFrame([[1, \"JohnDoe\", True], [2, \"AnnFranklin\", False]], columns=[\"Id\", \"Login\", \"Verified\"])\n",
    "id_password = np.array([[1, 987340123], [2, 187031122]], np.int32)\n",
    "\n",
    "login_table(id_name_verified, id_password)\n",
    "print(id_name_verified)\n",
    "\n"
   ]
  },
  {
   "cell_type": "markdown",
   "metadata": {},
   "source": [
    "### panda dataframe functions percentage changes and correlation "
   ]
  },
  {
   "cell_type": "code",
   "execution_count": 2,
   "metadata": {},
   "outputs": [
    {
     "name": "stdout",
     "output_type": "stream",
     "text": [
      "('FB', 'MSFT')\n"
     ]
    }
   ],
   "source": [
    "import pandas as pd\n",
    "import numpy as np\n",
    "\n",
    "def most_corr(prices):\n",
    "    \"\"\"\n",
    "    :param prices: (pandas.DataFrame) A dataframe containing each ticker's \n",
    "                   daily closing prices.\n",
    "    :returns: (container of strings) A container, containing the two tickers that \n",
    "              are the most highly (linearly) correlated by daily percentage change.\n",
    "    \"\"\"\n",
    "    # Calculate daily percentage change using pandas' vectorized function\n",
    "    percentage_changes = prices.pct_change().dropna()\n",
    "\n",
    "    # Compute the correlation matrix directly using pandas' corr() method\n",
    "    corr_matrix = percentage_changes.corr()\n",
    "\n",
    "    # Set the diagonal to 0 to avoid self-correlation\n",
    "    np.fill_diagonal(corr_matrix.values, 0)\n",
    "\n",
    "    # Find the indices of the maximum correlation value\n",
    "    idx = np.unravel_index(np.argmax(corr_matrix.values), corr_matrix.shape)\n",
    "    \n",
    "    # Return the two most correlated tickers\n",
    "    return prices.columns[idx[0]], prices.columns[idx[1]]\n",
    "\n",
    "\n",
    "#For example, the code below should print: ('FB', 'MSFT')\n",
    "print(most_corr(pd.DataFrame.from_dict({\n",
    "    'GOOG' : [\n",
    "        742.66, 738.40, 738.22, 741.16,\n",
    "        739.98, 747.28, 746.22, 741.80,\n",
    "        745.33, 741.29, 742.83, 750.50\n",
    "    ],\n",
    "    'FB' : [\n",
    "        108.40, 107.92, 109.64, 112.22,\n",
    "        109.57, 113.82, 114.03, 112.24,\n",
    "        114.68, 112.92, 113.28, 115.40\n",
    "    ],\n",
    "    'MSFT' : [\n",
    "        55.40, 54.63, 54.98, 55.88,\n",
    "        54.12, 59.16, 58.14, 55.97,\n",
    "        61.20, 57.14, 56.62, 59.25\n",
    "    ],\n",
    "    'AAPL' : [\n",
    "        106.00, 104.66, 104.87, 105.69,\n",
    "        104.22, 110.16, 109.84, 108.86,\n",
    "        110.14, 107.66, 108.08, 109.90\n",
    "    ]\n",
    "})))"
   ]
  },
  {
   "cell_type": "code",
   "execution_count": 3,
   "metadata": {},
   "outputs": [
    {
     "data": {
      "text/html": [
       "<div>\n",
       "<style scoped>\n",
       "    .dataframe tbody tr th:only-of-type {\n",
       "        vertical-align: middle;\n",
       "    }\n",
       "\n",
       "    .dataframe tbody tr th {\n",
       "        vertical-align: top;\n",
       "    }\n",
       "\n",
       "    .dataframe thead th {\n",
       "        text-align: right;\n",
       "    }\n",
       "</style>\n",
       "<table border=\"1\" class=\"dataframe\">\n",
       "  <thead>\n",
       "    <tr style=\"text-align: right;\">\n",
       "      <th></th>\n",
       "      <th>GOOG</th>\n",
       "      <th>FB</th>\n",
       "      <th>MSFT</th>\n",
       "      <th>AAPL</th>\n",
       "    </tr>\n",
       "  </thead>\n",
       "  <tbody>\n",
       "    <tr>\n",
       "      <th>0</th>\n",
       "      <td>742.66</td>\n",
       "      <td>108.40</td>\n",
       "      <td>55.40</td>\n",
       "      <td>106.00</td>\n",
       "    </tr>\n",
       "    <tr>\n",
       "      <th>1</th>\n",
       "      <td>738.40</td>\n",
       "      <td>107.92</td>\n",
       "      <td>54.63</td>\n",
       "      <td>104.66</td>\n",
       "    </tr>\n",
       "    <tr>\n",
       "      <th>2</th>\n",
       "      <td>738.22</td>\n",
       "      <td>109.64</td>\n",
       "      <td>54.98</td>\n",
       "      <td>104.87</td>\n",
       "    </tr>\n",
       "    <tr>\n",
       "      <th>3</th>\n",
       "      <td>741.16</td>\n",
       "      <td>112.22</td>\n",
       "      <td>55.88</td>\n",
       "      <td>105.69</td>\n",
       "    </tr>\n",
       "    <tr>\n",
       "      <th>4</th>\n",
       "      <td>739.98</td>\n",
       "      <td>109.57</td>\n",
       "      <td>54.12</td>\n",
       "      <td>104.22</td>\n",
       "    </tr>\n",
       "    <tr>\n",
       "      <th>5</th>\n",
       "      <td>747.28</td>\n",
       "      <td>113.82</td>\n",
       "      <td>59.16</td>\n",
       "      <td>110.16</td>\n",
       "    </tr>\n",
       "    <tr>\n",
       "      <th>6</th>\n",
       "      <td>746.22</td>\n",
       "      <td>114.03</td>\n",
       "      <td>58.14</td>\n",
       "      <td>109.84</td>\n",
       "    </tr>\n",
       "    <tr>\n",
       "      <th>7</th>\n",
       "      <td>741.80</td>\n",
       "      <td>112.24</td>\n",
       "      <td>55.97</td>\n",
       "      <td>108.86</td>\n",
       "    </tr>\n",
       "    <tr>\n",
       "      <th>8</th>\n",
       "      <td>745.33</td>\n",
       "      <td>114.68</td>\n",
       "      <td>61.20</td>\n",
       "      <td>110.14</td>\n",
       "    </tr>\n",
       "    <tr>\n",
       "      <th>9</th>\n",
       "      <td>741.29</td>\n",
       "      <td>112.92</td>\n",
       "      <td>57.14</td>\n",
       "      <td>107.66</td>\n",
       "    </tr>\n",
       "    <tr>\n",
       "      <th>10</th>\n",
       "      <td>742.83</td>\n",
       "      <td>113.28</td>\n",
       "      <td>56.62</td>\n",
       "      <td>108.08</td>\n",
       "    </tr>\n",
       "    <tr>\n",
       "      <th>11</th>\n",
       "      <td>750.50</td>\n",
       "      <td>115.40</td>\n",
       "      <td>59.25</td>\n",
       "      <td>109.90</td>\n",
       "    </tr>\n",
       "  </tbody>\n",
       "</table>\n",
       "</div>"
      ],
      "text/plain": [
       "      GOOG      FB   MSFT    AAPL\n",
       "0   742.66  108.40  55.40  106.00\n",
       "1   738.40  107.92  54.63  104.66\n",
       "2   738.22  109.64  54.98  104.87\n",
       "3   741.16  112.22  55.88  105.69\n",
       "4   739.98  109.57  54.12  104.22\n",
       "5   747.28  113.82  59.16  110.16\n",
       "6   746.22  114.03  58.14  109.84\n",
       "7   741.80  112.24  55.97  108.86\n",
       "8   745.33  114.68  61.20  110.14\n",
       "9   741.29  112.92  57.14  107.66\n",
       "10  742.83  113.28  56.62  108.08\n",
       "11  750.50  115.40  59.25  109.90"
      ]
     },
     "execution_count": 3,
     "metadata": {},
     "output_type": "execute_result"
    }
   ],
   "source": [
    "prices = pd.DataFrame.from_dict({\n",
    "    'GOOG' : [\n",
    "        742.66, 738.40, 738.22, 741.16,\n",
    "        739.98, 747.28, 746.22, 741.80,\n",
    "        745.33, 741.29, 742.83, 750.50\n",
    "    ],\n",
    "    'FB' : [\n",
    "        108.40, 107.92, 109.64, 112.22,\n",
    "        109.57, 113.82, 114.03, 112.24,\n",
    "        114.68, 112.92, 113.28, 115.40\n",
    "    ],\n",
    "    'MSFT' : [\n",
    "        55.40, 54.63, 54.98, 55.88,\n",
    "        54.12, 59.16, 58.14, 55.97,\n",
    "        61.20, 57.14, 56.62, 59.25\n",
    "    ],\n",
    "    'AAPL' : [\n",
    "        106.00, 104.66, 104.87, 105.69,\n",
    "        104.22, 110.16, 109.84, 108.86,\n",
    "        110.14, 107.66, 108.08, 109.90\n",
    "    ]\n",
    "})\n",
    "prices"
   ]
  },
  {
   "cell_type": "code",
   "execution_count": 5,
   "metadata": {},
   "outputs": [],
   "source": [
    "percentage_changes = prices.pct_change().dropna()"
   ]
  },
  {
   "cell_type": "code",
   "execution_count": 7,
   "metadata": {},
   "outputs": [
    {
     "data": {
      "text/html": [
       "<div>\n",
       "<style scoped>\n",
       "    .dataframe tbody tr th:only-of-type {\n",
       "        vertical-align: middle;\n",
       "    }\n",
       "\n",
       "    .dataframe tbody tr th {\n",
       "        vertical-align: top;\n",
       "    }\n",
       "\n",
       "    .dataframe thead th {\n",
       "        text-align: right;\n",
       "    }\n",
       "</style>\n",
       "<table border=\"1\" class=\"dataframe\">\n",
       "  <thead>\n",
       "    <tr style=\"text-align: right;\">\n",
       "      <th></th>\n",
       "      <th>GOOG</th>\n",
       "      <th>FB</th>\n",
       "      <th>MSFT</th>\n",
       "      <th>AAPL</th>\n",
       "    </tr>\n",
       "  </thead>\n",
       "  <tbody>\n",
       "    <tr>\n",
       "      <th>GOOG</th>\n",
       "      <td>1.000000</td>\n",
       "      <td>0.834381</td>\n",
       "      <td>0.847520</td>\n",
       "      <td>0.858727</td>\n",
       "    </tr>\n",
       "    <tr>\n",
       "      <th>FB</th>\n",
       "      <td>0.834381</td>\n",
       "      <td>1.000000</td>\n",
       "      <td>0.878943</td>\n",
       "      <td>0.872889</td>\n",
       "    </tr>\n",
       "    <tr>\n",
       "      <th>MSFT</th>\n",
       "      <td>0.847520</td>\n",
       "      <td>0.878943</td>\n",
       "      <td>1.000000</td>\n",
       "      <td>0.861793</td>\n",
       "    </tr>\n",
       "    <tr>\n",
       "      <th>AAPL</th>\n",
       "      <td>0.858727</td>\n",
       "      <td>0.872889</td>\n",
       "      <td>0.861793</td>\n",
       "      <td>1.000000</td>\n",
       "    </tr>\n",
       "  </tbody>\n",
       "</table>\n",
       "</div>"
      ],
      "text/plain": [
       "          GOOG        FB      MSFT      AAPL\n",
       "GOOG  1.000000  0.834381  0.847520  0.858727\n",
       "FB    0.834381  1.000000  0.878943  0.872889\n",
       "MSFT  0.847520  0.878943  1.000000  0.861793\n",
       "AAPL  0.858727  0.872889  0.861793  1.000000"
      ]
     },
     "execution_count": 7,
     "metadata": {},
     "output_type": "execute_result"
    }
   ],
   "source": [
    "corr_matrix = percentage_changes.corr()\n",
    "corr_matrix"
   ]
  },
  {
   "cell_type": "markdown",
   "metadata": {},
   "source": [
    "### Classifier"
   ]
  },
  {
   "cell_type": "code",
   "execution_count": 16,
   "metadata": {},
   "outputs": [
    {
     "name": "stdout",
     "output_type": "stream",
     "text": [
      "0.9777777777777777\n"
     ]
    }
   ],
   "source": [
    "import numpy as np\n",
    "from sklearn import datasets\n",
    "from sklearn.model_selection import train_test_split\n",
    "from sklearn import metrics\n",
    "from sklearn.tree import DecisionTreeClassifier\n",
    "\n",
    "def train_and_predict(train_input_features, train_outputs, prediction_features):\n",
    "    \"\"\"\n",
    "    :param train_input_features: (numpy.array) A two-dimensional NumPy array where each element\n",
    "                        is an array that contains: sepal length, sepal width, petal length, and petal width   \n",
    "    :param train_outputs: (numpy.array) A one-dimensional NumPy array where each element\n",
    "                        is a number representing the species of iris which is described in\n",
    "                        the same row of train_input_features. 0 represents Iris setosa,\n",
    "                        1 represents Iris versicolor, and 2 represents Iris virginica.\n",
    "    :param prediction_features: (numpy.array) A two-dimensional NumPy array where each element\n",
    "                        is an array that contains: sepal length, sepal width, petal length, and petal width\n",
    "    :returns: (list) The function should return an iterable (like list or numpy.ndarray) of the predicted \n",
    "                        iris species, one for each item in prediction_features\n",
    "    \"\"\"   \n",
    "    model = DecisionTreeClassifier()\n",
    "    model.fit(train_input_features, train_outputs)\n",
    "    y_pred = model.predict(prediction_features)\n",
    "    return y_pred\n",
    "\n",
    "iris = datasets.load_iris()\n",
    "X_train, X_test, y_train, y_test = train_test_split(iris.data, iris.target,\n",
    "                                                    test_size=0.3, random_state=0)\n",
    "\n",
    "y_pred = train_and_predict(X_train, y_train, X_test)\n",
    "if y_pred is not None:\n",
    "    print(metrics.accuracy_score(y_test, y_pred))"
   ]
  },
  {
   "cell_type": "code",
   "execution_count": 9,
   "metadata": {},
   "outputs": [
    {
     "data": {
      "text/plain": [
       "{'data': array([[5.1, 3.5, 1.4, 0.2],\n",
       "        [4.9, 3. , 1.4, 0.2],\n",
       "        [4.7, 3.2, 1.3, 0.2],\n",
       "        [4.6, 3.1, 1.5, 0.2],\n",
       "        [5. , 3.6, 1.4, 0.2],\n",
       "        [5.4, 3.9, 1.7, 0.4],\n",
       "        [4.6, 3.4, 1.4, 0.3],\n",
       "        [5. , 3.4, 1.5, 0.2],\n",
       "        [4.4, 2.9, 1.4, 0.2],\n",
       "        [4.9, 3.1, 1.5, 0.1],\n",
       "        [5.4, 3.7, 1.5, 0.2],\n",
       "        [4.8, 3.4, 1.6, 0.2],\n",
       "        [4.8, 3. , 1.4, 0.1],\n",
       "        [4.3, 3. , 1.1, 0.1],\n",
       "        [5.8, 4. , 1.2, 0.2],\n",
       "        [5.7, 4.4, 1.5, 0.4],\n",
       "        [5.4, 3.9, 1.3, 0.4],\n",
       "        [5.1, 3.5, 1.4, 0.3],\n",
       "        [5.7, 3.8, 1.7, 0.3],\n",
       "        [5.1, 3.8, 1.5, 0.3],\n",
       "        [5.4, 3.4, 1.7, 0.2],\n",
       "        [5.1, 3.7, 1.5, 0.4],\n",
       "        [4.6, 3.6, 1. , 0.2],\n",
       "        [5.1, 3.3, 1.7, 0.5],\n",
       "        [4.8, 3.4, 1.9, 0.2],\n",
       "        [5. , 3. , 1.6, 0.2],\n",
       "        [5. , 3.4, 1.6, 0.4],\n",
       "        [5.2, 3.5, 1.5, 0.2],\n",
       "        [5.2, 3.4, 1.4, 0.2],\n",
       "        [4.7, 3.2, 1.6, 0.2],\n",
       "        [4.8, 3.1, 1.6, 0.2],\n",
       "        [5.4, 3.4, 1.5, 0.4],\n",
       "        [5.2, 4.1, 1.5, 0.1],\n",
       "        [5.5, 4.2, 1.4, 0.2],\n",
       "        [4.9, 3.1, 1.5, 0.2],\n",
       "        [5. , 3.2, 1.2, 0.2],\n",
       "        [5.5, 3.5, 1.3, 0.2],\n",
       "        [4.9, 3.6, 1.4, 0.1],\n",
       "        [4.4, 3. , 1.3, 0.2],\n",
       "        [5.1, 3.4, 1.5, 0.2],\n",
       "        [5. , 3.5, 1.3, 0.3],\n",
       "        [4.5, 2.3, 1.3, 0.3],\n",
       "        [4.4, 3.2, 1.3, 0.2],\n",
       "        [5. , 3.5, 1.6, 0.6],\n",
       "        [5.1, 3.8, 1.9, 0.4],\n",
       "        [4.8, 3. , 1.4, 0.3],\n",
       "        [5.1, 3.8, 1.6, 0.2],\n",
       "        [4.6, 3.2, 1.4, 0.2],\n",
       "        [5.3, 3.7, 1.5, 0.2],\n",
       "        [5. , 3.3, 1.4, 0.2],\n",
       "        [7. , 3.2, 4.7, 1.4],\n",
       "        [6.4, 3.2, 4.5, 1.5],\n",
       "        [6.9, 3.1, 4.9, 1.5],\n",
       "        [5.5, 2.3, 4. , 1.3],\n",
       "        [6.5, 2.8, 4.6, 1.5],\n",
       "        [5.7, 2.8, 4.5, 1.3],\n",
       "        [6.3, 3.3, 4.7, 1.6],\n",
       "        [4.9, 2.4, 3.3, 1. ],\n",
       "        [6.6, 2.9, 4.6, 1.3],\n",
       "        [5.2, 2.7, 3.9, 1.4],\n",
       "        [5. , 2. , 3.5, 1. ],\n",
       "        [5.9, 3. , 4.2, 1.5],\n",
       "        [6. , 2.2, 4. , 1. ],\n",
       "        [6.1, 2.9, 4.7, 1.4],\n",
       "        [5.6, 2.9, 3.6, 1.3],\n",
       "        [6.7, 3.1, 4.4, 1.4],\n",
       "        [5.6, 3. , 4.5, 1.5],\n",
       "        [5.8, 2.7, 4.1, 1. ],\n",
       "        [6.2, 2.2, 4.5, 1.5],\n",
       "        [5.6, 2.5, 3.9, 1.1],\n",
       "        [5.9, 3.2, 4.8, 1.8],\n",
       "        [6.1, 2.8, 4. , 1.3],\n",
       "        [6.3, 2.5, 4.9, 1.5],\n",
       "        [6.1, 2.8, 4.7, 1.2],\n",
       "        [6.4, 2.9, 4.3, 1.3],\n",
       "        [6.6, 3. , 4.4, 1.4],\n",
       "        [6.8, 2.8, 4.8, 1.4],\n",
       "        [6.7, 3. , 5. , 1.7],\n",
       "        [6. , 2.9, 4.5, 1.5],\n",
       "        [5.7, 2.6, 3.5, 1. ],\n",
       "        [5.5, 2.4, 3.8, 1.1],\n",
       "        [5.5, 2.4, 3.7, 1. ],\n",
       "        [5.8, 2.7, 3.9, 1.2],\n",
       "        [6. , 2.7, 5.1, 1.6],\n",
       "        [5.4, 3. , 4.5, 1.5],\n",
       "        [6. , 3.4, 4.5, 1.6],\n",
       "        [6.7, 3.1, 4.7, 1.5],\n",
       "        [6.3, 2.3, 4.4, 1.3],\n",
       "        [5.6, 3. , 4.1, 1.3],\n",
       "        [5.5, 2.5, 4. , 1.3],\n",
       "        [5.5, 2.6, 4.4, 1.2],\n",
       "        [6.1, 3. , 4.6, 1.4],\n",
       "        [5.8, 2.6, 4. , 1.2],\n",
       "        [5. , 2.3, 3.3, 1. ],\n",
       "        [5.6, 2.7, 4.2, 1.3],\n",
       "        [5.7, 3. , 4.2, 1.2],\n",
       "        [5.7, 2.9, 4.2, 1.3],\n",
       "        [6.2, 2.9, 4.3, 1.3],\n",
       "        [5.1, 2.5, 3. , 1.1],\n",
       "        [5.7, 2.8, 4.1, 1.3],\n",
       "        [6.3, 3.3, 6. , 2.5],\n",
       "        [5.8, 2.7, 5.1, 1.9],\n",
       "        [7.1, 3. , 5.9, 2.1],\n",
       "        [6.3, 2.9, 5.6, 1.8],\n",
       "        [6.5, 3. , 5.8, 2.2],\n",
       "        [7.6, 3. , 6.6, 2.1],\n",
       "        [4.9, 2.5, 4.5, 1.7],\n",
       "        [7.3, 2.9, 6.3, 1.8],\n",
       "        [6.7, 2.5, 5.8, 1.8],\n",
       "        [7.2, 3.6, 6.1, 2.5],\n",
       "        [6.5, 3.2, 5.1, 2. ],\n",
       "        [6.4, 2.7, 5.3, 1.9],\n",
       "        [6.8, 3. , 5.5, 2.1],\n",
       "        [5.7, 2.5, 5. , 2. ],\n",
       "        [5.8, 2.8, 5.1, 2.4],\n",
       "        [6.4, 3.2, 5.3, 2.3],\n",
       "        [6.5, 3. , 5.5, 1.8],\n",
       "        [7.7, 3.8, 6.7, 2.2],\n",
       "        [7.7, 2.6, 6.9, 2.3],\n",
       "        [6. , 2.2, 5. , 1.5],\n",
       "        [6.9, 3.2, 5.7, 2.3],\n",
       "        [5.6, 2.8, 4.9, 2. ],\n",
       "        [7.7, 2.8, 6.7, 2. ],\n",
       "        [6.3, 2.7, 4.9, 1.8],\n",
       "        [6.7, 3.3, 5.7, 2.1],\n",
       "        [7.2, 3.2, 6. , 1.8],\n",
       "        [6.2, 2.8, 4.8, 1.8],\n",
       "        [6.1, 3. , 4.9, 1.8],\n",
       "        [6.4, 2.8, 5.6, 2.1],\n",
       "        [7.2, 3. , 5.8, 1.6],\n",
       "        [7.4, 2.8, 6.1, 1.9],\n",
       "        [7.9, 3.8, 6.4, 2. ],\n",
       "        [6.4, 2.8, 5.6, 2.2],\n",
       "        [6.3, 2.8, 5.1, 1.5],\n",
       "        [6.1, 2.6, 5.6, 1.4],\n",
       "        [7.7, 3. , 6.1, 2.3],\n",
       "        [6.3, 3.4, 5.6, 2.4],\n",
       "        [6.4, 3.1, 5.5, 1.8],\n",
       "        [6. , 3. , 4.8, 1.8],\n",
       "        [6.9, 3.1, 5.4, 2.1],\n",
       "        [6.7, 3.1, 5.6, 2.4],\n",
       "        [6.9, 3.1, 5.1, 2.3],\n",
       "        [5.8, 2.7, 5.1, 1.9],\n",
       "        [6.8, 3.2, 5.9, 2.3],\n",
       "        [6.7, 3.3, 5.7, 2.5],\n",
       "        [6.7, 3. , 5.2, 2.3],\n",
       "        [6.3, 2.5, 5. , 1.9],\n",
       "        [6.5, 3. , 5.2, 2. ],\n",
       "        [6.2, 3.4, 5.4, 2.3],\n",
       "        [5.9, 3. , 5.1, 1.8]]),\n",
       " 'target': array([0, 0, 0, 0, 0, 0, 0, 0, 0, 0, 0, 0, 0, 0, 0, 0, 0, 0, 0, 0, 0, 0,\n",
       "        0, 0, 0, 0, 0, 0, 0, 0, 0, 0, 0, 0, 0, 0, 0, 0, 0, 0, 0, 0, 0, 0,\n",
       "        0, 0, 0, 0, 0, 0, 1, 1, 1, 1, 1, 1, 1, 1, 1, 1, 1, 1, 1, 1, 1, 1,\n",
       "        1, 1, 1, 1, 1, 1, 1, 1, 1, 1, 1, 1, 1, 1, 1, 1, 1, 1, 1, 1, 1, 1,\n",
       "        1, 1, 1, 1, 1, 1, 1, 1, 1, 1, 1, 1, 2, 2, 2, 2, 2, 2, 2, 2, 2, 2,\n",
       "        2, 2, 2, 2, 2, 2, 2, 2, 2, 2, 2, 2, 2, 2, 2, 2, 2, 2, 2, 2, 2, 2,\n",
       "        2, 2, 2, 2, 2, 2, 2, 2, 2, 2, 2, 2, 2, 2, 2, 2, 2, 2]),\n",
       " 'frame': None,\n",
       " 'target_names': array(['setosa', 'versicolor', 'virginica'], dtype='<U10'),\n",
       " 'DESCR': '.. _iris_dataset:\\n\\nIris plants dataset\\n--------------------\\n\\n**Data Set Characteristics:**\\n\\n    :Number of Instances: 150 (50 in each of three classes)\\n    :Number of Attributes: 4 numeric, predictive attributes and the class\\n    :Attribute Information:\\n        - sepal length in cm\\n        - sepal width in cm\\n        - petal length in cm\\n        - petal width in cm\\n        - class:\\n                - Iris-Setosa\\n                - Iris-Versicolour\\n                - Iris-Virginica\\n                \\n    :Summary Statistics:\\n\\n    ============== ==== ==== ======= ===== ====================\\n                    Min  Max   Mean    SD   Class Correlation\\n    ============== ==== ==== ======= ===== ====================\\n    sepal length:   4.3  7.9   5.84   0.83    0.7826\\n    sepal width:    2.0  4.4   3.05   0.43   -0.4194\\n    petal length:   1.0  6.9   3.76   1.76    0.9490  (high!)\\n    petal width:    0.1  2.5   1.20   0.76    0.9565  (high!)\\n    ============== ==== ==== ======= ===== ====================\\n\\n    :Missing Attribute Values: None\\n    :Class Distribution: 33.3% for each of 3 classes.\\n    :Creator: R.A. Fisher\\n    :Donor: Michael Marshall (MARSHALL%PLU@io.arc.nasa.gov)\\n    :Date: July, 1988\\n\\nThe famous Iris database, first used by Sir R.A. Fisher. The dataset is taken\\nfrom Fisher\\'s paper. Note that it\\'s the same as in R, but not as in the UCI\\nMachine Learning Repository, which has two wrong data points.\\n\\nThis is perhaps the best known database to be found in the\\npattern recognition literature.  Fisher\\'s paper is a classic in the field and\\nis referenced frequently to this day.  (See Duda & Hart, for example.)  The\\ndata set contains 3 classes of 50 instances each, where each class refers to a\\ntype of iris plant.  One class is linearly separable from the other 2; the\\nlatter are NOT linearly separable from each other.\\n\\n.. topic:: References\\n\\n   - Fisher, R.A. \"The use of multiple measurements in taxonomic problems\"\\n     Annual Eugenics, 7, Part II, 179-188 (1936); also in \"Contributions to\\n     Mathematical Statistics\" (John Wiley, NY, 1950).\\n   - Duda, R.O., & Hart, P.E. (1973) Pattern Classification and Scene Analysis.\\n     (Q327.D83) John Wiley & Sons.  ISBN 0-471-22361-1.  See page 218.\\n   - Dasarathy, B.V. (1980) \"Nosing Around the Neighborhood: A New System\\n     Structure and Classification Rule for Recognition in Partially Exposed\\n     Environments\".  IEEE Transactions on Pattern Analysis and Machine\\n     Intelligence, Vol. PAMI-2, No. 1, 67-71.\\n   - Gates, G.W. (1972) \"The Reduced Nearest Neighbor Rule\".  IEEE Transactions\\n     on Information Theory, May 1972, 431-433.\\n   - See also: 1988 MLC Proceedings, 54-64.  Cheeseman et al\"s AUTOCLASS II\\n     conceptual clustering system finds 3 classes in the data.\\n   - Many, many more ...',\n",
       " 'feature_names': ['sepal length (cm)',\n",
       "  'sepal width (cm)',\n",
       "  'petal length (cm)',\n",
       "  'petal width (cm)'],\n",
       " 'filename': 'iris.csv',\n",
       " 'data_module': 'sklearn.datasets.data'}"
      ]
     },
     "execution_count": 9,
     "metadata": {},
     "output_type": "execute_result"
    }
   ],
   "source": [
    "from sklearn.datasets import load_iris\n",
    "import pandas as pd\n",
    "\n",
    "# Load the Iris dataset\n",
    "iris = load_iris()\n",
    "iris"
   ]
  },
  {
   "cell_type": "code",
   "execution_count": null,
   "metadata": {},
   "outputs": [],
   "source": []
  },
  {
   "cell_type": "code",
   "execution_count": 13,
   "metadata": {},
   "outputs": [],
   "source": [
    "X_train, X_test, y_train, y_test = train_test_split(iris.data, iris.target,\n",
    "                                                    test_size=0.3, random_state=0)\n"
   ]
  },
  {
   "cell_type": "code",
   "execution_count": 15,
   "metadata": {},
   "outputs": [
    {
     "data": {
      "text/plain": [
       "array([1, 2, 2, 2, 2, 1, 2, 1, 1, 2, 2, 2, 2, 1, 2, 1, 0, 2, 1, 1, 1, 1,\n",
       "       2, 0, 0, 2, 1, 0, 0, 1, 0, 2, 1, 0, 1, 2, 1, 0, 2, 2, 2, 2, 0, 0,\n",
       "       2, 2, 0, 2, 0, 2, 2, 0, 0, 2, 0, 0, 0, 1, 2, 2, 0, 0, 0, 1, 1, 0,\n",
       "       0, 1, 0, 2, 1, 2, 1, 0, 2, 0, 2, 0, 0, 2, 0, 2, 1, 1, 1, 2, 2, 1,\n",
       "       1, 0, 1, 2, 2, 0, 1, 1, 1, 1, 0, 0, 0, 2, 1, 2, 0])"
      ]
     },
     "execution_count": 15,
     "metadata": {},
     "output_type": "execute_result"
    }
   ],
   "source": [
    "y_train"
   ]
  },
  {
   "cell_type": "code",
   "execution_count": 1,
   "metadata": {},
   "outputs": [],
   "source": [
    "import pandas as pd\n",
    "import numpy as np\n",
    "\n",
    "# Load the data (replace with actual file loading if needed)\n",
    "data = \"\"\"TRUE,91\n",
    "TRUE,23\n",
    "TRUE,76\n",
    "FALSE,48\n",
    "FALSE,36\n",
    "FALSE,36\n",
    "TRUE,92\n",
    "TRUE,88\n",
    "TRUE,51\n",
    "FALSE,10\n",
    "FALSE,28\n",
    "FALSE,62\n",
    "TRUE,75\n",
    "TRUE,80\n",
    "TRUE,54\n",
    "FALSE,72\n",
    "FALSE,22\n",
    "FALSE,50\n",
    "FALSE,12\n",
    "TRUE,29\n",
    "TRUE,59\n",
    "TRUE,78\n",
    "FALSE,32\n",
    "TRUE,93\"\"\""
   ]
  },
  {
   "cell_type": "code",
   "execution_count": 2,
   "metadata": {},
   "outputs": [
    {
     "data": {
      "text/plain": [
       "'TRUE,91\\nTRUE,23\\nTRUE,76\\nFALSE,48\\nFALSE,36\\nFALSE,36\\nTRUE,92\\nTRUE,88\\nTRUE,51\\nFALSE,10\\nFALSE,28\\nFALSE,62\\nTRUE,75\\nTRUE,80\\nTRUE,54\\nFALSE,72\\nFALSE,22\\nFALSE,50\\nFALSE,12\\nTRUE,29\\nTRUE,59\\nTRUE,78\\nFALSE,32\\nTRUE,93'"
      ]
     },
     "execution_count": 2,
     "metadata": {},
     "output_type": "execute_result"
    }
   ],
   "source": [
    "data"
   ]
  },
  {
   "cell_type": "code",
   "execution_count": 5,
   "metadata": {},
   "outputs": [
    {
     "data": {
      "text/html": [
       "<div>\n",
       "<style scoped>\n",
       "    .dataframe tbody tr th:only-of-type {\n",
       "        vertical-align: middle;\n",
       "    }\n",
       "\n",
       "    .dataframe tbody tr th {\n",
       "        vertical-align: top;\n",
       "    }\n",
       "\n",
       "    .dataframe thead th {\n",
       "        text-align: right;\n",
       "    }\n",
       "</style>\n",
       "<table border=\"1\" class=\"dataframe\">\n",
       "  <thead>\n",
       "    <tr style=\"text-align: right;\">\n",
       "      <th></th>\n",
       "      <th>Actual</th>\n",
       "      <th>Score</th>\n",
       "    </tr>\n",
       "  </thead>\n",
       "  <tbody>\n",
       "    <tr>\n",
       "      <th>0</th>\n",
       "      <td>True</td>\n",
       "      <td>91</td>\n",
       "    </tr>\n",
       "    <tr>\n",
       "      <th>1</th>\n",
       "      <td>True</td>\n",
       "      <td>23</td>\n",
       "    </tr>\n",
       "    <tr>\n",
       "      <th>2</th>\n",
       "      <td>True</td>\n",
       "      <td>76</td>\n",
       "    </tr>\n",
       "    <tr>\n",
       "      <th>3</th>\n",
       "      <td>False</td>\n",
       "      <td>48</td>\n",
       "    </tr>\n",
       "    <tr>\n",
       "      <th>4</th>\n",
       "      <td>False</td>\n",
       "      <td>36</td>\n",
       "    </tr>\n",
       "    <tr>\n",
       "      <th>5</th>\n",
       "      <td>False</td>\n",
       "      <td>36</td>\n",
       "    </tr>\n",
       "    <tr>\n",
       "      <th>6</th>\n",
       "      <td>True</td>\n",
       "      <td>92</td>\n",
       "    </tr>\n",
       "    <tr>\n",
       "      <th>7</th>\n",
       "      <td>True</td>\n",
       "      <td>88</td>\n",
       "    </tr>\n",
       "    <tr>\n",
       "      <th>8</th>\n",
       "      <td>True</td>\n",
       "      <td>51</td>\n",
       "    </tr>\n",
       "    <tr>\n",
       "      <th>9</th>\n",
       "      <td>False</td>\n",
       "      <td>10</td>\n",
       "    </tr>\n",
       "    <tr>\n",
       "      <th>10</th>\n",
       "      <td>False</td>\n",
       "      <td>28</td>\n",
       "    </tr>\n",
       "    <tr>\n",
       "      <th>11</th>\n",
       "      <td>False</td>\n",
       "      <td>62</td>\n",
       "    </tr>\n",
       "    <tr>\n",
       "      <th>12</th>\n",
       "      <td>True</td>\n",
       "      <td>75</td>\n",
       "    </tr>\n",
       "    <tr>\n",
       "      <th>13</th>\n",
       "      <td>True</td>\n",
       "      <td>80</td>\n",
       "    </tr>\n",
       "    <tr>\n",
       "      <th>14</th>\n",
       "      <td>True</td>\n",
       "      <td>54</td>\n",
       "    </tr>\n",
       "    <tr>\n",
       "      <th>15</th>\n",
       "      <td>False</td>\n",
       "      <td>72</td>\n",
       "    </tr>\n",
       "    <tr>\n",
       "      <th>16</th>\n",
       "      <td>False</td>\n",
       "      <td>22</td>\n",
       "    </tr>\n",
       "    <tr>\n",
       "      <th>17</th>\n",
       "      <td>False</td>\n",
       "      <td>50</td>\n",
       "    </tr>\n",
       "    <tr>\n",
       "      <th>18</th>\n",
       "      <td>False</td>\n",
       "      <td>12</td>\n",
       "    </tr>\n",
       "    <tr>\n",
       "      <th>19</th>\n",
       "      <td>True</td>\n",
       "      <td>29</td>\n",
       "    </tr>\n",
       "    <tr>\n",
       "      <th>20</th>\n",
       "      <td>True</td>\n",
       "      <td>59</td>\n",
       "    </tr>\n",
       "    <tr>\n",
       "      <th>21</th>\n",
       "      <td>True</td>\n",
       "      <td>78</td>\n",
       "    </tr>\n",
       "    <tr>\n",
       "      <th>22</th>\n",
       "      <td>False</td>\n",
       "      <td>32</td>\n",
       "    </tr>\n",
       "    <tr>\n",
       "      <th>23</th>\n",
       "      <td>True</td>\n",
       "      <td>93</td>\n",
       "    </tr>\n",
       "  </tbody>\n",
       "</table>\n",
       "</div>"
      ],
      "text/plain": [
       "    Actual  Score\n",
       "0     True     91\n",
       "1     True     23\n",
       "2     True     76\n",
       "3    False     48\n",
       "4    False     36\n",
       "5    False     36\n",
       "6     True     92\n",
       "7     True     88\n",
       "8     True     51\n",
       "9    False     10\n",
       "10   False     28\n",
       "11   False     62\n",
       "12    True     75\n",
       "13    True     80\n",
       "14    True     54\n",
       "15   False     72\n",
       "16   False     22\n",
       "17   False     50\n",
       "18   False     12\n",
       "19    True     29\n",
       "20    True     59\n",
       "21    True     78\n",
       "22   False     32\n",
       "23    True     93"
      ]
     },
     "execution_count": 5,
     "metadata": {},
     "output_type": "execute_result"
    }
   ],
   "source": [
    "# Create a DataFrame\n",
    "from io import StringIO\n",
    "df = pd.read_csv(StringIO(data), header=None, names=[\"Actual\", \"Score\"])\n",
    "df"
   ]
  },
  {
   "cell_type": "code",
   "execution_count": 9,
   "metadata": {},
   "outputs": [
    {
     "name": "stdout",
     "output_type": "stream",
     "text": [
      "Best threshold: 93, Best accuracy: 0.9583333333333334\n"
     ]
    }
   ],
   "source": [
    "df['True_label_Num'] = df['Actual'].apply(lambda x: 1 if x == 'TRUE' else 0)\n",
    "\n",
    "# Find the optimal threshold\n",
    "unique_scores = sorted(df['Score'].unique())  # Get unique score values\n",
    "\n",
    "\n",
    "# Define a function to calculate accuracy at a given threshold\n",
    "def calculate_accuracy(boundary):\n",
    "    # Predict True for scores >= threshold, False otherwise\n",
    "    df['Predicted'] = df['Score'].apply(lambda x:1 if x>= boundary else 0)\n",
    "    correct_predictions = (df['Predicted'] == df['True_label_Num']).sum()\n",
    "    # Calculate accuracy\n",
    "    accuracy = correct_predictions/len(df)\n",
    "    return accuracy\n",
    "\n",
    "\n",
    "best_threshold = None\n",
    "best_accuracy = 0\n",
    "\n",
    "# Loop through each unique score and calculate accuracy\n",
    "for threshold in unique_scores:\n",
    "    accuracy = calculate_accuracy(threshold)\n",
    "    if accuracy > best_accuracy:\n",
    "        best_accuracy = accuracy\n",
    "        best_threshold = threshold\n",
    "\n",
    "print(f\"Best threshold: {best_threshold}, Best accuracy: {best_accuracy}\")\n"
   ]
  },
  {
   "cell_type": "markdown",
   "metadata": {},
   "source": [
    "### if condition, platform changes speed"
   ]
  },
  {
   "cell_type": "code",
   "execution_count": 1,
   "metadata": {},
   "outputs": [
    {
     "name": "stdout",
     "output_type": "stream",
     "text": [
      "75\n"
     ]
    }
   ],
   "source": [
    "def calculate_final_speed(initial_speed, inclinations):\n",
    "        \n",
    "    # check the initial speed is a positive number\n",
    "    if initial_speed == 0:\n",
    "        return 0\n",
    "    # # check the inclinations are numbers\n",
    "    # for i in inclinations:\n",
    "    #     if not isinstance(i, (int, float)):\n",
    "    #         raise ValueError(\"Inclinations must be numbers\")\n",
    "    # check the inclinations are between -90 and 90\n",
    "    # if not all(-90 <= i <= 90 for i in inclinations):\n",
    "    #     raise ValueError(\"Inclinations must be between -90 and 90\")\n",
    "    final_speed = initial_speed\n",
    "    # speed will decrease proportionally to the sin of the inclination (if inclination is positive - uphill, if 30, then 1/2 the original speed)\n",
    "    # speed will increase as the angle is negative (downhill, if -45 degree, then + 45 to previous speed))\n",
    "    # speed will be 0 if the inclination is 90\n",
    "    # speed will be 0 if the inclination is -90\n",
    "    # speed will be no changes if the inclination is 0  \n",
    "    for i in inclinations:\n",
    "        if i == 90 or i == -90:\n",
    "            final_speed = 0\n",
    "            break\n",
    "        elif i > 0:  # Uphill, reduce speed based on sine of the angle\n",
    "            final_speed -= i\n",
    "        elif i < 0:  # Downhill, increase speed by the absolute value of the inclination\n",
    "            final_speed += abs(i)\n",
    "\n",
    "        # Ensure speed does not go below zero\n",
    "        if final_speed < 0:\n",
    "            final_speed = 0\n",
    "\n",
    "    return final_speed\n",
    "\n",
    "\n",
    "\n",
    "print(calculate_final_speed(60, [0, 30, 0, -45, 0]))"
   ]
  },
  {
   "cell_type": "code",
   "execution_count": 2,
   "metadata": {},
   "outputs": [
    {
     "name": "stdout",
     "output_type": "stream",
     "text": [
      "0\n"
     ]
    }
   ],
   "source": [
    "print(calculate_final_speed(60, [0, 30, 0, -45, 90]))"
   ]
  },
  {
   "cell_type": "markdown",
   "metadata": {},
   "source": [
    "### if condition, discount"
   ]
  },
  {
   "cell_type": "code",
   "execution_count": 3,
   "metadata": {},
   "outputs": [
    {
     "name": "stdout",
     "output_type": "stream",
     "text": [
      "82.0\n"
     ]
    }
   ],
   "source": [
    "from enum import Enum, auto\n",
    "\n",
    "class DiscountType(Enum):\n",
    "    STANDARD = auto()\n",
    "    # any weight, 6% discount\n",
    "    SEASONAL = auto()\n",
    "    # any weight, 12% discount\n",
    "    WEIGHT = auto()\n",
    "    # if weight <= 10, then 6% discount\n",
    "    # if weight > 10, then 18% discount\n",
    "\n",
    "def get_discounted_price(cart_weight, total_price, discount_type):\n",
    "    discount = 0\n",
    "\n",
    "    if discount_type == DiscountType.STANDARD:\n",
    "        discount = 0.06  # 6% discount\n",
    "    elif discount_type == DiscountType.SEASONAL:\n",
    "        discount = 0.12  # 12% discount\n",
    "    elif discount_type == DiscountType.WEIGHT:\n",
    "        if cart_weight <= 10:\n",
    "            discount = 0.06  # 6% discount\n",
    "        else:\n",
    "            discount = 0.18  # 18% discount\n",
    "    \n",
    "    # Apply the discount to the total price\n",
    "    discounted_price = total_price * (1 - discount)\n",
    "    \n",
    "    return discounted_price\n",
    "\n",
    "print(get_discounted_price(12, 100, DiscountType.WEIGHT))"
   ]
  },
  {
   "cell_type": "code",
   "execution_count": null,
   "metadata": {},
   "outputs": [],
   "source": []
  }
 ],
 "metadata": {
  "kernelspec": {
   "display_name": "Python 3",
   "language": "python",
   "name": "python3"
  },
  "language_info": {
   "codemirror_mode": {
    "name": "ipython",
    "version": 3
   },
   "file_extension": ".py",
   "mimetype": "text/x-python",
   "name": "python",
   "nbconvert_exporter": "python",
   "pygments_lexer": "ipython3",
   "version": "3.10.12"
  },
  "orig_nbformat": 4
 },
 "nbformat": 4,
 "nbformat_minor": 2
}
